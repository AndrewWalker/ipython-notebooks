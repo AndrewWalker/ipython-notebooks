{
 "cells": [
  {
   "cell_type": "markdown",
   "metadata": {},
   "source": [
    "# Scipy.weave \n",
    "\n",
    "Wrapping a function from CGAL\n",
    "\n",
    "- some linker options configured for a local install of miniconda\n",
    "- assumes that CGAL is installed"
   ]
  },
  {
   "cell_type": "code",
   "execution_count": 28,
   "metadata": {
    "collapsed": true
   },
   "outputs": [],
   "source": [
    "%matplotlib inline\n",
    "import matplotlib.pyplot as plt\n",
    "import scipy.weave\n",
    "import numpy as np\n",
    "import os"
   ]
  },
  {
   "cell_type": "code",
   "execution_count": 25,
   "metadata": {
    "collapsed": false
   },
   "outputs": [],
   "source": [
    "def minkowski_sum(p, q):\n",
    "    out = []\n",
    "    code = '''\n",
    "    struct Kernel : public CGAL::Exact_predicates_exact_constructions_kernel {};\n",
    "    typedef Kernel::Point_2                               Point_2;\n",
    "    typedef CGAL::Polygon_2<Kernel>                       Polygon_2;\n",
    "    typedef CGAL::Polygon_with_holes_2<Kernel>            Polygon_with_holes_2;\n",
    "    Polygon_2 P;\n",
    "    Polygon_2 Q;\n",
    "    for(int i = 0; i < Np[0]; i++)\n",
    "    {\n",
    "        P.push_back(Point_2(P2(i,0), P2(i,1)));\n",
    "    }\n",
    "    for(int i = 0; i < Nq[0]; i++)\n",
    "    {\n",
    "        Q.push_back(Point_2(Q2(i,0), Q2(i,1)));\n",
    "    }\n",
    "    Polygon_with_holes_2  sum = minkowski_sum_2(P, Q);\n",
    "    auto ob = sum.outer_boundary();\n",
    "    for(int i = 0; i < ob.size(); i++)\n",
    "    {\n",
    "        Point_2 pt = ob.vertex(i);\n",
    "        py::list t(2);\n",
    "        t[0] = py::object( CGAL::to_double(pt.x()) );\n",
    "        t[1] = py::object( CGAL::to_double(pt.y()) );\n",
    "        out.append( t );\n",
    "    }\n",
    "    '''\n",
    "    incpath = [\n",
    "        os.path.expanduser('~/miniconda')\n",
    "    ]\n",
    "    libpath = os.path.expanduser('~/miniconda/lib')ß\n",
    "    scipy.weave.inline(code = code, \n",
    "                       verbose=2,\n",
    "                       arg_names = ['p', 'q', 'out'],\n",
    "                       extra_compile_args = [\n",
    "                            '-fcolor-diagnostics', \n",
    "                            '-std=c++11'\n",
    "                            \n",
    "                       ],\n",
    "                       extra_link_args = [\n",
    "                            '-rpath ' + libpath\n",
    "                       ],\n",
    "                       headers = [\n",
    "                            '<CGAL/Exact_predicates_exact_constructions_kernel.h>',\n",
    "                            '<CGAL/Cartesian.h>',\n",
    "                            '<CGAL/minkowski_sum_2.h>',\n",
    "                       ],\n",
    "                       libraries = ['CGAL'],\n",
    "                       include_dirs = incpath)\n",
    "    return np.array(out)\n",
    "\n",
    "p = np.array([\n",
    "        [0.0, 0.0],\n",
    "        [1.0, 0.0],\n",
    "        [1.0, 1.0],\n",
    "        [0.0, 1.0],\n",
    "    ])\n",
    "q = np.array([\n",
    "        [-0.5, 0.0],\n",
    "        [ 0.5, 0.0],\n",
    "        [ 0.0, 1.0],\n",
    "    ])\n",
    "\n"
   ]
  },
  {
   "cell_type": "code",
   "execution_count": 29,
   "metadata": {
    "collapsed": false
   },
   "outputs": [
    {
     "name": "stdout",
     "output_type": "stream",
     "text": [
      "/Users/walkera/miniconda/lib\n"
     ]
    },
    {
     "data": {
      "text/plain": [
       "[<matplotlib.lines.Line2D at 0x106554a90>]"
      ]
     },
     "execution_count": 29,
     "metadata": {},
     "output_type": "execute_result"
    },
    {
     "data": {
      "image/png": "[encoded data removed]",
      "text/plain": [
       "<matplotlib.figure.Figure at 0x104ea3bd0>"
      ]
     },
     "metadata": {},
     "output_type": "display_data"
    }
   ],
   "source": [
    "out = minkowski_sum(p, q)\n",
    "plt.plot(out[:,0], out[:,1])"
   ]
  },
  {
   "cell_type": "code",
   "execution_count": null,
   "metadata": {
    "collapsed": true
   },
   "outputs": [],
   "source": []
  }
 ],
 "metadata": {
  "kernelspec": {
   "display_name": "Python 2",
   "language": "python",
   "name": "python2"
  },
  "language_info": {
   "codemirror_mode": {
    "name": "ipython",
    "version": 2
   },
   "file_extension": ".py",
   "mimetype": "text/x-python",
   "name": "python",
   "nbconvert_exporter": "python",
   "pygments_lexer": "ipython2",
   "version": "2.7.10"
  }
 },
 "nbformat": 4,
 "nbformat_minor": 0
}
