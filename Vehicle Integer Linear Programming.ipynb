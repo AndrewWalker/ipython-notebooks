{
 "cells": [
  {
   "cell_type": "markdown",
   "metadata": {},
   "source": [
    "# Mixed Integer Linear Programming\n",
    "\n",
    "## Planar Spacecraft with Two Thrusters\n",
    "\n",
    "Based on the MIT notes for 16.410 Principles of Autonomy and Decision Making, [\"Lecture 18: (Mixed-Integer) Linear Programming for Vehicle Routing and Motion Planning\"](http://ocw.mit.edu/courses/aeronautics-and-astronautics/16-410-principles-of-autonomy-and-decision-making-fall-2010/lecture-notes/MIT16_410F10_lec18.pdf) by Emilio Frazolli, November 15, 2010.\n",
    "\n",
    "Those notes describe a planar vehicle with four thrusters.\n",
    "\n",
    "The basic structure of a linear dynamics model is $\\dot{x} = A x + B u$\n",
    "\n",
    "$$\n",
    "\\begin{bmatrix}\n",
    "x_1(t +\\Delta t)) \\\\ \n",
    "x_2(t +\\Delta t) \\\\ \n",
    "\\dot{x}_1(t +\\Delta t) \\\\ \n",
    "\\dot{x}_1(t +\\Delta t)\n",
    "\\end{bmatrix} = \n",
    "\\begin{bmatrix}\n",
    "1 & 0 & \\Delta t & 0 \\\\ \n",
    "0 & 1 & 0 & \\Delta t \\\\ \n",
    "0 & 0 & 1 & 0 \\\\ \n",
    "0 & 0 & 0 & 1\n",
    "\\end{bmatrix}\n",
    "\\begin{bmatrix}\n",
    "x_1(t))\\\\ \n",
    "x_2(t)\\\\ \n",
    "\\dot{x}_1(t)\\\\ \n",
    "\\dot{x}_1(t)\n",
    "\\end{bmatrix} \n",
    "+\n",
    "\\begin{bmatrix}\n",
    "\\frac{1}{2}\\Delta t^2 & 0 & -\\frac{1}{2}\\Delta t^2 & 0\\\\ \n",
    "0 & \\frac{1}{2}\\Delta t^2 & 0 & -\\frac{1}{2}\\Delta t^2 \\\\ \n",
    "\\Delta t & 0 & \\Delta t & 0\\\\ \n",
    "0 & \\Delta t & 0 & \\Delta t\n",
    "\\end{bmatrix}\n",
    "\\begin{bmatrix}\n",
    "u_1^+(t))\\\\ \n",
    "u_2^+(t)\\\\ \n",
    "u_1^-(t))\\\\ \n",
    "u_2^-(t)\n",
    "\\end{bmatrix} \n",
    "$$"
   ]
  },
  {
   "cell_type": "code",
   "execution_count": 2,
   "metadata": {
    "collapsed": true
   },
   "outputs": [],
   "source": [
    "# This notebook has been built using conda, which ships with most important science packages in the Python ecosystem\n",
    "# We need a Mixed Integer Linear Solver (GLPK is somewhat of an arbitrary choice). Unfortunately isn't a standard \n",
    "# part of cvxopt in conda. For the purposes of this notebook, it was built it separately, and I then pip installed\n",
    "# cvxopt afterwards.\n",
    "import cvxopt.glpk\n",
    "import numpy as np"
   ]
  },
  {
   "cell_type": "code",
   "execution_count": 9,
   "metadata": {
    "collapsed": false
   },
   "outputs": [],
   "source": [
    "# implementation of the dynamics models\n",
    "dt = 0.1\n",
    "A = np.array([[1.0, 0.0, dt, 0.0],\n",
    "              [0.0, 1.0, 0.0, dt],\n",
    "              [0.0, 0.0, 1.0, 0.0],\n",
    "              [0.0, 0.0, 0.0, 1.0]])\n",
    "\n",
    "B = np.array([[0.5 * dt**2, 0.0, -0.5 * dt**2, 0.0],\n",
    "              [0.0, 0.5 * dt**2, 0.0, -0.5 * dt**2],\n",
    "              [dt, 0.0, dt, 0.0],\n",
    "              [0.0, dt, 0.0, dt]])"
   ]
  },
  {
   "cell_type": "code",
   "execution_count": 10,
   "metadata": {
    "collapsed": false
   },
   "outputs": [
    {
     "name": "stdout",
     "output_type": "stream",
     "text": [
      "[[ 1.   0.   0.1  0. ]\n",
      " [ 0.   1.   0.   0.1]\n",
      " [ 0.   0.   1.   0. ]\n",
      " [ 0.   0.   0.   1. ]]\n",
      "[[ 0.005  0.    -0.005  0.   ]\n",
      " [ 0.     0.005  0.    -0.005]\n",
      " [ 0.1    0.     0.1    0.   ]\n",
      " [ 0.     0.1    0.     0.1  ]]\n"
     ]
    }
   ],
   "source": [
    "print A\n",
    "print B"
   ]
  },
  {
   "cell_type": "code",
   "execution_count": 8,
   "metadata": {
    "collapsed": false
   },
   "outputs": [],
   "source": [
    "# initial state\n",
    "x0 = np.matrix([[5.0, -3.0, 0.0, 0.0]]).T"
   ]
  },
  {
   "cell_type": "code",
   "execution_count": 11,
   "metadata": {
    "collapsed": false
   },
   "outputs": [
    {
     "name": "stdout",
     "output_type": "stream",
     "text": [
      "[[ 5.]\n",
      " [-3.]\n",
      " [ 0.]\n",
      " [ 0.]]\n"
     ]
    }
   ],
   "source": [
    "print x0"
   ]
  },
  {
   "cell_type": "code",
   "execution_count": 14,
   "metadata": {
    "collapsed": false
   },
   "outputs": [],
   "source": [
    "# number of timesteps\n",
    "n =40\n",
    "\n",
    "# see Terminal constraints on slide 18\n",
    "x = (n-1) - np.arange(n)\n",
    "x = [ np.dot(np.linalg.matrix_power(A, i), B) for i in x]\n",
    "x = np.hstack(x)"
   ]
  },
  {
   "cell_type": "code",
   "execution_count": 18,
   "metadata": {
    "collapsed": true
   },
   "outputs": [],
   "source": [
    "# glpk.lp reference \n",
    "#\n",
    "# Solves a linear program using GLPK.\n",
    "#\n",
    "# (status, x, z, y) = lp(c, G, h, A, b)\n",
    "# (status, x, z) = lp(c, G, h)\n",
    "#\n",
    "# PURPOSE\n",
    "# (status, x, z, y) = lp(c, G, h, A, b) solves the pair of primal and\n",
    "# dual LPs\n",
    "#\n",
    "#    minimize    c'*x            maximize    -h'*z + b'*y\n",
    "#    subject to  G*x <= h        subject to  G'*z + A'*y + c = 0\n",
    "#                A*x = b                     z >= 0.\n",
    "#\n",
    "#(status, x, z) = lp(c, G, h) solves the pair of primal and dual LPs\n",
    "#\n",
    "#    minimize    c'*x            maximize    -h'*z \n",
    "#    subject to  G*x <= h        subject to  G'*z + c = 0\n",
    "#                                            z >= 0."
   ]
  },
  {
   "cell_type": "code",
   "execution_count": null,
   "metadata": {
    "collapsed": true
   },
   "outputs": [],
   "source": [
    "# Constraints.\n",
    "# Starting with a really simple set of constraints - every control input |u| < 1\n"
   ]
  },
  {
   "cell_type": "code",
   "execution_count": 15,
   "metadata": {
    "collapsed": false
   },
   "outputs": [
    {
     "ename": "ValueError",
     "evalue": "incompatible dimensions",
     "output_type": "error",
     "traceback": [
      "\u001b[0;31m---------------------------------------------------------------------------\u001b[0m",
      "\u001b[0;31mValueError\u001b[0m                                Traceback (most recent call last)",
      "\u001b[0;32m<ipython-input-15-f0f58b863d68>\u001b[0m in \u001b[0;36m<module>\u001b[0;34m()\u001b[0m\n\u001b[1;32m      7\u001b[0m \u001b[0m_A\u001b[0m \u001b[0;34m=\u001b[0m \u001b[0mcvxopt\u001b[0m\u001b[0;34m.\u001b[0m\u001b[0mmatrix\u001b[0m\u001b[0;34m(\u001b[0m\u001b[0mx\u001b[0m\u001b[0;34m)\u001b[0m\u001b[0;34m\u001b[0m\u001b[0m\n\u001b[1;32m      8\u001b[0m \u001b[0m_b\u001b[0m \u001b[0;34m=\u001b[0m \u001b[0mcvxopt\u001b[0m\u001b[0;34m.\u001b[0m\u001b[0mmatrix\u001b[0m\u001b[0;34m(\u001b[0m\u001b[0;34m-\u001b[0m\u001b[0mnp\u001b[0m\u001b[0;34m.\u001b[0m\u001b[0mdot\u001b[0m\u001b[0;34m(\u001b[0m\u001b[0mA\u001b[0m\u001b[0;34m,\u001b[0m \u001b[0mx0\u001b[0m\u001b[0;34m)\u001b[0m\u001b[0;34m)\u001b[0m\u001b[0;34m\u001b[0m\u001b[0m\n\u001b[0;32m----> 9\u001b[0;31m \u001b[0ms\u001b[0m\u001b[0;34m,\u001b[0m \u001b[0mu\u001b[0m\u001b[0;34m,\u001b[0m \u001b[0mz\u001b[0m\u001b[0;34m,\u001b[0m \u001b[0my\u001b[0m \u001b[0;34m=\u001b[0m \u001b[0mcvxopt\u001b[0m\u001b[0;34m.\u001b[0m\u001b[0mglpk\u001b[0m\u001b[0;34m.\u001b[0m\u001b[0mlp\u001b[0m\u001b[0;34m(\u001b[0m\u001b[0m_c\u001b[0m\u001b[0;34m,\u001b[0m \u001b[0m_G\u001b[0m\u001b[0;34m,\u001b[0m \u001b[0m_h\u001b[0m\u001b[0;34m,\u001b[0m \u001b[0m_A\u001b[0m\u001b[0;34m,\u001b[0m \u001b[0m_b\u001b[0m\u001b[0;34m)\u001b[0m\u001b[0;34m\u001b[0m\u001b[0m\n\u001b[0m",
      "\u001b[0;31mValueError\u001b[0m: incompatible dimensions"
     ]
    }
   ],
   "source": [
    "G = np.vstack([np.identity(n), -np.identity(n)])\n",
    "h = 2 * np.ones((2*n, 1))\n",
    "\n",
    "_c = cvxopt.matrix(np.ones(n))\n",
    "_G = cvxopt.matrix(G)\n",
    "_h = cvxopt.matrix(h)\n",
    "_A = cvxopt.matrix(x)\n",
    "_b = cvxopt.matrix(-np.dot(A, x0))\n",
    "s, u, z, y = cvxopt.glpk.lp(_c, _G, _h, _A, _b)\n"
   ]
  },
  {
   "cell_type": "code",
   "execution_count": 16,
   "metadata": {
    "collapsed": false
   },
   "outputs": [
    {
     "ename": "NameError",
     "evalue": "name 'u' is not defined",
     "output_type": "error",
     "traceback": [
      "\u001b[0;31m---------------------------------------------------------------------------\u001b[0m",
      "\u001b[0;31mNameError\u001b[0m                                 Traceback (most recent call last)",
      "\u001b[0;32m<ipython-input-16-14224f24864e>\u001b[0m in \u001b[0;36m<module>\u001b[0;34m()\u001b[0m\n\u001b[1;32m      1\u001b[0m \u001b[0mx\u001b[0m \u001b[0;34m=\u001b[0m \u001b[0mx0\u001b[0m\u001b[0;34m.\u001b[0m\u001b[0mcopy\u001b[0m\u001b[0;34m(\u001b[0m\u001b[0;34m)\u001b[0m\u001b[0;34m\u001b[0m\u001b[0m\n\u001b[1;32m      2\u001b[0m \u001b[0;34m\u001b[0m\u001b[0m\n\u001b[0;32m----> 3\u001b[0;31m \u001b[0;32mfor\u001b[0m \u001b[0mui\u001b[0m \u001b[0;32min\u001b[0m \u001b[0mu\u001b[0m\u001b[0;34m:\u001b[0m\u001b[0;34m\u001b[0m\u001b[0m\n\u001b[0m\u001b[1;32m      4\u001b[0m     \u001b[0mx\u001b[0m \u001b[0;34m=\u001b[0m \u001b[0mnp\u001b[0m\u001b[0;34m.\u001b[0m\u001b[0mdot\u001b[0m\u001b[0;34m(\u001b[0m\u001b[0mA\u001b[0m\u001b[0;34m,\u001b[0m \u001b[0mx\u001b[0m\u001b[0;34m)\u001b[0m \u001b[0;34m+\u001b[0m \u001b[0mnp\u001b[0m\u001b[0;34m.\u001b[0m\u001b[0mdot\u001b[0m\u001b[0;34m(\u001b[0m\u001b[0mB\u001b[0m\u001b[0;34m,\u001b[0m \u001b[0mui\u001b[0m\u001b[0;34m)\u001b[0m\u001b[0;34m\u001b[0m\u001b[0m\n\u001b[1;32m      5\u001b[0m     \u001b[0;31m#print x\u001b[0m\u001b[0;34m\u001b[0m\u001b[0;34m\u001b[0m\u001b[0m\n",
      "\u001b[0;31mNameError\u001b[0m: name 'u' is not defined"
     ]
    }
   ],
   "source": [
    "x = x0.copy()\n",
    "\n",
    "for ui in u:\n",
    "    x = np.dot(A, x) + np.dot(B, ui)\n",
    "    #print x"
   ]
  },
  {
   "cell_type": "code",
   "execution_count": 69,
   "metadata": {
    "collapsed": false
   },
   "outputs": [
    {
     "name": "stdout",
     "output_type": "stream",
     "text": [
      "2.0\n",
      "2.0\n",
      "2.0\n",
      "2.0\n",
      "2.0\n",
      "2.0\n",
      "2.0\n",
      "1.52\n",
      "0.0\n",
      "0.0\n",
      "0.0\n",
      "0.0\n",
      "0.0\n",
      "0.0\n",
      "0.0\n",
      "0.0\n",
      "0.0\n",
      "0.0\n",
      "0.0\n",
      "0.0\n",
      "0.0\n",
      "0.0\n",
      "0.0\n",
      "0.0\n",
      "0.0\n",
      "0.0\n",
      "0.0\n",
      "0.0\n",
      "0.0\n",
      "0.0\n",
      "0.0\n",
      "0.0\n",
      "-1.52\n",
      "-2.0\n",
      "-2.0\n",
      "-2.0\n",
      "-2.0\n",
      "-2.0\n",
      "-2.0\n",
      "-2.0\n"
     ]
    }
   ],
   "source": [
    "for ui in u:\n",
    "    print ui"
   ]
  },
  {
   "cell_type": "code",
   "execution_count": null,
   "metadata": {
    "collapsed": true
   },
   "outputs": [],
   "source": []
  }
 ],
 "metadata": {
  "kernelspec": {
   "display_name": "Python 2",
   "language": "python",
   "name": "python2"
  },
  "language_info": {
   "codemirror_mode": {
    "name": "ipython",
    "version": 2
   },
   "file_extension": ".py",
   "mimetype": "text/x-python",
   "name": "python",
   "nbconvert_exporter": "python",
   "pygments_lexer": "ipython2",
   "version": "2.7.10"
  }
 },
 "nbformat": 4,
 "nbformat_minor": 0
}
