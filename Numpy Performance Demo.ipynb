{
 "metadata": {
  "name": "",
  "signature": "sha256:b06f8153bb793b3f9e5fb6c663b70ba1a4317a2813bdb8f348e3bb87b36dffcc"
 },
 "nbformat": 3,
 "nbformat_minor": 0,
 "worksheets": [
  {
   "cells": [
    {
     "cell_type": "markdown",
     "metadata": {},
     "source": [
      "# Numpy Performance Demo\n",
      "\n",
      "I have a numpy array where each element is a tuple with 3 values. I want to iterate over each value and change them based on some hard-coded limits (e.g., if the difference between the first two values in the tuple is 3 or more).\n",
      "\n",
      "What's the fastest way to do that?"
     ]
    },
    {
     "cell_type": "code",
     "collapsed": false,
     "input": [
      "import numpy as np"
     ],
     "language": "python",
     "metadata": {},
     "outputs": [],
     "prompt_number": 2
    },
    {
     "cell_type": "markdown",
     "metadata": {},
     "source": [
      "## Comment on the Question\n",
      "\n",
      "I'm pretty sure that the definition of the question implies this, but make sure that when you're using arrays to represent tabular data, rows represent records and columns respresent fields within a record. The first index in the slice will be the row, and the second will be the column.\n",
      "\n",
      "## Obvious Answer\n",
      "\n",
      "The obvious answer is - it depends.\n",
      "\n",
      "There isn't enough information in the question to make a really good answer. The two main issues are, \"how big is the array?\" and how will you \"change\" those elements which leads to the subquestion - \"is there a sensible way to vectorize that operation\". So rather than guessing, let's choose a reasonable starting point, and use that as a baseline. We'll start with a (very) modest sized array (10, 3), and an easy to vectorise change function"
     ]
    },
    {
     "cell_type": "code",
     "collapsed": false,
     "input": [
      "def naive(xs, f):\n",
      "    nrows, ncols = xs.shape\n",
      "    for i in xrange(nrows):\n",
      "        u, v, w = xs[i, :]\n",
      "        if abs(u-v) < 3:\n",
      "            xs[i, 2] = f(u, v, w)\n",
      "    return xs\n",
      "\n",
      "def basic_numpy(xs, f):\n",
      "    # t1.shape (xs.shape[0]), t1.dtype = xs.dtype\n",
      "    t1 = np.abs(xs[:,0]-xs[:,1])\n",
      "    # t2.shape (xs.shape[0]), t1.dtype = bool\n",
      "    t2 = t1 < 3\n",
      "    t3 = np.where(t2)[0]\n",
      "    xs[t3, 2] = f(xs[t3,0], xs[t3,1], xs[t3,2])\n",
      "    return xs"
     ],
     "language": "python",
     "metadata": {},
     "outputs": [],
     "prompt_number": 3
    },
    {
     "cell_type": "code",
     "collapsed": false,
     "input": [
      "xs = np.random.randint(low = -3, high = 3, size = (10, 3))\n",
      "%timeit ys = naive(xs.copy(), lambda u, v, w : w**2)\n",
      "%timeit zs = basic_numpy(xs.copy(), lambda u, v, w : w**2)"
     ],
     "language": "python",
     "metadata": {},
     "outputs": [
      {
       "output_type": "stream",
       "stream": "stdout",
       "text": [
        "10000 loops, best of 3: 36.5 \u00b5s per loop\n",
        "10000 loops, best of 3: 28 \u00b5s per loop"
       ]
      },
      {
       "output_type": "stream",
       "stream": "stdout",
       "text": [
        "\n"
       ]
      }
     ],
     "prompt_number": 4
    },
    {
     "cell_type": "code",
     "collapsed": false,
     "input": [
      "xs = np.random.randint(low = -3, high = 3, size = (1000, 3))\n",
      "%timeit ys = naive(xs.copy(), lambda u, v, w : w**2)\n",
      "%timeit zs = basic_numpy(xs.copy(), lambda u, v, w : w**2)"
     ],
     "language": "python",
     "metadata": {},
     "outputs": [
      {
       "output_type": "stream",
       "stream": "stdout",
       "text": [
        "100 loops, best of 3: 3.73 ms per loop\n",
        "10000 loops, best of 3: 133 \u00b5s per loop"
       ]
      },
      {
       "output_type": "stream",
       "stream": "stdout",
       "text": [
        "\n"
       ]
      }
     ],
     "prompt_number": 5
    },
    {
     "cell_type": "code",
     "collapsed": false,
     "input": [
      "xs = np.random.randint(low = -3, high = 3, size = (10**5, 3))\n",
      "%timeit ys = naive(xs.copy(), lambda u, v, w : w**2)\n",
      "%timeit zs = basic_numpy(xs.copy(), lambda u, v, w : w**2)"
     ],
     "language": "python",
     "metadata": {},
     "outputs": [
      {
       "output_type": "stream",
       "stream": "stdout",
       "text": [
        "1 loops, best of 3: 359 ms per loop\n",
        "100 loops, best of 3: 12 ms per loop"
       ]
      },
      {
       "output_type": "stream",
       "stream": "stdout",
       "text": [
        "\n"
       ]
      }
     ],
     "prompt_number": 6
    },
    {
     "cell_type": "code",
     "collapsed": false,
     "input": [
      "xs = np.random.randint(low = -3, high = 3, size = (10**6, 3))\n",
      "%timeit ys = naive(xs.copy(), lambda u, v, w : w**2)\n",
      "%timeit zs = basic_numpy(xs.copy(), lambda u, v, w : w**2)"
     ],
     "language": "python",
     "metadata": {},
     "outputs": [
      {
       "output_type": "stream",
       "stream": "stdout",
       "text": [
        "1 loops, best of 3: 3.67 s per loop\n",
        "10 loops, best of 3: 119 ms per loop"
       ]
      },
      {
       "output_type": "stream",
       "stream": "stdout",
       "text": [
        "\n"
       ]
      }
     ],
     "prompt_number": 7
    },
    {
     "cell_type": "markdown",
     "metadata": {},
     "source": [
      "## Analysis\n",
      "\n",
      "As is so often the case with numpy, you tend not to see (much of) a performance difference until the size of the arrays are very large (typically on the order of $10^6$ elements). The python version is slow because everything is interpreted - the numpy version is faster because much of the work is done by native code libraries. The downside of leaning on numpy like this is that you gain performance by using a lot of memory (in the temporaries), I'm not an expert, but my guess is that at that point, it becomes quite difficult to allocate chunks of memory that large, which is why you don't see all of the performance gain you might be hoping for. \n",
      "\n",
      "The other disadvantage is that code ends up not looking anything like the original python version (although it probably is closer to what the equations would look like if you wrote them out). Also, the python version had the advantage that it didn't need any auxilary memory."
     ]
    },
    {
     "cell_type": "markdown",
     "metadata": {},
     "source": [
      "## Redux\n",
      "\n",
      "To go even faster, this highlights that one way to get a further performance improvement would be to write native code which required no auxilary memory. We could do that in a python extension module, but this isn't complex enough to justify that (at least for these tests) - it's also a bit of a hassle. Instead, we can choose to employ cython, which can code generate enough python glue to stop us making any serious mistakes, while giving the benefit of (near) native code."
     ]
    },
    {
     "cell_type": "code",
     "collapsed": false,
     "input": [
      "%load_ext cythonmagic"
     ],
     "language": "python",
     "metadata": {},
     "outputs": [],
     "prompt_number": 8
    },
    {
     "cell_type": "code",
     "collapsed": false,
     "input": [
      "%%cython\n",
      "#%%cython --annotate\n",
      "\n",
      "cimport cython\n",
      "import numpy as np\n",
      "cimport numpy as np\n",
      "\n",
      "DTYPE = np.int64\n",
      "ctypedef np.int64_t DTYPE_t\n",
      "\n",
      "@cython.boundscheck(False)\n",
      "@cython.wraparound(False)\n",
      "@cython.nonecheck(False)\n",
      "cdef _foo(np.ndarray[DTYPE_t, ndim=2] xs):\n",
      "    cdef int u\n",
      "    cdef int v\n",
      "    cdef int w\n",
      "    cdef int i\n",
      "    for i in range(xs.shape[0]):\n",
      "        u = xs[i, 0]\n",
      "        v = xs[i, 1]\n",
      "        w = xs[i, 2]\n",
      "        if abs(u-v) < 3:\n",
      "            xs[i, 2] = w**2\n",
      "    return xs\n",
      "\n",
      "def foo(xs):\n",
      "    return _foo(xs)"
     ],
     "language": "python",
     "metadata": {},
     "outputs": [],
     "prompt_number": 9
    },
    {
     "cell_type": "code",
     "collapsed": false,
     "input": [
      "xs = np.random.randint(low=-3, high= 3, size=(10**6,3))\n",
      "%timeit foo(xs)\n",
      "xs = np.random.randint(low=-3, high= 3, size=(10**7,3))\n",
      "%timeit foo(xs)\n",
      "xs = np.random.randint(low=-3, high= 3, size=(10**8,3))\n",
      "%timeit foo(xs)"
     ],
     "language": "python",
     "metadata": {},
     "outputs": [
      {
       "output_type": "stream",
       "stream": "stdout",
       "text": [
        "100 loops, best of 3: 6.37 ms per loop\n",
        "10 loops, best of 3: 63.6 ms per loop"
       ]
      },
      {
       "output_type": "stream",
       "stream": "stdout",
       "text": [
        "\n",
        "1 loops, best of 3: 634 ms per loop"
       ]
      },
      {
       "output_type": "stream",
       "stream": "stdout",
       "text": [
        "\n"
       ]
      }
     ],
     "prompt_number": 12
    },
    {
     "cell_type": "markdown",
     "metadata": {},
     "source": [
      "## Analysis Redux\n",
      "\n",
      "So this algorithm scales similarly to the Python version, but allows you to deal with array sizes that are almost two orders of magnitude larger in the same amount of time."
     ]
    },
    {
     "cell_type": "markdown",
     "metadata": {},
     "source": [
      "## Nit Picky Comment\n",
      "\n",
      "Just to be super nit-picky, slicing a numpy array can result in one of two alterantives, if you slice is a single element, you'll get a scalar type, or, if you slice out multiple elements, you'll get an array. "
     ]
    },
    {
     "cell_type": "code",
     "collapsed": false,
     "input": [
      "xs = np.random.randint(low = -3, high = 3, size = (10, 3))\n",
      "# These are three examples of slicing\n",
      "\n",
      "# scalar\n",
      "print type(xs[0,0])\n",
      "\n",
      "# array \n",
      "print type(xs[:,0]), 'of type', xs[:,0].dtype\n",
      "\n",
      "# array (special case, empty)\n",
      "print type(xs[0:0,0:0]), 'of shape', xs[0:0,0:0].shape, 'of type', xs[0:0,0:0].dtype"
     ],
     "language": "python",
     "metadata": {},
     "outputs": [
      {
       "output_type": "stream",
       "stream": "stdout",
       "text": [
        "<type 'numpy.int64'>\n",
        "<type 'numpy.ndarray'> of type int64\n",
        "<type 'numpy.ndarray'> of shape (0, 0) of type int64\n"
       ]
      }
     ],
     "prompt_number": 12
    },
    {
     "cell_type": "code",
     "collapsed": false,
     "input": [],
     "language": "python",
     "metadata": {},
     "outputs": []
    }
   ],
   "metadata": {}
  }
 ]
}