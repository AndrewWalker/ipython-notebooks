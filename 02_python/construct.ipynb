{
 "cells": [
  {
   "cell_type": "markdown",
   "metadata": {},
   "source": [
    "# Examples for the Construct Library\n",
    "\n",
    "This is a work-in-progress example of supplementing uses of the [construct](https://construct.readthedocs.io/en/latest/) library with defaults to support building objects. "
   ]
  },
  {
   "cell_type": "code",
   "execution_count": 85,
   "metadata": {
    "collapsed": true
   },
   "outputs": [],
   "source": [
    "from construct import *\n",
    "import binascii"
   ]
  },
  {
   "cell_type": "code",
   "execution_count": 166,
   "metadata": {
    "collapsed": false
   },
   "outputs": [
    {
     "name": "stdout",
     "output_type": "stream",
     "text": [
      "Container: \n",
      "    f = Container: \n",
      "        a = 255\n",
      "        b = 0\n",
      "        c = 1\n",
      "        d = cat\n",
      "        e = 0.0\n",
      "    g = Container: \n",
      "        a = 15\n",
      "        b = 0\n",
      "        c = 1\n",
      "        d = dog\n",
      "        e = 0.0\n"
     ]
    }
   ],
   "source": [
    "Moo = Enum(Byte,\n",
    "    cat=8, \n",
    "    dog=11,\n",
    "    default=8)\n",
    "\n",
    "Foo = Struct(\n",
    "    \"a\"/Default(Byte, 0),\n",
    "    \"b\"/Default(Byte, 0),\n",
    "    \"c\"/Default(Int32ul, 1),\n",
    "    \"d\"/Default(Moo, Moo.decdefault),\n",
    "    \"e\"/Default(Float32l, 0.0)\n",
    ")\n",
    "\n",
    "Bar = Struct(\n",
    "    \"f\"/Default(Foo, {}),\n",
    "    \"g\"/Default(Foo, {})\n",
    ")\n",
    "\n",
    "b = Bar.parse(Bar.build({}))\n",
    "b.f.a=0xff\n",
    "b.g.a=0x0f\n",
    "b.g.d='dog'\n",
    "print b\n"
   ]
  },
  {
   "cell_type": "code",
   "execution_count": 162,
   "metadata": {
    "collapsed": false
   },
   "outputs": [
    {
     "data": {
      "text/plain": [
       "11"
      ]
     },
     "execution_count": 162,
     "metadata": {},
     "output_type": "execute_result"
    }
   ],
   "source": [
    "Foo.sizeof()"
   ]
  },
  {
   "cell_type": "code",
   "execution_count": 163,
   "metadata": {
    "collapsed": false
   },
   "outputs": [
    {
     "data": {
      "text/plain": [
       "22"
      ]
     },
     "execution_count": 163,
     "metadata": {},
     "output_type": "execute_result"
    }
   ],
   "source": [
    "Bar.sizeof()"
   ]
  }
 ],
 "metadata": {
  "kernelspec": {
   "display_name": "Python 2",
   "language": "python",
   "name": "python2"
  },
  "language_info": {
   "codemirror_mode": {
    "name": "ipython",
    "version": 2
   },
   "file_extension": ".py",
   "mimetype": "text/x-python",
   "name": "python",
   "nbconvert_exporter": "python",
   "pygments_lexer": "ipython2",
   "version": "2.7.12"
  }
 },
 "nbformat": 4,
 "nbformat_minor": 1
}
