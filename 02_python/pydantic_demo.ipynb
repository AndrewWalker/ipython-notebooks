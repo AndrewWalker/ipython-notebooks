{
 "cells": [
  {
   "cell_type": "code",
   "execution_count": 57,
   "id": "3656dde9-e1ea-468f-a8ad-99517ca08cd4",
   "metadata": {},
   "outputs": [],
   "source": [
    "from dataclasses import asdict\n",
    "from pydantic.dataclasses import dataclass\n",
    "import pydantic.json\n",
    "import pydantic.tools\n",
    "from pydantic import BaseModel\n",
    "import json"
   ]
  },
  {
   "cell_type": "code",
   "execution_count": 69,
   "id": "33647491-4fe1-4732-85e5-ac43de96982c",
   "metadata": {},
   "outputs": [],
   "source": [
    "class Foo(BaseModel):\n",
    "    id: int\n",
    "    name: str\n",
    "\n",
    "class Bar(BaseModel):\n",
    "    cost: int\n",
    "    time: str\n",
    "\n",
    "class Baz(BaseModel):\n",
    "    desc : str\n",
    "    meep : Foo "
   ]
  },
  {
   "cell_type": "code",
   "execution_count": 80,
   "id": "1df68f77-cb1d-4346-a69d-7abc2a1f9784",
   "metadata": {},
   "outputs": [],
   "source": [
    "@dataclass\n",
    "class Foo:\n",
    "    id: int\n",
    "    name: str\n",
    "\n",
    "@dataclass\n",
    "class Bar:\n",
    "    cost: int\n",
    "    time: str\n",
    "\n",
    "@dataclass\n",
    "class Baz:\n",
    "    desc : str\n",
    "    meep : Foo | Bar"
   ]
  },
  {
   "cell_type": "code",
   "execution_count": 86,
   "id": "818f0989-15c6-4d9d-b59a-59902c0978c8",
   "metadata": {},
   "outputs": [],
   "source": [
    "o1 = Baz(desc='hello', meep=Foo(id = 1, name = 'fizz'))\n",
    "o2 = Baz(desc='nope', meep=Bar(cost=1, time='hello'))\n",
    "olst = [o1, o2]"
   ]
  },
  {
   "cell_type": "code",
   "execution_count": 91,
   "id": "1d3375aa-9fe0-4941-a82c-f9f5e642623c",
   "metadata": {},
   "outputs": [
    {
     "name": "stdout",
     "output_type": "stream",
     "text": [
      "Baz(desc='hello', meep=Foo(id=1, name='fizz'))\n",
      "{\"desc\": \"hello\", \"meep\": {\"id\": 1, \"name\": \"fizz\"}}\n",
      "Baz(desc='hello', meep=Foo(id=1, name='fizz'))\n",
      "Baz(desc='nope', meep=Bar(cost=1, time='hello'))\n",
      "{\"desc\": \"nope\", \"meep\": {\"cost\": 1, \"time\": \"hello\"}}\n",
      "Baz(desc='nope', meep=Bar(cost=1, time='hello'))\n"
     ]
    }
   ],
   "source": [
    "for o in olst:\n",
    "    print(o)\n",
    "    s = json.dumps(o, default=pydantic.json.pydantic_encoder)\n",
    "    print(s)\n",
    "    x = pydantic.TypeAdapter(Baz).validate_json(s)\n",
    "    print(x)"
   ]
  }
 ],
 "metadata": {
  "kernelspec": {
   "display_name": "Python 3 (ipykernel)",
   "language": "python",
   "name": "python3"
  },
  "language_info": {
   "codemirror_mode": {
    "name": "ipython",
    "version": 3
   },
   "file_extension": ".py",
   "mimetype": "text/x-python",
   "name": "python",
   "nbconvert_exporter": "python",
   "pygments_lexer": "ipython3",
   "version": "3.12.1"
  }
 },
 "nbformat": 4,
 "nbformat_minor": 5
}
