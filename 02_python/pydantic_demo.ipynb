{
 "cells": [
  {
   "cell_type": "code",
   "execution_count": 13,
   "id": "3656dde9-e1ea-468f-a8ad-99517ca08cd4",
   "metadata": {},
   "outputs": [],
   "source": [
    "from dataclasses import asdict\n",
    "from pydantic.dataclasses import dataclass\n",
    "import pydantic.json\n",
    "import pydantic.tools\n",
    "from pydantic import BaseModel, Field\n",
    "import json\n",
    "from typing import *"
   ]
  },
  {
   "cell_type": "code",
   "execution_count": 51,
   "id": "1df68f77-cb1d-4346-a69d-7abc2a1f9784",
   "metadata": {},
   "outputs": [],
   "source": [
    "# Discriminated unions require a little bit more hand holding\n",
    "# particularly in the case where you don't want to rely on the default\n",
    "# strategy adopted by pydantic. This is important when you need to \n",
    "# consider multiple languages\n",
    "\n",
    "# https://docs.pydantic.dev/latest/concepts/unions/#discriminated-unions-with-str-discriminators\n",
    "\n",
    "@dataclass\n",
    "class Foo:\n",
    "    id: int\n",
    "    name: str\n",
    "    meepType : Literal['Foo'] = Field(default='Foo')\n",
    "    \n",
    "@dataclass\n",
    "class Bar:\n",
    "    cost: int\n",
    "    time: str\n",
    "    meepType : Literal['Bar'] = Field(default='Bar')\n",
    "    \n",
    "Blek = Annotated[Union[Foo, Bar], Field(discriminator='meepType')]\n",
    "\n",
    "@dataclass\n",
    "class Baz:\n",
    "    desc : str\n",
    "    meep : List[Blek]"
   ]
  },
  {
   "cell_type": "code",
   "execution_count": 49,
   "id": "818f0989-15c6-4d9d-b59a-59902c0978c8",
   "metadata": {},
   "outputs": [],
   "source": [
    "o1 = Baz(desc='hello', meep=[ Foo(id = 1, name = 'fizz') ])\n",
    "o2 = Baz(desc='nope', meep=[ \n",
    "    Bar(cost=1, time='hello'), \n",
    "    Foo(id = 1, name = 'fizz')\n",
    "])\n",
    "olst = [o1, o2]"
   ]
  },
  {
   "cell_type": "code",
   "execution_count": 50,
   "id": "1d3375aa-9fe0-4941-a82c-f9f5e642623c",
   "metadata": {},
   "outputs": [
    {
     "name": "stdout",
     "output_type": "stream",
     "text": [
      "Baz(desc='hello', meep=[Foo(id=1, name='fizz', meepType='Foo')])\n",
      "{\"desc\": \"hello\", \"meep\": [{\"id\": 1, \"name\": \"fizz\", \"meepType\": \"Foo\"}]}\n",
      "Baz(desc='hello', meep=[Foo(id=1, name='fizz', meepType='Foo')])\n",
      "Baz(desc='nope', meep=[Bar(cost=1, time='hello', meepType='Bar'), Foo(id=1, name='fizz', meepType='Foo')])\n",
      "{\"desc\": \"nope\", \"meep\": [{\"cost\": 1, \"time\": \"hello\", \"meepType\": \"Bar\"}, {\"id\": 1, \"name\": \"fizz\", \"meepType\": \"Foo\"}]}\n",
      "Baz(desc='nope', meep=[Bar(cost=1, time='hello', meepType='Bar'), Foo(id=1, name='fizz', meepType='Foo')])\n"
     ]
    }
   ],
   "source": [
    "for o in olst:\n",
    "    print(o)\n",
    "    s = json.dumps(o, default=pydantic.json.pydantic_encoder)\n",
    "    print(s)\n",
    "    x = pydantic.TypeAdapter(Baz).validate_json(s)\n",
    "    print(x)"
   ]
  },
  {
   "cell_type": "code",
   "execution_count": null,
   "id": "ab0a35a1-5c2f-4bac-a9e5-4938fe5cbf4a",
   "metadata": {},
   "outputs": [],
   "source": []
  }
 ],
 "metadata": {
  "kernelspec": {
   "display_name": "Python 3 (ipykernel)",
   "language": "python",
   "name": "python3"
  },
  "language_info": {
   "codemirror_mode": {
    "name": "ipython",
    "version": 3
   },
   "file_extension": ".py",
   "mimetype": "text/x-python",
   "name": "python",
   "nbconvert_exporter": "python",
   "pygments_lexer": "ipython3",
   "version": "3.12.1"
  }
 },
 "nbformat": 4,
 "nbformat_minor": 5
}
