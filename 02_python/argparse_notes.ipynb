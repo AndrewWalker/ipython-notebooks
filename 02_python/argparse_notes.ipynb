{
 "cells": [
  {
   "cell_type": "markdown",
   "metadata": {},
   "source": [
    "# Python argparse notes"
   ]
  },
  {
   "cell_type": "code",
   "execution_count": 1,
   "metadata": {
    "collapsed": true
   },
   "outputs": [],
   "source": [
    "import sys\n",
    "import argparse"
   ]
  },
  {
   "cell_type": "code",
   "execution_count": 33,
   "metadata": {
    "collapsed": true
   },
   "outputs": [],
   "source": [
    "def require(parser, argv, **kwargs):\n",
    "    args = parser.parse_args(argv)\n",
    "    print args\n",
    "    for k, v in kwargs.iteritems():\n",
    "        assert(getattr(args, k) == v)"
   ]
  },
  {
   "cell_type": "markdown",
   "metadata": {},
   "source": [
    "## Required Arguments"
   ]
  },
  {
   "cell_type": "code",
   "execution_count": 52,
   "metadata": {
    "collapsed": false
   },
   "outputs": [
    {
     "name": "stdout",
     "output_type": "stream",
     "text": [
      "usage: required_args [-h] location\n",
      "\n"
     ]
    }
   ],
   "source": [
    "parser = argparse.ArgumentParser('required_args')\n",
    "parser.add_argument('location',\n",
    "                    help = 'where to do this')\n",
    "\n",
    "print parser.format_usage()"
   ]
  },
  {
   "cell_type": "code",
   "execution_count": 36,
   "metadata": {
    "collapsed": false
   },
   "outputs": [
    {
     "name": "stdout",
     "output_type": "stream",
     "text": [
      "Namespace(location='here')\n"
     ]
    }
   ],
   "source": [
    "require(parser, ['here'], location='here')"
   ]
  },
  {
   "cell_type": "markdown",
   "metadata": {},
   "source": [
    "## Boolean Arguments"
   ]
  },
  {
   "cell_type": "code",
   "execution_count": 45,
   "metadata": {
    "collapsed": false
   },
   "outputs": [],
   "source": [
    "parser = argparse.ArgumentParser('demo')\n",
    "\n",
    "parser.add_argument('-s', '--silent',\n",
    "                    action = 'store_true',\n",
    "                    help = 'be quiet');"
   ]
  },
  {
   "cell_type": "code",
   "execution_count": 42,
   "metadata": {
    "collapsed": false
   },
   "outputs": [
    {
     "name": "stdout",
     "output_type": "stream",
     "text": [
      "usage: demo [-h] [-s]\n",
      "\n"
     ]
    }
   ],
   "source": [
    "print parser.format_usage()"
   ]
  },
  {
   "cell_type": "code",
   "execution_count": 43,
   "metadata": {
    "collapsed": false
   },
   "outputs": [
    {
     "name": "stdout",
     "output_type": "stream",
     "text": [
      "usage: demo [-h] [-s]\n",
      "\n",
      "optional arguments:\n",
      "  -h, --help    show this help message and exit\n",
      "  -s, --silent  be quiet\n",
      "\n"
     ]
    }
   ],
   "source": [
    "print parser.format_help()"
   ]
  },
  {
   "cell_type": "code",
   "execution_count": 39,
   "metadata": {
    "collapsed": false
   },
   "outputs": [
    {
     "name": "stdout",
     "output_type": "stream",
     "text": [
      "Namespace(silent=False)\n",
      "Namespace(silent=True)\n",
      "Namespace(silent=True)\n"
     ]
    }
   ],
   "source": [
    "require(parser, [], silent=False)\n",
    "require(parser, ['-s'], silent=True)\n",
    "require(parser, ['--silent'], silent=True)"
   ]
  },
  {
   "cell_type": "markdown",
   "metadata": {},
   "source": [
    "## Optional Arguments"
   ]
  },
  {
   "cell_type": "code",
   "execution_count": 50,
   "metadata": {
    "collapsed": false
   },
   "outputs": [],
   "source": [
    "parser = argparse.ArgumentParser('myapp')\n",
    "\n",
    "parser.add_argument('-c', '--count',\n",
    "                    type = int,\n",
    "                    default = 0,\n",
    "                    help = 'how many you want')\n",
    "\n",
    "parser.add_argument('-n', '--name',\n",
    "                    default = 'joe bloggs',\n",
    "                    help = 'what is your name');\n"
   ]
  },
  {
   "cell_type": "code",
   "execution_count": 51,
   "metadata": {
    "collapsed": false
   },
   "outputs": [
    {
     "name": "stdout",
     "output_type": "stream",
     "text": [
      "usage: myapp [-h] [-c COUNT] [-n NAME]\n",
      "\n",
      "optional arguments:\n",
      "  -h, --help            show this help message and exit\n",
      "  -c COUNT, --count COUNT\n",
      "                        how many you want\n",
      "  -n NAME, --name NAME  what is your name\n",
      "\n"
     ]
    }
   ],
   "source": [
    "print parser.format_help()"
   ]
  },
  {
   "cell_type": "markdown",
   "metadata": {},
   "source": [
    "## Groups Arguments"
   ]
  },
  {
   "cell_type": "code",
   "execution_count": 58,
   "metadata": {
    "collapsed": false
   },
   "outputs": [],
   "source": [
    "import argparse\n",
    "\n",
    "parser = argparse.ArgumentParser()\n",
    "group = parser.add_mutually_exclusive_group()\n",
    "group.add_argument(\"-v\", \"--verbose\", action=\"store_true\")\n",
    "group.add_argument(\"-q\", \"--quiet\", action=\"store_true\");"
   ]
  },
  {
   "cell_type": "code",
   "execution_count": 59,
   "metadata": {
    "collapsed": false
   },
   "outputs": [
    {
     "name": "stdout",
     "output_type": "stream",
     "text": [
      "Namespace(quiet=False, verbose=False)\n",
      "Namespace(quiet=True, verbose=False)\n",
      "Namespace(quiet=False, verbose=True)\n"
     ]
    }
   ],
   "source": [
    "require(parser, [], verbose=False, quiet=False)\n",
    "require(parser, ['-q'], verbose=False, quiet=True)\n",
    "require(parser, ['-v'], verbose=True, quiet=False)"
   ]
  },
  {
   "cell_type": "code",
   "execution_count": 60,
   "metadata": {
    "collapsed": false
   },
   "outputs": [
    {
     "name": "stdout",
     "output_type": "stream",
     "text": [
      "usage: __main__.py [-h] [-v | -q]\n",
      "\n",
      "optional arguments:\n",
      "  -h, --help     show this help message and exit\n",
      "  -v, --verbose\n",
      "  -q, --quiet\n",
      "\n"
     ]
    }
   ],
   "source": [
    "print parser.format_help()"
   ]
  },
  {
   "cell_type": "code",
   "execution_count": null,
   "metadata": {
    "collapsed": true
   },
   "outputs": [],
   "source": []
  }
 ],
 "metadata": {
  "kernelspec": {
   "display_name": "Python 2",
   "language": "python",
   "name": "python2"
  },
  "language_info": {
   "codemirror_mode": {
    "name": "ipython",
    "version": 2
   },
   "file_extension": ".py",
   "mimetype": "text/x-python",
   "name": "python",
   "nbconvert_exporter": "python",
   "pygments_lexer": "ipython2",
   "version": "2.7.10"
  }
 },
 "nbformat": 4,
 "nbformat_minor": 0
}
