{
 "cells": [
  {
   "cell_type": "markdown",
   "metadata": {},
   "source": [
    "# Examples of low-volume Webscraping"
   ]
  },
  {
   "cell_type": "markdown",
   "metadata": {},
   "source": [
    "## 1. Parse MITx download Links\n",
    "\n",
    "Generate wget commands to download the course is \"Geometric Folding Algorithms: Linkages, Origami, Polyhedra\""
   ]
  },
  {
   "cell_type": "code",
   "execution_count": 5,
   "metadata": {
    "collapsed": true
   },
   "outputs": [],
   "source": [
    "import requests\n",
    "import bs4\n",
    "import os\n",
    "import pprint"
   ]
  },
  {
   "cell_type": "code",
   "execution_count": 25,
   "metadata": {
    "collapsed": false
   },
   "outputs": [],
   "source": [
    "url = 'https://archive.org/download/MIT6.849F12/'\n",
    "req = requests.get(url)\n",
    "soup = bs4.BeautifulSoup(req.text)\n",
    "\n",
    "lst = []\n",
    "for link in soup.find_all('a'):\n",
    "    if link.has_attr('href'):\n",
    "        link = link['href']\n",
    "        if os.path.splitext(link)[1] == '.mp4':\n",
    "            lst.append(url + link) \n",
    "            \n",
    "for l in lecs:\n",
    "    print 'wget -c ' + l"
   ]
  }
 ],
 "metadata": {
  "kernelspec": {
   "display_name": "Python 3",
   "language": "python",
   "name": "python3"
  },
  "language_info": {
   "codemirror_mode": {
    "name": "ipython",
    "version": 3
   },
   "file_extension": ".py",
   "mimetype": "text/x-python",
   "name": "python",
   "nbconvert_exporter": "python",
   "pygments_lexer": "ipython3",
   "version": "3.6.3"
  }
 },
 "nbformat": 4,
 "nbformat_minor": 2
}
