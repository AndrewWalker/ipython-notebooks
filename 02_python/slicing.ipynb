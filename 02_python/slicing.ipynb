{
 "cells": [
  {
   "cell_type": "code",
   "execution_count": 23,
   "metadata": {
    "collapsed": true
   },
   "outputs": [],
   "source": [
    "from __future__ import print_function"
   ]
  },
  {
   "cell_type": "markdown",
   "metadata": {},
   "source": [
    "# Python Slice Syntax\n",
    "\n",
    "This notebook was written in response to a request from a colleague about how slicing works in Python. \n",
    "\n",
    "Slicing lets you extract part of a [sequence](https://docs.python.org/3/library/stdtypes.html#sequence-types-list-tuple-range), of which lists, tuples and ranges are three important examples.  Slicing is one example of a python language construct that makes the language easier to read, write and understand by providing *syntactic sugar* (a simpler to use syntax) that is translated during parsing. \n",
    "\n",
    "The table below shows the most common uses of sequence slicing - also presented are the equivalent versions with the syntactic sugar of slicing removed.\n",
    "\n",
    "| syntax  | description | desugared |\n",
    "|---------|-------------|-----------|\n",
    "|`s[:]`     | slice of `s` from `0` to `len(s)` | `s[slice(None,None)]` |\n",
    "|`s[:i]`    | slice of `s` from `0` to `i` | `s[slice(None, i)]` |\n",
    "|`s[i:]`    | slice of `s` from `i` to `len(s)` | `s[slice(i, None)]` |\n",
    "|`s[i:j]`   | slice of `s` from `i` to `j` | `s[slice(i, j)]` |\n",
    "|`s[i:j:k]` | slice of `s` from `i` to `j` with step `k` | `s[slice(i, j, k)]` |\n",
    "\n",
    "In cases where index `i` of a sequence `s` is negative, they can be desugared to `len(s)-i`, so `s[-3:]` is equivalent to `s[len(s)-3:]`\n"
   ]
  },
  {
   "cell_type": "code",
   "execution_count": 47,
   "metadata": {
    "collapsed": false
   },
   "outputs": [],
   "source": [
    "lst = range(10)"
   ]
  },
  {
   "cell_type": "code",
   "execution_count": 24,
   "metadata": {
    "collapsed": false
   },
   "outputs": [
    {
     "name": "stdout",
     "output_type": "stream",
     "text": [
      "[3, 4, 5, 6, 7]\n",
      "[3, 4, 5, 6, 7]\n"
     ]
    }
   ],
   "source": [
    "print(lst[3:8])\n",
    "print(lst[slice(3, 8)])"
   ]
  },
  {
   "cell_type": "code",
   "execution_count": 52,
   "metadata": {
    "collapsed": false
   },
   "outputs": [
    {
     "name": "stdout",
     "output_type": "stream",
     "text": [
      "[3, 4, 5, 6, 7]\n",
      "[3, 4, 5, 6, 7]\n"
     ]
    }
   ],
   "source": [
    "print(lst[3:-2])\n",
    "print(lst[slice(3, -2)])"
   ]
  },
  {
   "cell_type": "code",
   "execution_count": 25,
   "metadata": {
    "collapsed": false
   },
   "outputs": [
    {
     "name": "stdout",
     "output_type": "stream",
     "text": [
      "[4, 5, 6, 7, 8, 9]\n",
      "[4, 5, 6, 7, 8, 9]\n"
     ]
    }
   ],
   "source": [
    "print(lst[4:])\n",
    "print(lst[slice(4, None)])"
   ]
  },
  {
   "cell_type": "code",
   "execution_count": 26,
   "metadata": {
    "collapsed": false
   },
   "outputs": [
    {
     "name": "stdout",
     "output_type": "stream",
     "text": [
      "[0, 1, 2, 3]\n",
      "[0, 1, 2, 3]\n"
     ]
    }
   ],
   "source": [
    "print(lst[:4])\n",
    "print(lst[slice(None, 4)])"
   ]
  },
  {
   "cell_type": "code",
   "execution_count": 28,
   "metadata": {
    "collapsed": false
   },
   "outputs": [
    {
     "name": "stdout",
     "output_type": "stream",
     "text": [
      "[2, 4, 6, 8, 10, 12, 14]\n",
      "[2, 4, 6, 8, 10, 12, 14]\n"
     ]
    }
   ],
   "source": [
    "lst = range(20)\n",
    "print(lst[2:15:2])\n",
    "print(lst[slice(2,15,2)])"
   ]
  },
  {
   "cell_type": "markdown",
   "metadata": {},
   "source": [
    "# Numpy Indexing\n",
    "\n",
    "Numpy includes good documentation of [indexing](https://docs.scipy.org/doc/numpy/reference/arrays.indexing.html), this is mainly here for completeness"
   ]
  },
  {
   "cell_type": "code",
   "execution_count": 36,
   "metadata": {
    "collapsed": false
   },
   "outputs": [
    {
     "name": "stdout",
     "output_type": "stream",
     "text": [
      "[[ 0  1  2  3  4  5  6  7  8  9]\n",
      " [10 11 12 13 14 15 16 17 18 19]\n",
      " [20 21 22 23 24 25 26 27 28 29]\n",
      " [30 31 32 33 34 35 36 37 38 39]\n",
      " [40 41 42 43 44 45 46 47 48 49]\n",
      " [50 51 52 53 54 55 56 57 58 59]\n",
      " [60 61 62 63 64 65 66 67 68 69]\n",
      " [70 71 72 73 74 75 76 77 78 79]\n",
      " [80 81 82 83 84 85 86 87 88 89]\n",
      " [90 91 92 93 94 95 96 97 98 99]]\n"
     ]
    }
   ],
   "source": [
    "import numpy as np\n",
    "\n",
    "A = np.arange(100).reshape(10,10)\n",
    "print(A)"
   ]
  },
  {
   "cell_type": "code",
   "execution_count": 48,
   "metadata": {
    "collapsed": false
   },
   "outputs": [
    {
     "name": "stdout",
     "output_type": "stream",
     "text": [
      "[10 11 12 13 14 15 16 17 18 19]\n",
      "[ 1 11 21 31 41 51 61 71 81 91]\n",
      "[[47 48]\n",
      " [57 58]]\n"
     ]
    }
   ],
   "source": [
    "# row slice\n",
    "print(A[1, :])\n",
    "\n",
    "# column slice\n",
    "print(A[:, 1])\n",
    "\n",
    "# block slice\n",
    "print(A[4:6, 7:9])"
   ]
  },
  {
   "cell_type": "code",
   "execution_count": 53,
   "metadata": {
    "collapsed": false
   },
   "outputs": [
    {
     "name": "stdout",
     "output_type": "stream",
     "text": [
      "[[ 3  5  7]\n",
      " [13 15 17]\n",
      " [23 25 27]\n",
      " [33 35 37]\n",
      " [43 45 47]\n",
      " [53 55 57]\n",
      " [63 65 67]\n",
      " [73 75 77]\n",
      " [83 85 87]\n",
      " [93 95 97]]\n"
     ]
    }
   ],
   "source": [
    "# Advanced indexing \n",
    "print(A[:, [3,5,7]])"
   ]
  },
  {
   "cell_type": "code",
   "execution_count": null,
   "metadata": {
    "collapsed": true
   },
   "outputs": [],
   "source": []
  }
 ],
 "metadata": {
  "kernelspec": {
   "display_name": "Python 2",
   "language": "python",
   "name": "python2"
  },
  "language_info": {
   "codemirror_mode": {
    "name": "ipython",
    "version": 2
   },
   "file_extension": ".py",
   "mimetype": "text/x-python",
   "name": "python",
   "nbconvert_exporter": "python",
   "pygments_lexer": "ipython2",
   "version": "2.7.12"
  }
 },
 "nbformat": 4,
 "nbformat_minor": 1
}
