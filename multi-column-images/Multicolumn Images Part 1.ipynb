{
 "cells": [
  {
   "cell_type": "markdown",
   "metadata": {},
   "source": [
    "# Multi-Column Image Layouts In the IPython Notebook (Part 1)\n",
    "\n",
    "Andrew Walker 15 September 2015\n",
    "\n",
    "<div class=\"alert alert-success\" style=\"margin: 10px\">\n",
    "**Warning:** This notebook is in two parts, because it involves changing the CSS for the entire notebook and observing changes in the rendered output, which means changes to one cell will potentially impact other cells.  \n",
    "</div>\n",
    "\n",
    "- [Multicolumn Images Part 1](Multicolumn%20Images%20Part%201.ipynb)\n",
    "- [Multicolumn Images Part 2](Multicolumn%20Images%20Part%202.ipynb)\n",
    "\n",
    "The basic principle of getting two columns of images in the notebook involves (ab)using markdown in one of two ways - either via markdown tables in markdown or by directly inserting HTML tables in markdown. Either way, the results aren't as nice as they could be, so there's a little bit of CSS glue to get everything as desired."
   ]
  },
  {
   "cell_type": "markdown",
   "metadata": {
    "collapsed": true
   },
   "source": [
    "## 1. HTML Tables in Markdown\n",
    "\n",
    "The following snippet of HTML demonstrates the basic approach\n",
    "\n",
    "```\n",
    "<table>\n",
    "  <tr>\n",
    "    <td><img src=\"pyconau-logo.png\" /></td>\n",
    "    <td><img src=\"pyconau-logo.png\" /></td>\n",
    "  </tr>\n",
    "</table>\n",
    "```"
   ]
  },
  {
   "cell_type": "markdown",
   "metadata": {},
   "source": [
    "<table>\n",
    "  <tr>\n",
    "    <td><img src=\"pyconau-logo.png\" /></td>\n",
    "    <td><img src=\"pyconau-logo.png\" /></td>\n",
    "  </tr>\n",
    "</table>"
   ]
  },
  {
   "cell_type": "markdown",
   "metadata": {},
   "source": [
    "## 1.1 Comment\n",
    "\n",
    "This really is the simplest way to get started, and probably the most obvious to anyone else who might be reading your notebook. Unfortunately it relies on the fact that you're actually rendering the IPython notebook as HTML. A nicer approach would be to describe the table itself in markdown, which would allow tools like nbconvert to render it correctly in any format."
   ]
  },
  {
   "cell_type": "markdown",
   "metadata": {},
   "source": [
    "## 2. Markdown Tables\n",
    "\n",
    "```\n",
    "|                       |                     |\n",
    "|-----------------------|---------------------|\n",
    "| ![](pyconau-logo.png) |![](pyconau-logo.png)|\n",
    "```"
   ]
  },
  {
   "cell_type": "markdown",
   "metadata": {},
   "source": [
    "| | |\n",
    "|---|---|\n",
    "|![](pyconau-logo.png)|![](pyconau-logo.png)|"
   ]
  },
  {
   "cell_type": "markdown",
   "metadata": {},
   "source": [
    "## 2.1 Comment\n",
    "\n",
    "This approach has ensured we've got two columns, and described our data in markdown, but we've now got an extra (ugly) header row in the rendered table. There are [well documented](http://stackoverflow.com/q/17536216/2246) approaches to going from markdown to tables without headers, but they all seem to rely on parser support which isn't availble in the notebook.\n",
    "\n",
    "So in addition to the ugly lines in the table, we need a CSS trick to get rid of headers."
   ]
  },
  {
   "cell_type": "markdown",
   "metadata": {},
   "source": [
    "## 3. HTML Tables Redux\n",
    "\n",
    "The following snippet of HTML demonstrates (an equivalent) of what our markdown rendered to, with some new inline CSS\n",
    "\n",
    "```\n",
    "<table>\n",
    "  <tr>\n",
    "    <th style=\"border-style:hidden\"></th>\n",
    "    <th style=\"border-style:hidden\"></th>\n",
    "  </tr>\n",
    "  <tr>\n",
    "    <td style=\"border-style:hidden\"><img src=\"pyconau-logo.png\" /></td>\n",
    "    <td style=\"border-style:hidden\"><img src=\"pyconau-logo.png\" /></td>\n",
    "  </tr>\n",
    "</table>\n",
    "```"
   ]
  },
  {
   "cell_type": "markdown",
   "metadata": {},
   "source": [
    "<table>\n",
    "  <tr>\n",
    "    <th style=\"border-style:hidden\"></th>\n",
    "    <th style=\"border-style:hidden\"></th>\n",
    "  </tr>\n",
    "  <tr>\n",
    "    <td style=\"border-style:hidden\"><img src=\"pyconau-logo.png\" /></td>\n",
    "    <td style=\"border-style:hidden\"><img src=\"pyconau-logo.png\" /></td>\n",
    "  </tr>\n",
    "</table>"
   ]
  },
  {
   "cell_type": "markdown",
   "metadata": {},
   "source": [
    "## 3.1 Comment\n",
    "\n",
    "This approach is reasonably complete in that it gives the rendered table, but it still relies on inline CSS styles. The biggest limitation of this approach is that it prevents someone from updating styles at a later date, as well as preventing the use of nbconvert."
   ]
  },
  {
   "cell_type": "markdown",
   "metadata": {},
   "source": [
    "### Fine Print\n",
    "\n",
    "<small>\n",
    "The image used in this work is the PyCon Australia logo (C) PyCon Australia and Linux Australia\n",
    "\n",
    "I'm not in any way affiliated with the PyConAU or Linux Australia and the material in this notebook should not be misconstrued as an endorsement by the conference organisers. If you find this notebook interesting, consider supporting PyConAU by attending.\n",
    "</small>"
   ]
  }
 ],
 "metadata": {
  "kernelspec": {
   "display_name": "Python 2",
   "language": "python",
   "name": "python2"
  },
  "language_info": {
   "codemirror_mode": {
    "name": "ipython",
    "version": 2
   },
   "file_extension": ".py",
   "mimetype": "text/x-python",
   "name": "python",
   "nbconvert_exporter": "python",
   "pygments_lexer": "ipython2",
   "version": "2.7.10"
  }
 },
 "nbformat": 4,
 "nbformat_minor": 0
}
