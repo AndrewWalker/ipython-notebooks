{
 "cells": [
  {
   "cell_type": "markdown",
   "metadata": {},
   "source": [
    "# Trivial Sparse Random Walks\n",
    "\n",
    "Working notes for this [SO question](http://stackoverflow.com/questions/31363261/python-library-for-evaluating-random-walks/31477081#31477081)"
   ]
  },
  {
   "cell_type": "code",
   "execution_count": 28,
   "metadata": {
    "collapsed": false
   },
   "outputs": [
    {
     "name": "stdout",
     "output_type": "stream",
     "text": [
      "[[ 0.5  0.2  0.   0.   0. ]\n",
      " [ 0.3  0.5  0.2  0.   0. ]\n",
      " [ 0.   0.3  0.5  0.2  0. ]\n",
      " [ 0.   0.   0.3  0.5  0.2]\n",
      " [ 0.   0.   0.   0.3  0.5]]\n",
      "[[ 0.   0.2  0.5  0.3  0. ]]\n",
      "[[ 0.04  0.2   0.37  0.3   0.09]]\n",
      "[[ 0.04]\n",
      " [ 0.2 ]\n",
      " [ 0.37]\n",
      " [ 0.3 ]\n",
      " [ 0.09]]\n"
     ]
    }
   ],
   "source": [
    "import scipy.sparse\n",
    "\n",
    "def random_walk_transition_probability(n, left = 0.3, centre = 0.5, right = 0.2):\n",
    "    m = 2*n+1\n",
    "    A  = scipy.sparse.csr_matrix((m, m))\n",
    "    A += scipy.sparse.diags(centre*np.ones(m), 0)\n",
    "    A += scipy.sparse.diags(left*np.ones(m-1), -1)\n",
    "    A += scipy.sparse.diags(right*np.ones(m-1),  1)\n",
    "    print A.todense()\n",
    "    x = np.zeros((m,1))\n",
    "    x[n] = 1.0\n",
    "    for i in xrange(n):\n",
    "        x = A.dot(x)\n",
    "        print x.T\n",
    "    return x\n",
    "\n",
    "print random_walk_transition_probability(2)"
   ]
  },
  {
   "cell_type": "code",
   "execution_count": 31,
   "metadata": {
    "collapsed": false
   },
   "outputs": [
    {
     "name": "stdout",
     "output_type": "stream",
     "text": [
      "[[ 0.]\n",
      " [ 0.]\n",
      " [ 0.]\n",
      " ..., \n",
      " [ 0.]\n",
      " [ 0.]\n",
      " [ 0.]]\n"
     ]
    }
   ],
   "source": [
    "import scipy.sparse as sp\n",
    "import numpy as np\n",
    "\n",
    "def random_walk_transition_probability(n, left = 0.3, centre = 0.5, right = 0.2):\n",
    "    m = 2*n+1\n",
    "    A  = sp.csr_matrix((m, m))\n",
    "    A += sp.diags(centre*np.ones(m), 0)\n",
    "    A += sp.diags(left*np.ones(m-1), -1)\n",
    "    A += sp.diags(right*np.ones(m-1),  1)\n",
    "    x = np.zeros((m,1))\n",
    "    x[n] = 1.0\n",
    "    for i in xrange(n):\n",
    "        x = A.dot(x)\n",
    "    return x\n",
    "\n"
   ]
  },
  {
   "cell_type": "code",
   "execution_count": 32,
   "metadata": {
    "collapsed": false
   },
   "outputs": [
    {
     "name": "stdout",
     "output_type": "stream",
     "text": [
      "100 loops, best of 3: 7.12 ms per loop\n"
     ]
    }
   ],
   "source": [
    "%timeit random_walk_transition_probability(500)"
   ]
  },
  {
   "cell_type": "code",
   "execution_count": 33,
   "metadata": {
    "collapsed": false
   },
   "outputs": [
    {
     "name": "stdout",
     "output_type": "stream",
     "text": [
      "1 loops, best of 3: 1.06 s per loop\n"
     ]
    }
   ],
   "source": [
    "%timeit random_walk_transition_probability(10000)"
   ]
  },
  {
   "cell_type": "code",
   "execution_count": null,
   "metadata": {
    "collapsed": true
   },
   "outputs": [],
   "source": [
    "%timeit random_walk_transition_probability(100000)"
   ]
  },
  {
   "cell_type": "code",
   "execution_count": null,
   "metadata": {
    "collapsed": true
   },
   "outputs": [],
   "source": []
  }
 ],
 "metadata": {
  "kernelspec": {
   "display_name": "Python 2",
   "language": "python",
   "name": "python2"
  },
  "language_info": {
   "codemirror_mode": {
    "name": "ipython",
    "version": 2
   },
   "file_extension": ".py",
   "mimetype": "text/x-python",
   "name": "python",
   "nbconvert_exporter": "python",
   "pygments_lexer": "ipython2",
   "version": "2.7.10"
  }
 },
 "nbformat": 4,
 "nbformat_minor": 0
}
