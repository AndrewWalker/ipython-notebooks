{
 "cells": [
  {
   "cell_type": "markdown",
   "metadata": {},
   "source": [
    "# Python functional Programming\n",
    "\n",
    "- readthedocs [funcy](http://funcy.readthedocs.org/en/stable/index.html) \n",
    "- github repository for [Sour/funcy](https://github.com/Suor/funcy)\n",
    "- readthedocs [toolz](https://toolz.readthedocs.org/en/latest/)\n",
    "- github repository for [pytoolz/toolz](https://github.com/pytoolz/toolz)"
   ]
  },
  {
   "cell_type": "markdown",
   "metadata": {},
   "source": [
    "# Get the length of an interable sequence with Python.\n",
    "\n",
    "This is a problem that comes up surprising frequently."
   ]
  },
  {
   "cell_type": "code",
   "execution_count": 5,
   "metadata": {
    "collapsed": false
   },
   "outputs": [
    {
     "name": "stdout",
     "output_type": "stream",
     "text": [
      "20\n"
     ]
    }
   ],
   "source": [
    "print len(list(xrange(20)))"
   ]
  },
  {
   "cell_type": "code",
   "execution_count": 4,
   "metadata": {
    "collapsed": false
   },
   "outputs": [
    {
     "name": "stdout",
     "output_type": "stream",
     "text": [
      "20\n"
     ]
    }
   ],
   "source": [
    "# Using toolz\n",
    "from toolz import count\n",
    "\n",
    "print count(xrange(20))"
   ]
  },
  {
   "cell_type": "markdown",
   "metadata": {},
   "source": [
    "# Demonstrate Partial Application of functions\n",
    "\n",
    "Partial application involves fixing some arguments for a function, producing another function"
   ]
  },
  {
   "cell_type": "code",
   "execution_count": 13,
   "metadata": {
    "collapsed": false
   },
   "outputs": [
    {
     "name": "stdout",
     "output_type": "stream",
     "text": [
      "[True, False, False, True, False, False, True, False, False, True, False, False, True, False, False]\n",
      "[True, False, False, False, False, True, False, False, False, False, True, False, False, False, False]\n"
     ]
    }
   ],
   "source": [
    "# Pure python\n",
    "\n",
    "def divisible_by_n(n, m):\n",
    "    return (m % n) == 0\n",
    "\n",
    "def divisible_by_3(m):\n",
    "    return divisible_by_n(3, m)\n",
    "\n",
    "def divisible_by_5(m):\n",
    "    return divisible_by_n(5, m)\n",
    "\n",
    "print map(divisible_by_3, xrange(15))\n",
    "print map(divisible_by_5, xrange(15))"
   ]
  },
  {
   "cell_type": "code",
   "execution_count": 12,
   "metadata": {
    "collapsed": false
   },
   "outputs": [
    {
     "name": "stdout",
     "output_type": "stream",
     "text": [
      "[True, False, False, True, False, False, True, False, False, True, False, False, True, False, False]\n",
      "[True, False, False, False, False, True, False, False, False, False, True, False, False, False, False]\n"
     ]
    }
   ],
   "source": [
    "# Pure Python (functools)\n",
    "from functools import partial\n",
    "\n",
    "divisible_by_3 = partial(divisible_by_n, 3)\n",
    "divisible_by_5 = partial(divisible_by_n, 5)\n",
    "\n",
    "print map(divisible_by_3, xrange(15))\n",
    "print map(divisible_by_5, xrange(15))"
   ]
  },
  {
   "cell_type": "code",
   "execution_count": 14,
   "metadata": {
    "collapsed": false
   },
   "outputs": [
    {
     "name": "stdout",
     "output_type": "stream",
     "text": [
      "[True, False, False, True, False, False, True, False, False, True, False, False, True, False, False]\n",
      "[True, False, False, False, False, True, False, False, False, False, True, False, False, False, False]\n"
     ]
    }
   ],
   "source": [
    "# With toolz\n",
    "from toolz import curry\n",
    "\n",
    "@curry\n",
    "def divisible_by_n(n, m):\n",
    "    return (m % n) == 0\n",
    "\n",
    "print map(divisible_by_n(3), xrange(15))\n",
    "print map(divisible_by_n(5), xrange(15))"
   ]
  },
  {
   "cell_type": "markdown",
   "metadata": {},
   "source": [
    "# Write a higher order any/all functions\n",
    "\n",
    "Write a python function that satisifies the Haskell type signature\n",
    "\n",
    "```\n",
    "[ a -> Bool ] -> a -> Bool\n",
    "```\n",
    "\n",
    "Or, in words, write a function of two arguments, the first of which is a list (iterable) of predicates (functions that take an `a` and return True of False), and an `a` and returns a Bool.  Searching [hoogle](http://haskell.org/hoogle/) for functions with signatures that look like this gives `all` and `any` in Haskell's `Data.Foldable`. Note this is different to Pythons built in `all` and `any` which take an iterable of Bool (ie/ it's a higher order equivalent).\n",
    "\n",
    "Furthermore, require evaluation to be smart (lazy!) in that if computation doesn't need to be done, it isn't."
   ]
  },
  {
   "cell_type": "code",
   "execution_count": 2,
   "metadata": {
    "collapsed": false
   },
   "outputs": [],
   "source": [
    "# Pure Python (r-python style)\n",
    "\n",
    "def any_fn(lst_predicates, a):\n",
    "    for pred in lst_predicates:\n",
    "        if pred(a):\n",
    "            return True\n",
    "    return False"
   ]
  },
  {
   "cell_type": "code",
   "execution_count": null,
   "metadata": {
    "collapsed": true
   },
   "outputs": [],
   "source": [
    "# Pure Python (generator expression)\n",
    "\n",
    "def any_fn(lst_predicates, a):\n",
    "    return any((p(a) for p in lst_predicates))"
   ]
  },
  {
   "cell_type": "code",
   "execution_count": null,
   "metadata": {
    "collapsed": true
   },
   "outputs": [],
   "source": [
    "# Pure python (itertools)\n",
    "#\n",
    "# NB. this is *worse* (longer in a code-golf-sense) that the generation expression, which says \n",
    "#     something about how verbose lambda are in Python, and that this use case is \n",
    "\n",
    "from itertools import imap\n",
    "\n",
    "def any_fn(lst_predicates, a):\n",
    "    return any(imap(lambda p : p(a), lst_predicates))"
   ]
  },
  {
   "cell_type": "markdown",
   "metadata": {},
   "source": [
    "# Write a higher order any/all functions (redux)\n",
    "\n",
    "Now you have a higher order any/all function, demonstrate that you can partially apply that function (pass the list of predicates, and return a new function (a closure) with Haskell type signature\n",
    "\n",
    "```\n",
    "a -> Bool\n",
    "```"
   ]
  },
  {
   "cell_type": "code",
   "execution_count": null,
   "metadata": {
    "collapsed": true
   },
   "outputs": [],
   "source": [
    "lst = [1, 2, 3, 4, 5, 6, 7]\n",
    "preds = [divisible_by_3, divisible_by_5]"
   ]
  },
  {
   "cell_type": "code",
   "execution_count": 17,
   "metadata": {
    "collapsed": false
   },
   "outputs": [
    {
     "name": "stdout",
     "output_type": "stream",
     "text": [
      "[3, 5, 6]\n"
     ]
    }
   ],
   "source": [
    "# functools partial\n",
    "\n",
    "from itertools import ifilter\n",
    "\n",
    "it = ifilter(partial(any_fn, preds), lst)\n",
    "print list(it)"
   ]
  },
  {
   "cell_type": "code",
   "execution_count": 18,
   "metadata": {
    "collapsed": false
   },
   "outputs": [
    {
     "name": "stdout",
     "output_type": "stream",
     "text": [
      "[3, 5, 6]\n"
     ]
    }
   ],
   "source": [
    "# toolz\n",
    "\n",
    "@curry\n",
    "def any_fn(lst_predicates, a):\n",
    "    return any((p(a) for p in lst_predicates))\n",
    "\n",
    "it = ifilter(any_fn(preds), lst)\n",
    "print list(it)"
   ]
  },
  {
   "cell_type": "code",
   "execution_count": null,
   "metadata": {
    "collapsed": true
   },
   "outputs": [],
   "source": []
  }
 ],
 "metadata": {
  "kernelspec": {
   "display_name": "Python 2",
   "language": "python",
   "name": "python2"
  },
  "language_info": {
   "codemirror_mode": {
    "name": "ipython",
    "version": 2
   },
   "file_extension": ".py",
   "mimetype": "text/x-python",
   "name": "python",
   "nbconvert_exporter": "python",
   "pygments_lexer": "ipython2",
   "version": "2.7.11"
  }
 },
 "nbformat": 4,
 "nbformat_minor": 0
}
