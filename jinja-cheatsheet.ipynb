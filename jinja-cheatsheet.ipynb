{
 "cells": [
  {
   "cell_type": "markdown",
   "metadata": {},
   "source": [
    "# Jinja 2 Cheatsheet\n",
    "\n",
    "[Jinja](http://jinja.pocoo.org/) is a fantastic templating library that's very configurable and has excellent [documention](http://jinja.pocoo.org/docs/dev/) - I tend to use it for populating configuration for experiments and generating code, but I do so infrequently (the API is good enough that you don't need to keep tweaking it). Once consequence of this is that I tend to forget how I configured things last time.\n",
    "\n",
    "I'm documenting them here so I can copy and paste them into whatever project I'm working on."
   ]
  },
  {
   "cell_type": "code",
   "execution_count": 30,
   "metadata": {
    "collapsed": true
   },
   "outputs": [],
   "source": [
    "from jinja2 import Environment, FileSystemLoader, StrictUndefined"
   ]
  },
  {
   "cell_type": "markdown",
   "metadata": {},
   "source": [
    "## Environment Setup\n",
    "\n",
    "Things to remember - be careful cutting and pasting from the web docs - make sure that you type `lstrip_blocks` and don't end up with interesting unicode characters in your keyword arguments"
   ]
  },
  {
   "cell_type": "code",
   "execution_count": 91,
   "metadata": {
    "collapsed": false
   },
   "outputs": [],
   "source": [
    "# Jinja can be used without a loader, but it's a reasonable idea just to use one\n",
    "# because it gets you a few things you probably want. FileSystemLoader deals with\n",
    "# - symlinks\n",
    "# - unicode\n",
    "# - easy inheritance\n",
    "loader = FileSystemLoader('jinja-notebook-samples')\n",
    "env = Environment(trim_blocks = True, lstrip_blocks = True,\n",
    "                  undefined = StrictUndefined, \n",
    "                  loader=loader)"
   ]
  },
  {
   "cell_type": "code",
   "execution_count": 101,
   "metadata": {
    "collapsed": false
   },
   "outputs": [
    {
     "name": "stdout",
     "output_type": "stream",
     "text": [
      "{{ hello }}\r\n"
     ]
    }
   ],
   "source": [
    "!cat jinja-notebook-samples/hello.tpl"
   ]
  },
  {
   "cell_type": "code",
   "execution_count": 102,
   "metadata": {
    "collapsed": false
   },
   "outputs": [
    {
     "name": "stdout",
     "output_type": "stream",
     "text": [
      "world\n"
     ]
    }
   ],
   "source": [
    "# render a template\n",
    "print env.get_template('hello.tpl').render(hello = 'world')"
   ]
  },
  {
   "cell_type": "code",
   "execution_count": 94,
   "metadata": {
    "collapsed": false
   },
   "outputs": [
    {
     "name": "stdout",
     "output_type": "stream",
     "text": [
      "failed with an exception\n"
     ]
    }
   ],
   "source": [
    "# render a template (fails because of missing variables)\n",
    "try:\n",
    "    env.get_template('base.tpl').render()\n",
    "except:\n",
    "    print 'failed with an exception'"
   ]
  },
  {
   "cell_type": "markdown",
   "metadata": {},
   "source": [
    "## For Loop"
   ]
  },
  {
   "cell_type": "code",
   "execution_count": 95,
   "metadata": {
    "collapsed": false
   },
   "outputs": [
    {
     "name": "stdout",
     "output_type": "stream",
     "text": [
      "{% for row in rows %}\r\n",
      " - {{ row }}\r\n",
      "{% endfor %}\r\n"
     ]
    }
   ],
   "source": [
    "!cat jinja-notebook-samples/loop.tpl"
   ]
  },
  {
   "cell_type": "code",
   "execution_count": 96,
   "metadata": {
    "collapsed": false
   },
   "outputs": [
    {
     "name": "stdout",
     "output_type": "stream",
     "text": [
      " - 1\n",
      " - 2\n",
      " - 3\n",
      " - 4\n",
      "\n"
     ]
    }
   ],
   "source": [
    "print env.get_template('loop.tpl').render(rows = range(1,5))"
   ]
  },
  {
   "cell_type": "markdown",
   "metadata": {},
   "source": [
    "## Includes"
   ]
  },
  {
   "cell_type": "code",
   "execution_count": 97,
   "metadata": {
    "collapsed": false
   },
   "outputs": [
    {
     "name": "stdout",
     "output_type": "stream",
     "text": [
      "{% block slidebody %}\r\n",
      "  <section>\r\n",
      "    <h1>{{ slide.content }}</h1>\r\n",
      "  </section>\r\n",
      "{% endblock %}\r\n"
     ]
    }
   ],
   "source": [
    "!cat jinja-notebook-samples/slide.tpl"
   ]
  },
  {
   "cell_type": "code",
   "execution_count": 98,
   "metadata": {
    "collapsed": false
   },
   "outputs": [
    {
     "name": "stdout",
     "output_type": "stream",
     "text": [
      "  <section>\n",
      "    <h1>foo</h1>\n",
      "  </section>\n",
      "\n"
     ]
    }
   ],
   "source": [
    "print env.get_template('slide.tpl').render(slide = dict(content = 'foo'))"
   ]
  },
  {
   "cell_type": "code",
   "execution_count": 99,
   "metadata": {
    "collapsed": false
   },
   "outputs": [
    {
     "name": "stdout",
     "output_type": "stream",
     "text": [
      "{% for slide in slides %}\r\n",
      "    {% include 'slide.tpl' %}\r\n",
      "{% endfor %}\r\n"
     ]
    }
   ],
   "source": [
    "!cat jinja-notebook-samples/slides.tpl"
   ]
  },
  {
   "cell_type": "code",
   "execution_count": 100,
   "metadata": {
    "collapsed": false
   },
   "outputs": [
    {
     "name": "stdout",
     "output_type": "stream",
     "text": [
      "  <section>\n",
      "    <h1>Slide 1</h1>\n",
      "  </section>\n",
      "  <section>\n",
      "    <h1>Slide 2</h1>\n",
      "  </section>\n",
      "  <section>\n",
      "    <h1>Slide 3</h1>\n",
      "  </section>\n",
      "\n"
     ]
    }
   ],
   "source": [
    "slides = [ dict(content = 'Slide %d' % i) for i in range(1,4) ]\n",
    "print env.get_template('slides.tpl').render(slides = slides)"
   ]
  },
  {
   "cell_type": "markdown",
   "metadata": {},
   "source": [
    "## Inheritance"
   ]
  },
  {
   "cell_type": "code",
   "execution_count": 114,
   "metadata": {
    "collapsed": false
   },
   "outputs": [
    {
     "name": "stdout",
     "output_type": "stream",
     "text": [
      "<powder>\r\n",
      "{% block powder %}\r\n",
      "    coating\r\n",
      "{% endblock %}\r\n",
      "</powder>\r\n"
     ]
    }
   ],
   "source": [
    "!cat jinja-notebook-samples/parent.tpl"
   ]
  },
  {
   "cell_type": "code",
   "execution_count": 115,
   "metadata": {
    "collapsed": false
   },
   "outputs": [
    {
     "name": "stdout",
     "output_type": "stream",
     "text": [
      "<powder>\n",
      "    coating\n",
      "</powder>\n"
     ]
    }
   ],
   "source": [
    "print env.get_template('parent.tpl').render()"
   ]
  },
  {
   "cell_type": "code",
   "execution_count": 116,
   "metadata": {
    "collapsed": false
   },
   "outputs": [
    {
     "name": "stdout",
     "output_type": "stream",
     "text": [
      "{% extends 'parent.tpl' %}\r\n",
      "\r\n",
      "{% block powder %}\r\n",
      "    finger\r\n",
      "{% endblock %}\r\n"
     ]
    }
   ],
   "source": [
    "!cat jinja-notebook-samples/child.tpl"
   ]
  },
  {
   "cell_type": "code",
   "execution_count": 117,
   "metadata": {
    "collapsed": false
   },
   "outputs": [
    {
     "name": "stdout",
     "output_type": "stream",
     "text": [
      "<powder>\n",
      "    finger\n",
      "</powder>\n"
     ]
    }
   ],
   "source": [
    "print env.get_template('child.tpl').render()"
   ]
  }
 ],
 "metadata": {
  "kernelspec": {
   "display_name": "Python 2",
   "language": "python",
   "name": "python2"
  },
  "language_info": {
   "codemirror_mode": {
    "name": "ipython",
    "version": 2
   },
   "file_extension": ".py",
   "mimetype": "text/x-python",
   "name": "python",
   "nbconvert_exporter": "python",
   "pygments_lexer": "ipython2",
   "version": "2.7.10"
  }
 },
 "nbformat": 4,
 "nbformat_minor": 0
}
