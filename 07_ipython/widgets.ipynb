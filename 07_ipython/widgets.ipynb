{
 "cells": [
  {
   "cell_type": "code",
   "execution_count": 1,
   "metadata": {},
   "outputs": [],
   "source": [
    "import numpy as np\n",
    "from bqplot import *\n",
    "from ipywidgets import IntSlider, VBox"
   ]
  },
  {
   "cell_type": "markdown",
   "metadata": {},
   "source": [
    "# Parametrised Sinusoid"
   ]
  },
  {
   "cell_type": "code",
   "execution_count": 2,
   "metadata": {},
   "outputs": [
    {
     "data": {
      "application/vnd.jupyter.widget-view+json": {
       "model_id": "9a4ec4d3258d4d5ca6428ff08eba1eed",
       "version_major": 2,
       "version_minor": 0
      },
      "text/html": [
       "<p>Failed to display Jupyter Widget of type <code>VBox</code>.</p>\n",
       "<p>\n",
       "  If you're reading this message in the Jupyter Notebook or JupyterLab Notebook, it may mean\n",
       "  that the widgets JavaScript is still loading. If this message persists, it\n",
       "  likely means that the widgets JavaScript library is either not installed or\n",
       "  not enabled. See the <a href=\"https://ipywidgets.readthedocs.io/en/stable/user_install.html\">Jupyter\n",
       "  Widgets Documentation</a> for setup instructions.\n",
       "</p>\n",
       "<p>\n",
       "  If you're reading this message in another frontend (for example, a static\n",
       "  rendering on GitHub or <a href=\"https://nbviewer.jupyter.org/\">NBViewer</a>),\n",
       "  it may mean that your frontend doesn't currently support widgets.\n",
       "</p>\n"
      ],
      "text/plain": [
       "VBox(children=(IntSlider(value=4, description='freq', max=10, min=1), IntSlider(value=1, description='amp', max=20, min=1), Figure(axes=[Axis(label='X', scale=LinearScale()), Axis(label='Y', orientation='vertical', scale=LinearScale())], fig_margin={'top': 60, 'bottom': 60, 'left': 60, 'right': 60}, layout=Layout(min_width='125px'), marks=[Lines(colors=['#1f77b4', '#ff7f0e', '#2ca02c', '#d62728', '#9467bd', '#8c564b', '#e377c2', '#7f7f7f', '#bcbd22', '#17becf'], interactions={'hover': 'tooltip'}, scales={'x': LinearScale(), 'y': LinearScale()}, scales_metadata={'x': {'orientation': 'horizontal', 'dimension': 'x'}, 'y': {'orientation': 'vertical', 'dimension': 'y'}, 'color': {'dimension': 'color'}}, tooltip_style={'opacity': 0.9}, x=array([0.        , 0.06283185, 0.12566371, 0.18849556, 0.25132741,\n",
       "       0.31415927, 0.37699112, 0.43982297, 0.50265482, 0.56548668,\n",
       "       0.62831853, 0.69115038, 0.75398224, 0.81681409, 0.87964594,\n",
       "       0.9424778 , 1.00530965, 1.0681415 , 1.13097336, 1.19380521,\n",
       "       1.25663706, 1.31946891, 1.38230077, 1.44513262, 1.50796447,\n",
       "       1.57079633, 1.63362818, 1.69646003, 1.75929189, 1.82212374,\n",
       "       1.88495559, 1.94778745, 2.0106193 , 2.07345115, 2.136283  ,\n",
       "       2.19911486, 2.26194671, 2.32477856, 2.38761042, 2.45044227,\n",
       "       2.51327412, 2.57610598, 2.63893783, 2.70176968, 2.76460154,\n",
       "       2.82743339, 2.89026524, 2.95309709, 3.01592895, 3.0787608 ,\n",
       "       3.14159265, 3.20442451, 3.26725636, 3.33008821, 3.39292007,\n",
       "       3.45575192, 3.51858377, 3.58141563, 3.64424748, 3.70707933,\n",
       "       3.76991118, 3.83274304, 3.89557489, 3.95840674, 4.0212386 ,\n",
       "       4.08407045, 4.1469023 , 4.20973416, 4.27256601, 4.33539786,\n",
       "       4.39822972, 4.46106157, 4.52389342, 4.58672527, 4.64955713,\n",
       "       4.71238898, 4.77522083, 4.83805269, 4.90088454, 4.96371639,\n",
       "       5.02654825, 5.0893801 , 5.15221195, 5.2150438 , 5.27787566,\n",
       "       5.34070751, 5.40353936, 5.46637122, 5.52920307, 5.59203492,\n",
       "       5.65486678, 5.71769863, 5.78053048, 5.84336234, 5.90619419,\n",
       "       5.96902604, 6.03185789, 6.09468975, 6.1575216 , 6.22035345,\n",
       "       6.28318531]), y=array([ 0.00000000e+00,  2.48689887e-01,  4.81753674e-01,  6.84547106e-01,\n",
       "        8.44327926e-01,  9.51056516e-01,  9.98026728e-01,  9.82287251e-01,\n",
       "        9.04827052e-01,  7.70513243e-01,  5.87785252e-01,  3.68124553e-01,\n",
       "        1.25333234e-01, -1.25333234e-01, -3.68124553e-01, -5.87785252e-01,\n",
       "       -7.70513243e-01, -9.04827052e-01, -9.82287251e-01, -9.98026728e-01,\n",
       "       -9.51056516e-01, -8.44327926e-01, -6.84547106e-01, -4.81753674e-01,\n",
       "       -2.48689887e-01,  6.43249060e-16,  2.48689887e-01,  4.81753674e-01,\n",
       "        6.84547106e-01,  8.44327926e-01,  9.51056516e-01,  9.98026728e-01,\n",
       "        9.82287251e-01,  9.04827052e-01,  7.70513243e-01,  5.87785252e-01,\n",
       "        3.68124553e-01,  1.25333234e-01, -1.25333234e-01, -3.68124553e-01,\n",
       "       -5.87785252e-01, -7.70513243e-01, -9.04827052e-01, -9.82287251e-01,\n",
       "       -9.98026728e-01, -9.51056516e-01, -8.44327926e-01, -6.84547106e-01,\n",
       "       -4.81753674e-01, -2.48689887e-01,  1.28649812e-15,  2.48689887e-01,\n",
       "        4.81753674e-01,  6.84547106e-01,  8.44327926e-01,  9.51056516e-01,\n",
       "        9.98026728e-01,  9.82287251e-01,  9.04827052e-01,  7.70513243e-01,\n",
       "        5.87785252e-01,  3.68124553e-01,  1.25333234e-01, -1.25333234e-01,\n",
       "       -3.68124553e-01, -5.87785252e-01, -7.70513243e-01, -9.04827052e-01,\n",
       "       -9.82287251e-01, -9.98026728e-01, -9.51056516e-01, -8.44327926e-01,\n",
       "       -6.84547106e-01, -4.81753674e-01, -2.48689887e-01, -7.34788079e-16,\n",
       "        2.48689887e-01,  4.81753674e-01,  6.84547106e-01,  8.44327926e-01,\n",
       "        9.51056516e-01,  9.98026728e-01,  9.82287251e-01,  9.04827052e-01,\n",
       "        7.70513243e-01,  5.87785252e-01,  3.68124553e-01,  1.25333234e-01,\n",
       "       -1.25333234e-01, -3.68124553e-01, -5.87785252e-01, -7.70513243e-01,\n",
       "       -9.04827052e-01, -9.82287251e-01, -9.98026728e-01, -9.51056516e-01,\n",
       "       -8.44327926e-01, -6.84547106e-01, -4.81753674e-01, -2.48689887e-01,\n",
       "       -9.79717439e-16]))], scale_x=LinearScale(allow_padding=False, max=1.0, min=0.0), scale_y=LinearScale(allow_padding=False, max=1.0, min=0.0), title='First Example')))"
      ]
     },
     "metadata": {},
     "output_type": "display_data"
    }
   ],
   "source": [
    "def model(xs, f, a):\n",
    "    return a * np.sin(xs* f)\n",
    "\n",
    "f0 = 4\n",
    "a0 = 1\n",
    "xs = np.linspace(0.0, np.pi*2, 101)\n",
    "ys = model(xs, f0, a0)\n",
    "\n",
    "x_sc = LinearScale()\n",
    "y_sc = LinearScale()\n",
    "\n",
    "ax_x = Axis(label='X', scale=x_sc, grid_lines='solid')\n",
    "ax_y = Axis(label='Y', scale=y_sc, orientation='vertical', grid_lines='solid')\n",
    "\n",
    "line = Lines(x=xs, y=ys, scales={'x': x_sc, 'y': y_sc})\n",
    "fig = Figure(axes=[ax_x, ax_y], marks=[line], title='First Example')\n",
    "\n",
    "\n",
    "f = IntSlider(value=f0, min = 1, max=10, description='freq')\n",
    "a = IntSlider(value=a0, min = 1, max=20, description='amp')\n",
    "def update_series(h):\n",
    "    line.y = model(line.x, f.value, a.value)\n",
    "   \n",
    "f.observe(update_series)\n",
    "a.observe(update_series)\n",
    "VBox([f, a, fig])"
   ]
  },
  {
   "cell_type": "code",
   "execution_count": 4,
   "metadata": {},
   "outputs": [
    {
     "data": {
      "application/vnd.jupyter.widget-view+json": {
       "model_id": "026665ca2f174dd4ab236b25d0ff41d8",
       "version_major": 2,
       "version_minor": 0
      },
      "text/html": [
       "<p>Failed to display Jupyter Widget of type <code>Figure</code>.</p>\n",
       "<p>\n",
       "  If you're reading this message in the Jupyter Notebook or JupyterLab Notebook, it may mean\n",
       "  that the widgets JavaScript is still loading. If this message persists, it\n",
       "  likely means that the widgets JavaScript library is either not installed or\n",
       "  not enabled. See the <a href=\"https://ipywidgets.readthedocs.io/en/stable/user_install.html\">Jupyter\n",
       "  Widgets Documentation</a> for setup instructions.\n",
       "</p>\n",
       "<p>\n",
       "  If you're reading this message in another frontend (for example, a static\n",
       "  rendering on GitHub or <a href=\"https://nbviewer.jupyter.org/\">NBViewer</a>),\n",
       "  it may mean that your frontend doesn't currently support widgets.\n",
       "</p>\n"
      ],
      "text/plain": [
       "Figure(axes=[Axis(label='X', scale=LinearScale()), Axis(label='Y', orientation='vertical', scale=LinearScale())], fig_margin={'top': 60, 'bottom': 60, 'left': 60, 'right': 60}, layout=Layout(min_width='125px'), marks=[Scatter(colors=['steelblue'], interactions={'hover': 'tooltip'}, scales={'x': LinearScale(), 'y': LinearScale()}, scales_metadata={'x': {'orientation': 'horizontal', 'dimension': 'x'}, 'y': {'orientation': 'vertical', 'dimension': 'y'}, 'color': {'dimension': 'color'}, 'size': {'dimension': 'size'}, 'opacity': {'dimension': 'opacity'}, 'rotation': {'dimension': 'rotation'}, 'skew': {'dimension': 'skew'}}, tooltip_style={'opacity': 0.9}, x=array([0.01587688, 0.07984646, 0.28532348, 0.76816926, 0.24748051,\n",
       "       0.97578025, 0.06874705, 0.38672317, 0.54281708, 0.36612916,\n",
       "       0.67897001, 0.86473386, 0.1874334 , 0.7751029 , 0.29867414,\n",
       "       0.33616639, 0.85122406, 0.18672882, 0.7371775 , 0.61201277]), y=array([0.94342342, 0.97603057, 0.60685621, 0.07014271, 0.27497351,\n",
       "       0.90589116, 0.9318015 , 0.4847993 , 0.88971372, 0.15952137,\n",
       "       0.7786938 , 0.59888486, 0.11432453, 0.7388998 , 0.0996271 ,\n",
       "       0.73492747, 0.01917393, 0.96227562, 0.40247628, 0.44396188]))], scale_x=LinearScale(allow_padding=False, max=1.0, min=0.0), scale_y=LinearScale(allow_padding=False, max=1.0, min=0.0), title='First Example')"
      ]
     },
     "metadata": {},
     "output_type": "display_data"
    }
   ],
   "source": [
    "N = 20\n",
    "xs = np.random.random(N)\n",
    "ys = np.random.random(N)\n",
    "\n",
    "x_sc = LinearScale()\n",
    "y_sc = LinearScale()\n",
    "ax_x = Axis(label='X', scale=x_sc, grid_lines='solid')\n",
    "ax_y = Axis(label='Y', scale=y_sc, orientation='vertical', grid_lines='solid')\n",
    "sc = Scatter(x = xs, y=ys, scales={'x':x_sc, 'y':y_sc})\n",
    "fig = Figure(axes=[ax_x, ax_y], marks=[sc], title='First Example')\n",
    "\n",
    "def add_new_pt(*args):\n",
    "    fig.title = 'bar'\n",
    "sc.on_click(add_new_pt)\n",
    "\n",
    "fig"
   ]
  },
  {
   "cell_type": "code",
   "execution_count": 5,
   "metadata": {},
   "outputs": [],
   "source": [
    "sc.enable_move=True"
   ]
  },
  {
   "cell_type": "markdown",
   "metadata": {},
   "source": [
    "## References\n",
    "\n",
    "Building Interactive Applications and Dashboards in the Jupyter Notebook https://www.youtube.com/watch?v=i40d8-Hu4vM&t=1131s"
   ]
  },
  {
   "cell_type": "markdown",
   "metadata": {},
   "source": []
  }
 ],
 "metadata": {
  "kernelspec": {
   "display_name": "Python 3",
   "language": "python",
   "name": "python3"
  },
  "language_info": {
   "codemirror_mode": {
    "name": "ipython",
    "version": 3
   },
   "file_extension": ".py",
   "mimetype": "text/x-python",
   "name": "python",
   "nbconvert_exporter": "python",
   "pygments_lexer": "ipython3",
   "version": "3.6.3"
  }
 },
 "nbformat": 4,
 "nbformat_minor": 2
}
