{
 "cells": [
  {
   "cell_type": "markdown",
   "metadata": {},
   "source": [
    "# Solution of Magic Hexagons with Z3\n",
    "\n",
    "https://en.wikipedia.org/wiki/Magic_hexagon\n",
    "\n",
    "This was a puzzle that I found, and it matched up nicely with some reading I'd been doing on SAT/SMT solvers. It's looking for a hex-grid of 19 tiles, where sums of rows and diagonals sum to 38. This is similar to magic square type problems\n",
    "\n",
    "## Installation Process for Z3\n",
    "\n",
    "Download the z3 sources and then:\n",
    "\n",
    "```\n",
    "./configure --prefix $HOME/.local --python\n",
    "cd build\n",
    "make\n",
    "make install\n",
    "```\n",
    "\n",
    "The conda packages seemed to conflict with (seemingly) unrelated packages, so rolling it myself seemed like the shortest path to goal."
   ]
  },
  {
   "cell_type": "code",
   "execution_count": 6,
   "metadata": {},
   "outputs": [],
   "source": [
    "from z3 import *"
   ]
  },
  {
   "cell_type": "code",
   "execution_count": 19,
   "metadata": {},
   "outputs": [
    {
     "name": "stdout",
     "output_type": "stream",
     "text": [
      "[x_10 = 2,\n",
      " x_9 = 5,\n",
      " x_6 = 19,\n",
      " x_5 = 7,\n",
      " x_11 = 16,\n",
      " x_14 = 4,\n",
      " x_15 = 12,\n",
      " x_7 = 9,\n",
      " x_8 = 6,\n",
      " x_12 = 14,\n",
      " x_13 = 8,\n",
      " x_16 = 15,\n",
      " x_17 = 13,\n",
      " x_3 = 11,\n",
      " x_4 = 1,\n",
      " x_18 = 10,\n",
      " x_0 = 18,\n",
      " x_2 = 3,\n",
      " x_1 = 17]\n"
     ]
    }
   ],
   "source": [
    "# Matrix of integer values\n",
    "X = [ Int('x_%d' % i) for i in range(19) ]\n",
    "\n",
    "# validate only the right integral values are present\n",
    "in_range_c   = [ And(1 <= X[i], X[i] <= 19) for i in range(19) ]\n",
    "\n",
    "# validate that only one of each is present\n",
    "no_repeats_c = [ Distinct(X) ]\n",
    "\n",
    "# there are smarter ways to write this, but it's enough to brute force the adjacency\n",
    "# constraints\n",
    "\n",
    "rows = [\n",
    "    [0,1,2],\n",
    "    [3,4,5,6],\n",
    "    [7,8,9,10,11],\n",
    "    [12,13,14,15],\n",
    "    [16,17,18]\n",
    "]\n",
    "\n",
    "lrows = [\n",
    "    [0, 3, 7],\n",
    "    [12,8,4,1],\n",
    "    [16,13,9, 5,2],\n",
    "    [17,14,10,6],\n",
    "    [18,15,11]\n",
    "]\n",
    "\n",
    "rrows = [\n",
    "    [2,6,11],\n",
    "    [1,5,10,15],\n",
    "    [0,4,9,14,18],\n",
    "    [3,8,13,17],\n",
    "    [7,12,16]\n",
    "]\n",
    "\n",
    "def build_tab_sum(rows):\n",
    "    row_c = []\n",
    "    for row in rows:\n",
    "        row_c.append(sum(X[i] for i in row) - 38 == 0)\n",
    "    return row_c\n",
    "\n",
    "# problem constaints\n",
    "problem_c = in_range_c + no_repeats_c + build_tab_sum(rows) + build_tab_sum(lrows) + build_tab_sum(rrows)\n",
    "\n",
    "s = Solver()\n",
    "s.add(problem_c)\n",
    "if s.check() == sat:\n",
    "    print(s.model())"
   ]
  }
 ],
 "metadata": {
  "kernelspec": {
   "display_name": "Python 3",
   "language": "python",
   "name": "python3"
  },
  "language_info": {
   "codemirror_mode": {
    "name": "ipython",
    "version": 3
   },
   "file_extension": ".py",
   "mimetype": "text/x-python",
   "name": "python",
   "nbconvert_exporter": "python",
   "pygments_lexer": "ipython3",
   "version": "3.6.3"
  }
 },
 "nbformat": 4,
 "nbformat_minor": 2
}
