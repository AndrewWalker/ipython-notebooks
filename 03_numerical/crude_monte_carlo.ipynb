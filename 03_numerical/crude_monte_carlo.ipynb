{
 "metadata": {
  "name": "",
  "signature": "sha256:6883242c4f24ba184f37539613dfff2151996fefe69cf32398314de0e551cee6"
 },
 "nbformat": 3,
 "nbformat_minor": 0,
 "worksheets": [
  {
   "cells": [
    {
     "cell_type": "markdown",
     "metadata": {},
     "source": [
      "# Crude Monte Carlo\n",
      "\n",
      "Based on Example 8.3 (p306) from the *Handbook of Monte Carlo Methods*, by Krose, Taimre and Botev\n"
     ]
    },
    {
     "cell_type": "code",
     "collapsed": false,
     "input": [
      "import scipy.stats"
     ],
     "language": "python",
     "metadata": {},
     "outputs": [],
     "prompt_number": 2
    },
    {
     "cell_type": "code",
     "collapsed": false,
     "input": [
      "def crude_monte_carlo(y, alpha = 0.05):\n",
      "    \"\"\"\n",
      "    \"\"\"\n",
      "    mY = np.mean(y)\n",
      "    sY = np.std(y)\n",
      "    RE = sY/mY/sqrt(y.shape[0])\n",
      "    z  = scipy.stats.norm.ppf(1-alpha/2)\n",
      "    return mY, sY, RE, mY*(1-z*RE), mY*(1+z*RE)"
     ],
     "language": "python",
     "metadata": {},
     "outputs": [],
     "prompt_number": 5
    },
    {
     "cell_type": "code",
     "collapsed": false,
     "input": [],
     "language": "python",
     "metadata": {},
     "outputs": [
      {
       "metadata": {},
       "output_type": "pyout",
       "prompt_number": 3,
       "text": [
        "1.959963984540054"
       ]
      }
     ],
     "prompt_number": 3
    },
    {
     "cell_type": "code",
     "collapsed": false,
     "input": [],
     "language": "python",
     "metadata": {},
     "outputs": []
    }
   ],
   "metadata": {}
  }
 ]
}