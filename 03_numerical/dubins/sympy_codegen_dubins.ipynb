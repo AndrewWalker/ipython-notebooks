{
 "cells": [
  {
   "cell_type": "code",
   "execution_count": 2,
   "metadata": {
    "collapsed": true
   },
   "outputs": [],
   "source": [
    "import sympy as sym"
   ]
  },
  {
   "cell_type": "code",
   "execution_count": 3,
   "metadata": {
    "collapsed": false
   },
   "outputs": [],
   "source": [
    "from sympy.printing.ccode import C99CodePrinter\n",
    "from sympy.printing.codeprinter import Assignment "
   ]
  },
  {
   "cell_type": "code",
   "execution_count": 4,
   "metadata": {
    "collapsed": true
   },
   "outputs": [],
   "source": [
    "import pprint\n",
    "from sympy import *"
   ]
  },
  {
   "cell_type": "code",
   "execution_count": 5,
   "metadata": {
    "collapsed": true
   },
   "outputs": [],
   "source": [
    "sym.init_printing()"
   ]
  },
  {
   "cell_type": "code",
   "execution_count": 130,
   "metadata": {
    "collapsed": false
   },
   "outputs": [],
   "source": [
    "class MyCodePrinter(C99CodePrinter):\n",
    "    def __init__(self, *args, **kwargs):\n",
    "        super(C99CodePrinter, self).__init__(*args, **kwargs)\n",
    "    def _print_tuple(self, expr):\n",
    "        lines = []\n",
    "        for item in expr:\n",
    "            if not item.has(Assignment):\n",
    "                raise ValueError(\"Tuples must only contain assignment\")\n",
    "            lines.append(self._print(item))\n",
    "        return '\\n'.join(lines)\n",
    "    \n",
    "printer = MyCodePrinter(settings = dict(user_functions = {'Mod' : 'fmodr'}))"
   ]
  },
  {
   "cell_type": "code",
   "execution_count": 7,
   "metadata": {
    "collapsed": false
   },
   "outputs": [],
   "source": [
    "#printer.doprint(Piecewise)\n",
    "\n",
    "def scoped_piecewise(cond, ts, fs, assign_tos):\n",
    "    texprs = tuple([ Assignment(a, e) for e,a in zip(ts, assign_tos) ])\n",
    "    fexprs = tuple([ Assignment(a, e) for e,a in zip(fs, assign_tos) ])\n",
    "    return sym.Piecewise((texprs, cond), (fexprs, True))"
   ]
  },
  {
   "cell_type": "code",
   "execution_count": 173,
   "metadata": {
    "collapsed": false,
    "scrolled": false
   },
   "outputs": [],
   "source": [
    "def mod2pi(x):\n",
    "    return x % (2*sym.pi)\n",
    "\n",
    "def dubins_LSL(a, b, d):\n",
    "    tmp0 = d - sin(a) + sin(b)\n",
    "    p_sq = 2 + (d*d) - 2 * cos(a - b) + (2*d*(sin(a)-sin(b)))\n",
    "    tmp1 = atan2( (cos(b)-cos(a)), tmp0 );\n",
    "    t = mod2pi(-a + tmp1 );\n",
    "    p = sqrt( p_sq );\n",
    "    q = mod2pi(b - tmp1 );\n",
    "    cond = p_sq >= 0\n",
    "    return t, p, q, cond\n",
    "\n",
    "def dubins_RSR(a, b, d):\n",
    "    tmp0 = d-sin(a)+sin(b)\n",
    "    p_sq = 2 + (d*d) -(2*cos(a - b)) + (2*d*(sin(b)-sin(a)))\n",
    "    tmp1 = atan2( cos(a)-cos(b), tmp0 )\n",
    "    t = mod2pi( a - tmp1 );\n",
    "    p = sqrt( p_sq );\n",
    "    q = mod2pi( -b + tmp1 );\n",
    "    cond = GreaterThan(p_sq, 0)\n",
    "    return t, p, q, cond\n",
    "    \n",
    "\n",
    "def dubins_LSR(a, b, d):\n",
    "    p_sq = -2 + (d*d) + (2*cos(a-b)) + (2*d*(sin(a)+sin(b)));\n",
    "    p    = sqrt( p_sq );\n",
    "    tmp2 = atan2( (-cos(a)-cos(b)), (d+sin(a)+sin(b) ) ) - atan2(S(-2), p);\n",
    "    t    = mod2pi(-a + tmp2);\n",
    "    q    = mod2pi( -mod2pi(b) + tmp2 );\n",
    "    cond = p_sq >= 0\n",
    "    return t, p, q, cond\n",
    "\n",
    "def dubins_RSL(a, b, d):\n",
    "    p_sq = (d*d) -2 + (2*cos(a-b)) - (2*d*(sin(a)+sin(b)));\n",
    "    p    = sqrt( p_sq );\n",
    "    tmp2 = atan2( (cos(a)+cos(b) ), (d-sin(a)-sin(b) ) ) - atan2(2.0, p);\n",
    "    t    = mod2pi(a - tmp2);\n",
    "    q    = mod2pi(b - tmp2);\n",
    "    cond = p_sq >= 0\n",
    "    return t, p, q, cond\n",
    "\n",
    "def dubins_RLR(a, b, d):\n",
    "    tmp_rlr = (6 - d*d + 2*cos(a-b) + 2*d*(sin(a)-sin(b) )) / S(8);\n",
    "    p = mod2pi( 2*pi - acos( tmp_rlr ) );\n",
    "    t = mod2pi(a - atan2( cos(a)-cos(b), d-sin(a)+sin(b) ) + mod2pi(p/S(2)))\n",
    "    q = mod2pi(a - b - t + mod2pi(p));\n",
    "    cond = Abs(tmp_rlr) <= 1\n",
    "    return t, p, q, cond\n",
    "\n",
    "\n",
    "def dubins_LRL(a, b, d):\n",
    "    tmp_lrl = (6 - d*d + 2*cos(a-b) + 2*d*(- sin(a) + sin(b) )) / S(8);\n",
    "    p = mod2pi( 2*pi - acos( tmp_lrl ) );\n",
    "    t = mod2pi(-a - atan2( cos(a)-cos(b), d+sin(a)-sin(b) ) + p/2.);\n",
    "    q = mod2pi(mod2pi(b) - a -t + mod2pi(p));\n",
    "    cond = Abs(tmp_lrl) <= 1\n",
    "    return t, p, q, cond\n",
    "\n",
    "\n",
    "a, b = sym.symbols('a b', real=True)\n",
    "d = sym.symbols('d', real=True, postive=True)\n",
    "fs = [dubins_LSL, dubins_RSR, dubins_LSR, dubins_RSL, dubins_RLR, dubins_LRL]\n",
    "xs = []\n",
    "for f in fs:\n",
    "    xs.append( list(f(a, b, d) ) )\n"
   ]
  },
  {
   "cell_type": "code",
   "execution_count": 174,
   "metadata": {
    "collapsed": false
   },
   "outputs": [],
   "source": [
    "a, b = sym.symbols('a b', real=True)\n",
    "d = sym.symbols('d', real=True, postive=True)\n",
    "fs = [dubins_LSL, dubins_RSR, dubins_LSR, dubins_RSL, dubins_RLR, dubins_LRL]\n",
    "gs = [ f(a,b,d) for f in fs]"
   ]
  },
  {
   "cell_type": "code",
   "execution_count": 175,
   "metadata": {
    "collapsed": false
   },
   "outputs": [
    {
     "name": "stdout",
     "output_type": "stream",
     "text": [
      "------------------\n",
      "if (-2*c_ab + pow(d, 2) + 2*d*(sa - sb) + 2 >= 0) {\n",
      "   y[0] = fmodr(b - atan2(-ca + cb, d - sa + sb), 2*M_PI);\n",
      "   y[1] = sqrt(-2*c_ab + pow(d, 2) + 2*d*(sa - sb) + 2);\n",
      "   y[2] = fmodr(-a + atan2(-ca + cb, d - sa + sb), 2*M_PI);\n",
      "}\n",
      "else {\n",
      "   y[0] = 0;\n",
      "   y[1] = 0;\n",
      "   y[2] = 0;\n",
      "}\n",
      "------------------\n",
      "if (-2*c_ab + pow(d, 2) + 2*d*(-sa + sb) + 2 >= 0) {\n",
      "   y[0] = fmodr(-b + atan2(ca - cb, d - sa + sb), 2*M_PI);\n",
      "   y[1] = sqrt(-2*c_ab + pow(d, 2) + 2*d*(-sa + sb) + 2);\n",
      "   y[2] = fmodr(a - atan2(ca - cb, d - sa + sb), 2*M_PI);\n",
      "}\n",
      "else {\n",
      "   y[0] = 0;\n",
      "   y[1] = 0;\n",
      "   y[2] = 0;\n",
      "}\n",
      "------------------\n",
      "if (2*c_ab + pow(d, 2) + 2*d*(sa + sb) - 2 >= 0) {\n",
      "   y[0] = fmodr(-fmodr(b, 2*M_PI) - atan2(-2, sqrt(2*c_ab + pow(d, 2) + 2*d*(sa + sb) - 2)) + atan2(-ca - cb, d + sa + sb), 2*M_PI);\n",
      "   y[1] = sqrt(2*c_ab + pow(d, 2) + 2*d*(sa + sb) - 2);\n",
      "   y[2] = fmodr(-a - atan2(-2, sqrt(2*c_ab + pow(d, 2) + 2*d*(sa + sb) - 2)) + atan2(-ca - cb, d + sa + sb), 2*M_PI);\n",
      "}\n",
      "else {\n",
      "   y[0] = 0;\n",
      "   y[1] = 0;\n",
      "   y[2] = 0;\n",
      "}\n",
      "------------------\n",
      "if (2*c_ab + pow(d, 2) - 2*d*(sa + sb) - 2 >= 0) {\n",
      "   y[0] = fmodr(b + atan2(2.0, sqrt(2*c_ab + pow(d, 2) - 2*d*(sa + sb) - 2)) - atan2(ca + cb, d - sa - sb), 2*M_PI);\n",
      "   y[1] = sqrt(2*c_ab + pow(d, 2) - 2*d*(sa + sb) - 2);\n",
      "   y[2] = fmodr(a + atan2(2.0, sqrt(2*c_ab + pow(d, 2) - 2*d*(sa + sb) - 2)) - atan2(ca + cb, d - sa - sb), 2*M_PI);\n",
      "}\n",
      "else {\n",
      "   y[0] = 0;\n",
      "   y[1] = 0;\n",
      "   y[2] = 0;\n",
      "}\n",
      "------------------\n",
      "if (fabs((1.0L/4.0L)*c_ab - 1.0L/8.0L*pow(d, 2) + (1.0L/4.0L)*d*(sa - sb) + 3.0L/4.0L) <= 1) {\n",
      "   y[0] = fmodr(a - b - fmodr(a + fmodr((1.0L/2.0L)*fmodr(-acos((1.0L/4.0L)*c_ab - 1.0L/8.0L*pow(d, 2) + (1.0L/4.0L)*d*(sa - sb) + 3.0L/4.0L), 2*M_PI), 2*M_PI) - atan2(ca - cb, d - sa + sb), 2*M_PI) + fmodr(-acos((1.0L/4.0L)*c_ab - 1.0L/8.0L*pow(d, 2) + (1.0L/4.0L)*d*(sa - sb) + 3.0L/4.0L), 2*M_PI), 2*M_PI);\n",
      "   y[1] = fmodr(-acos((1.0L/4.0L)*c_ab - 1.0L/8.0L*pow(d, 2) + (1.0L/4.0L)*d*(sa - sb) + 3.0L/4.0L), 2*M_PI);\n",
      "   y[2] = fmodr(a + fmodr((1.0L/2.0L)*fmodr(-acos((1.0L/4.0L)*c_ab - 1.0L/8.0L*pow(d, 2) + (1.0L/4.0L)*d*(sa - sb) + 3.0L/4.0L), 2*M_PI), 2*M_PI) - atan2(ca - cb, d - sa + sb), 2*M_PI);\n",
      "}\n",
      "else {\n",
      "   y[0] = 0;\n",
      "   y[1] = 0;\n",
      "   y[2] = 0;\n",
      "}\n",
      "------------------\n",
      "if (fabs((1.0L/4.0L)*c_ab - 1.0L/8.0L*pow(d, 2) + (1.0L/4.0L)*d*(-sa + sb) + 3.0L/4.0L) <= 1) {\n",
      "   y[0] = fmodr(-a + fmodr(b, 2*M_PI) - fmodr(-1.0*a + 0.5*fmodr(-acos((1.0L/4.0L)*c_ab - 1.0L/8.0L*pow(d, 2) + (1.0L/4.0L)*d*(-sa + sb) + 3.0L/4.0L), 2*M_PI) - 1.0*atan2(ca - cb, d + sa - sb), 2*M_PI) + fmodr(-acos((1.0L/4.0L)*c_ab - 1.0L/8.0L*pow(d, 2) + (1.0L/4.0L)*d*(-sa + sb) + 3.0L/4.0L), 2*M_PI), 2*M_PI);\n",
      "   y[1] = fmodr(-acos((1.0L/4.0L)*c_ab - 1.0L/8.0L*pow(d, 2) + (1.0L/4.0L)*d*(-sa + sb) + 3.0L/4.0L), 2*M_PI);\n",
      "   y[2] = fmodr(-1.0*a + 0.5*fmodr(-acos((1.0L/4.0L)*c_ab - 1.0L/8.0L*pow(d, 2) + (1.0L/4.0L)*d*(-sa + sb) + 3.0L/4.0L), 2*M_PI) - 1.0*atan2(ca - cb, d + sa - sb), 2*M_PI);\n",
      "}\n",
      "else {\n",
      "   y[0] = 0;\n",
      "   y[1] = 0;\n",
      "   y[2] = 0;\n",
      "}\n"
     ]
    }
   ],
   "source": [
    "\n",
    "\n",
    "for f in fs:\n",
    "    print '------------------'\n",
    "    t, p, q, cond = f(a, b, d)\n",
    "    subs = {sin(a) : 'sa', sin(b) : 'sb', cos(a) : 'ca', cos(b) : 'cb', cos(a-b) : 'c_ab'}\n",
    "    cond = cond.subs(subs)\n",
    "    t = t.subs(subs)\n",
    "    p = p.subs(subs)\n",
    "    q = q.subs(subs)\n",
    "    \n",
    "    ys = [t, p, q]\n",
    "    y = sym.MatrixSymbol('y', 3, 1)\n",
    "    A = sym.Matrix([q, p, t])\n",
    "    B = sym.Matrix([0, 0, 0])\n",
    "    expr1 = Piecewise( (Assignment(y, A), cond), (Assignment(y, B), True)) \n",
    "    print printer.doprint(expr1)\n"
   ]
  },
  {
   "cell_type": "code",
   "execution_count": 177,
   "metadata": {
    "collapsed": false
   },
   "outputs": [
    {
     "data": {
      "image/png": "[encoded data removed]",
      "text/latex": [
       "$$\\mathrm{NaN}$$"
      ],
      "text/plain": [
       "nan"
      ]
     },
     "execution_count": 177,
     "metadata": {},
     "output_type": "execute_result"
    }
   ],
   "source": [
    "sym.atan2(0,0)"
   ]
  },
  {
   "cell_type": "code",
   "execution_count": 183,
   "metadata": {
    "collapsed": false
   },
   "outputs": [],
   "source": [
    "expr = acos(a+b*d)+b"
   ]
  },
  {
   "cell_type": "code",
   "execution_count": 190,
   "metadata": {
    "collapsed": false
   },
   "outputs": [
    {
     "name": "stdout",
     "output_type": "stream",
     "text": [
      "(a + b*d,)\n"
     ]
    }
   ],
   "source": [
    "for se in sym.preorder_traversal(expr):\n",
    "    if type(se) == acos:\n",
    "        print se.args\n",
    "    #print se, type(se)==acos"
   ]
  },
  {
   "cell_type": "code",
   "execution_count": 191,
   "metadata": {
    "collapsed": false
   },
   "outputs": [
    {
     "data": {
      "image/png": "[encoded data removed]",
      "text/latex": [
       "$$\\sqrt{a + b}$$"
      ],
      "text/plain": [
       "  _______\n",
       "╲╱ a + b "
      ]
     },
     "execution_count": 191,
     "metadata": {},
     "output_type": "execute_result"
    }
   ],
   "source": [
    "sqrt(a+b)"
   ]
  },
  {
   "cell_type": "code",
   "execution_count": 192,
   "metadata": {
    "collapsed": false
   },
   "outputs": [
    {
     "ename": "AttributeError",
     "evalue": "'function' object has no attribute 'domain'",
     "output_type": "error",
     "traceback": [
      "\u001b[0;31m---------------------------------------------------------------------------\u001b[0m",
      "\u001b[0;31mAttributeError\u001b[0m                            Traceback (most recent call last)",
      "\u001b[0;32m<ipython-input-192-39f7680b77f6>\u001b[0m in \u001b[0;36m<module>\u001b[0;34m()\u001b[0m\n\u001b[0;32m----> 1\u001b[0;31m \u001b[0msqrt\u001b[0m\u001b[0;34m.\u001b[0m\u001b[0mdomain\u001b[0m\u001b[0;34m\u001b[0m\u001b[0m\n\u001b[0m",
      "\u001b[0;31mAttributeError\u001b[0m: 'function' object has no attribute 'domain'"
     ]
    }
   ],
   "source": [
    "sqrt.domain"
   ]
  },
  {
   "cell_type": "code",
   "execution_count": 204,
   "metadata": {
    "collapsed": false
   },
   "outputs": [
    {
     "data": {
      "image/png": "[encoded data removed]",
      "text/latex": [
       "$$d^{2} + 2 d \\left(\\sin{\\left (a \\right )} - \\sin{\\left (b \\right )}\\right) - 2 \\cos{\\left (a - b \\right )} + 2$$"
      ],
      "text/plain": [
       " 2                                           \n",
       "d  + 2⋅d⋅(sin(a) - sin(b)) - 2⋅cos(a - b) + 2"
      ]
     },
     "execution_count": 204,
     "metadata": {},
     "output_type": "execute_result"
    }
   ],
   "source": [
    "sym.simplify(2 + (d*d) - 2 * cos(a - b) + (2*d*(sin(a)-sin(b))))"
   ]
  },
  {
   "cell_type": "code",
   "execution_count": 225,
   "metadata": {
    "collapsed": false
   },
   "outputs": [
    {
     "name": "stdout",
     "output_type": "stream",
     "text": [
      "p^2 =  d**2 + 2*d*sin(a) - 2*d*sin(b) - 2*cos(a - b) + 2\n"
     ]
    }
   ],
   "source": [
    "cx1 = cos(a+pi/2)\n",
    "cy1 = sin(a+pi/2)\n",
    "cx2 = d + cos(b+pi/2)\n",
    "cy2 = sin(b+pi/2)\n",
    "dx = cx2-cx1\n",
    "dy = cy2-cy1\n",
    "print 'p^2 = ', simplify(dx**2+dy**2)"
   ]
  },
  {
   "cell_type": "code",
   "execution_count": 229,
   "metadata": {
    "collapsed": false
   },
   "outputs": [
    {
     "data": {
      "image/png": "[encoded data removed]",
      "text/latex": [
       "$$d^{2} + 2 d \\sin{\\left (a \\right )} - 2 d \\sin{\\left (b \\right )} + 2$$"
      ],
      "text/plain": [
       " 2                              \n",
       "d  + 2⋅d⋅sin(a) - 2⋅d⋅sin(b) + 2"
      ]
     },
     "execution_count": 229,
     "metadata": {},
     "output_type": "execute_result"
    }
   ],
   "source": [
    "simplify(d**2+2*d*sin(a) -2*d*sin(b)+2)"
   ]
  },
  {
   "cell_type": "code",
   "execution_count": null,
   "metadata": {
    "collapsed": true
   },
   "outputs": [],
   "source": []
  }
 ],
 "metadata": {
  "kernelspec": {
   "display_name": "Python 2",
   "language": "python",
   "name": "python2"
  },
  "language_info": {
   "codemirror_mode": {
    "name": "ipython",
    "version": 2
   },
   "file_extension": ".py",
   "mimetype": "text/x-python",
   "name": "python",
   "nbconvert_exporter": "python",
   "pygments_lexer": "ipython2",
   "version": "2.7.13"
  }
 },
 "nbformat": 4,
 "nbformat_minor": 0
}
