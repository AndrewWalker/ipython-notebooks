{
 "cells": [
  {
   "cell_type": "markdown",
   "metadata": {},
   "source": [
    "# 1. Symbol solutions to the Dubin's curves\n",
    "\n",
    "This is a Jupyter notebook describing a symbolic (and primarily geometric) derivation of the optimal curves for the Dubin's curve. "
   ]
  },
  {
   "cell_type": "markdown",
   "metadata": {},
   "source": [
    "# 2. Definitions and Derivations\n",
    "\n",
    "A configuration $q$ of the Dubin's car is $[x, y, \\theta]^T$ where $(x, y)$ is a position and $\\theta$ is the angle. \n",
    "\n",
    "Dubin's paper showed that the shortest path between a pair of configurations $q_i$ and $q_e$ can be solved by a combination a series of bang-bang inputs.  \n",
    "\n",
    "This means that for each combination of possible optimal words, the shortest path problem can be reduced to solving three non-linear equations (for the length of the each of the arcs).  The final shortest path can then be selected from those words with meaningful results.\n",
    "\n",
    "Because Dubin's curves are invariant to rotation and translation, it's possible to simplify the solution of these equations by removing redundant information. This is done by:\n",
    "\n",
    "1. Translating the configurations s.t. q_i is at the origin\n",
    "2. Rotating both configurations s.t. the y- co-ordinate of q_e is 0\n",
    "\n",
    "The result of this is that there are now very obviously only three parameters:\n",
    "\n",
    "- the angle $\\alpha$ of the $q_i$ to the x- axis;\n",
    "- the angle $\\beta$ of $q_e$ to the x-axis; and \n",
    "- $d$ the distance between configurations."
   ]
  },
  {
   "cell_type": "code",
   "execution_count": 4,
   "metadata": {
    "collapsed": true
   },
   "outputs": [],
   "source": [
    "import sympy\n",
    "sympy.init_printing()\n",
    "from sympy import Mod, sin, cos, pi, sqrt, atan2"
   ]
  },
  {
   "cell_type": "code",
   "execution_count": 5,
   "metadata": {
    "collapsed": false
   },
   "outputs": [],
   "source": [
    "# The symbols used for solving the equations\n",
    "a, b = sympy.symbols('alpha beta', real=True)\n",
    "d = sympy.symbols('d', real=True, positive=True)"
   ]
  },
  {
   "cell_type": "markdown",
   "metadata": {},
   "source": [
    "# 2.1 Equations of Motion\n",
    "\n",
    "The following functions are the optimal Bang-Bang Primitives for the Dubins car. \n",
    "\n",
    "Note that by design, this code is written for clarity with the intention that algebraic results will be produced (ie/ this code is designed to produce symbolic results rather than numeric ones)"
   ]
  },
  {
   "cell_type": "code",
   "execution_count": 6,
   "metadata": {
    "collapsed": true
   },
   "outputs": [],
   "source": [
    "def circ_L(x, y, theta):\n",
    "    return (x-sin(theta), y+cos(theta))\n",
    "\n",
    "def circ_R(x, y, theta):\n",
    "    return (x+sin(theta), y-cos(theta))\n",
    "\n",
    "def fwd_L(x, y, theta, t):\n",
    "    # (x_c, y_c) is the centre of turn\n",
    "    x_c, y_c = circ_L(theta)\n",
    "    \n",
    "    # t_n is the angle the vehicle will reach\n",
    "    t_n = theta + t\n",
    "    \n",
    "    # (x_n, y_n) is the final vehicle position\n",
    "    x_n = x_c + sin(t_n) \n",
    "    y_n = y_c - cos(t_n)    \n",
    "    return x_n, y_n, t_n\n",
    "\n",
    "def fwd_R(x, y, theta, t):\n",
    "    # (x_c, y_c) is the centre of turn\n",
    "    x_c, y_c = circ_R(theta)\n",
    "    \n",
    "    # t_n is the angle the vehicle will reach\n",
    "    t_n = theta - t\n",
    "    \n",
    "    # (x_n, y_n) is the final vehicle position\n",
    "    x_n = x_c - sin(t_n)\n",
    "    y_n = y_c + cos(t_n)    \n",
    "    return x_n, y_n, t_n\n",
    "\n",
    "def fwd_S(x, y, theta, t):\n",
    "    x_n = x + sin(theta) * t\n",
    "    y_n = y + cos(theta) * t\n",
    "    t_n = theta\n",
    "    return x_n, y_n, t_n"
   ]
  },
  {
   "cell_type": "markdown",
   "metadata": {
    "collapsed": false
   },
   "source": [
    "# 3. Solutions\n",
    "\n",
    "The diagrams in this section are illustrative only they are not intended to show shortest paths"
   ]
  },
  {
   "cell_type": "markdown",
   "metadata": {},
   "source": [
    "## 3.1 LSL\n",
    "\n",
    "Assuming a Left-Straight-Left sequence. The length of the straight section must be the distance between the centre of turns between the configurations. This is a purely geometric argument.\n",
    "\n",
    "In the following diagram, the red dot indicates the initial configuration, and the blue line marks the straight segment. Also marked are the turning circles of the vehicle and the line between the turning centres\n",
    "\n",
    "<img src=\"files/LSL.svg\">"
   ]
  },
  {
   "cell_type": "markdown",
   "metadata": {},
   "source": [
    "### 3.1.1 Straight Segment"
   ]
  },
  {
   "cell_type": "markdown",
   "metadata": {},
   "source": [
    "The LSL segment can only exist when the length of the straight segment is greater than or equal to 0."
   ]
  },
  {
   "cell_type": "code",
   "execution_count": 7,
   "metadata": {
    "collapsed": false
   },
   "outputs": [
    {
     "data": {
      "image/png": "[encoded data removed]",
      "text/latex": [
       "$$- \\sin{\\left (\\alpha \\right )}$$"
      ],
      "text/plain": [
       "-sin(α)"
      ]
     },
     "execution_count": 7,
     "metadata": {},
     "output_type": "execute_result"
    }
   ],
   "source": [
    "# Circle center q_i \n",
    "cx1, cy1 = circ_L(0, 0, a)\n",
    "cx1"
   ]
  },
  {
   "cell_type": "code",
   "execution_count": 8,
   "metadata": {
    "collapsed": false
   },
   "outputs": [
    {
     "data": {
      "image/png": "[encoded data removed]",
      "text/latex": [
       "$$d - \\sin{\\left (\\beta \\right )}$$"
      ],
      "text/plain": [
       "d - sin(β)"
      ]
     },
     "execution_count": 8,
     "metadata": {},
     "output_type": "execute_result"
    }
   ],
   "source": [
    "# Circle center q_e\n",
    "cx2, cy2 = circ_L(d, 0, b)\n",
    "cx2"
   ]
  },
  {
   "cell_type": "code",
   "execution_count": 9,
   "metadata": {
    "collapsed": false
   },
   "outputs": [
    {
     "data": {
      "image/png": "[encoded data removed]",
      "text/latex": [
       "$$\\left(d + \\sin{\\left (\\alpha \\right )} - \\sin{\\left (\\beta \\right )}\\right)^{2}$$"
      ],
      "text/plain": [
       "                     2\n",
       "(d + sin(α) - sin(β)) "
      ]
     },
     "execution_count": 9,
     "metadata": {},
     "output_type": "execute_result"
    }
   ],
   "source": [
    "dx = cx2-cx1\n",
    "dx**2"
   ]
  },
  {
   "cell_type": "code",
   "execution_count": 10,
   "metadata": {
    "collapsed": false
   },
   "outputs": [
    {
     "data": {
      "image/png": "[encoded data removed]",
      "text/latex": [
       "$$\\left(- \\cos{\\left (\\alpha \\right )} + \\cos{\\left (\\beta \\right )}\\right)^{2}$$"
      ],
      "text/plain": [
       "                  2\n",
       "(-cos(α) + cos(β)) "
      ]
     },
     "execution_count": 10,
     "metadata": {},
     "output_type": "execute_result"
    }
   ],
   "source": [
    "dy = cy2-cy1\n",
    "dy**2"
   ]
  },
  {
   "cell_type": "code",
   "execution_count": 11,
   "metadata": {
    "collapsed": false
   },
   "outputs": [
    {
     "data": {
      "image/png": "[encoded data removed]",
      "text/latex": [
       "$$d^{2} + 2 d \\sin{\\left (\\alpha \\right )} - 2 d \\sin{\\left (\\beta \\right )} - 2 \\cos{\\left (\\alpha - \\beta \\right )} + 2$$"
      ],
      "text/plain": [
       " 2                                             \n",
       "d  + 2⋅d⋅sin(α) - 2⋅d⋅sin(β) - 2⋅cos(α - β) + 2"
      ]
     },
     "execution_count": 11,
     "metadata": {},
     "output_type": "execute_result"
    }
   ],
   "source": [
    "p_sq = dx**2+dy**2\n",
    "sympy.simplify(p_sq)"
   ]
  },
  {
   "cell_type": "markdown",
   "metadata": {},
   "source": [
    "### 3.1.2 Left Segment 1 and 2\n",
    "\n",
    "The arcs are determined by a combination of the angle that the straight segment is at and the $\\alpha$ and $\\beta$ parameters. Because angles are "
   ]
  },
  {
   "cell_type": "code",
   "execution_count": 12,
   "metadata": {
    "collapsed": false
   },
   "outputs": [
    {
     "data": {
      "image/png": "[encoded data removed]",
      "text/latex": [
       "$$\\operatorname{atan_{2}}{\\left (- \\cos{\\left (\\alpha \\right )} + \\cos{\\left (\\beta \\right )},d + \\sin{\\left (\\alpha \\right )} - \\sin{\\left (\\beta \\right )} \\right )}$$"
      ],
      "text/plain": [
       "atan2(-cos(α) + cos(β), d + sin(α) - sin(β))"
      ]
     },
     "execution_count": 12,
     "metadata": {},
     "output_type": "execute_result"
    }
   ],
   "source": [
    "phi = atan2(dy, dx)\n",
    "phi"
   ]
  },
  {
   "cell_type": "code",
   "execution_count": 13,
   "metadata": {
    "collapsed": false
   },
   "outputs": [
    {
     "data": {
      "text/latex": [
       "$$\\left(- \\alpha + \\operatorname{atan_{2}}{\\left (- \\cos{\\left (\\alpha \\right )} + \\cos{\\left (\\beta \\right )},d + \\sin{\\left (\\alpha \\right )} - \\sin{\\left (\\beta \\right )} \\right )}\\right)\\bmod{2 \\pi}$$"
      ],
      "text/plain": [
       "(-α + atan2(-cos(α) + cos(β), d + sin(α) - sin(β))) mod 2⋅π"
      ]
     },
     "execution_count": 13,
     "metadata": {},
     "output_type": "execute_result"
    }
   ],
   "source": [
    "Mod(phi - a, 2*pi)"
   ]
  },
  {
   "cell_type": "code",
   "execution_count": 14,
   "metadata": {
    "collapsed": false
   },
   "outputs": [
    {
     "data": {
      "text/latex": [
       "$$\\left(\\beta - \\operatorname{atan_{2}}{\\left (- \\cos{\\left (\\alpha \\right )} + \\cos{\\left (\\beta \\right )},d + \\sin{\\left (\\alpha \\right )} - \\sin{\\left (\\beta \\right )} \\right )}\\right)\\bmod{2 \\pi}$$"
      ],
      "text/plain": [
       "(β - atan2(-cos(α) + cos(β), d + sin(α) - sin(β))) mod 2⋅π"
      ]
     },
     "execution_count": 14,
     "metadata": {},
     "output_type": "execute_result"
    }
   ],
   "source": [
    "Mod(b - phi, 2*pi)"
   ]
  },
  {
   "cell_type": "markdown",
   "metadata": {},
   "source": [
    "## 3.2 RSR\n",
    "\n",
    "The case for RSR is the symmetry of the LSL case, and the reasoning follows in the same way\n",
    "\n",
    "<img src=\"files/RSR.svg\">"
   ]
  },
  {
   "cell_type": "code",
   "execution_count": 15,
   "metadata": {
    "collapsed": false
   },
   "outputs": [
    {
     "data": {
      "image/png": "[encoded data removed]",
      "text/latex": [
       "$$d^{2} - 2 d \\sin{\\left (\\alpha \\right )} + 2 d \\sin{\\left (\\beta \\right )} - 2 \\cos{\\left (\\alpha - \\beta \\right )} + 2$$"
      ],
      "text/plain": [
       " 2                                             \n",
       "d  - 2⋅d⋅sin(α) + 2⋅d⋅sin(β) - 2⋅cos(α - β) + 2"
      ]
     },
     "execution_count": 15,
     "metadata": {},
     "output_type": "execute_result"
    }
   ],
   "source": [
    "cx1, cy1 = circ_R(0, 0, a)\n",
    "cx2, cy2 = circ_R(d, 0, b)\n",
    "dx = cx2-cx1\n",
    "dy = cy2-cy1\n",
    "p_sq = dx**2+dy**2\n",
    "sympy.simplify(p_sq)"
   ]
  },
  {
   "cell_type": "markdown",
   "metadata": {},
   "source": [
    "## 3.3 LSR\n",
    "\n",
    "The difference for the case where the direction changes is that the straight section will path through the centre of the line between appropriate turning circles.  Thinking about it in a slightly different way, you've now formed a right angle triangle, where the hypotenuse is the distance between turning circles, and one side is length 2 (two radii).\n",
    "\n",
    "The straight segment angle can be inferred using an atan2, similarly, the angle between the straight segment and the tangent line is $atan_2(2, p)$\n",
    "\n",
    "In the diagram, the straight segment is shown in blue, along with green construction lines that highlight how the tangent is used"
   ]
  },
  {
   "cell_type": "markdown",
   "metadata": {},
   "source": [
    "<img src=\"files/LSR.svg\">"
   ]
  },
  {
   "cell_type": "code",
   "execution_count": 16,
   "metadata": {
    "collapsed": false
   },
   "outputs": [
    {
     "data": {
      "image/png": "[encoded data removed]",
      "text/latex": [
       "$$d^{2} + 2 d \\sin{\\left (\\alpha \\right )} + 2 d \\sin{\\left (\\beta \\right )} + 2 \\cos{\\left (\\alpha - \\beta \\right )} - 2$$"
      ],
      "text/plain": [
       " 2                                             \n",
       "d  + 2⋅d⋅sin(α) + 2⋅d⋅sin(β) + 2⋅cos(α - β) - 2"
      ]
     },
     "execution_count": 16,
     "metadata": {},
     "output_type": "execute_result"
    }
   ],
   "source": [
    "cx1, cy1 = circ_L(0, 0, a)\n",
    "cx2, cy2 = circ_R(d, 0, b)\n",
    "dx = cx2-cx1\n",
    "dy = cy2-cy1\n",
    "p_sq = (dx**2+dy**2) - 2**2\n",
    "sympy.simplify(p_sq)"
   ]
  },
  {
   "cell_type": "code",
   "execution_count": 17,
   "metadata": {
    "collapsed": false
   },
   "outputs": [
    {
     "data": {
      "image/png": "[encoded data removed]",
      "text/latex": [
       "$$\\operatorname{atan_{2}}{\\left (- \\cos{\\left (\\alpha \\right )} - \\cos{\\left (\\beta \\right )},d + \\sin{\\left (\\alpha \\right )} + \\sin{\\left (\\beta \\right )} \\right )}$$"
      ],
      "text/plain": [
       "atan2(-cos(α) - cos(β), d + sin(α) + sin(β))"
      ]
     },
     "execution_count": 17,
     "metadata": {},
     "output_type": "execute_result"
    }
   ],
   "source": [
    "phi = atan2(dy, dx)\n",
    "phi"
   ]
  },
  {
   "cell_type": "code",
   "execution_count": 18,
   "metadata": {
    "collapsed": false
   },
   "outputs": [
    {
     "data": {
      "image/png": "[encoded data removed]",
      "text/latex": [
       "$$\\operatorname{atan_{2}}{\\left (2,\\sqrt{\\left(- \\cos{\\left (\\alpha \\right )} - \\cos{\\left (\\beta \\right )}\\right)^{2} + \\left(d + \\sin{\\left (\\alpha \\right )} + \\sin{\\left (\\beta \\right )}\\right)^{2} - 4} \\right )}$$"
      ],
      "text/plain": [
       "     ⎛      __________________________________________________⎞\n",
       "     ⎜     ╱                   2                        2     ⎟\n",
       "atan2⎝2, ╲╱  (-cos(α) - cos(β))  + (d + sin(α) + sin(β))  - 4 ⎠"
      ]
     },
     "execution_count": 18,
     "metadata": {},
     "output_type": "execute_result"
    }
   ],
   "source": [
    "sigma = atan2(2, sqrt(p_sq))\n",
    "sigma"
   ]
  },
  {
   "cell_type": "code",
   "execution_count": 19,
   "metadata": {
    "collapsed": false
   },
   "outputs": [
    {
     "data": {
      "text/latex": [
       "$$\\left(\\alpha + \\operatorname{atan_{2}}{\\left (2,\\sqrt{\\left(- \\cos{\\left (\\alpha \\right )} - \\cos{\\left (\\beta \\right )}\\right)^{2} + \\left(d + \\sin{\\left (\\alpha \\right )} + \\sin{\\left (\\beta \\right )}\\right)^{2} - 4} \\right )} - \\operatorname{atan_{2}}{\\left (- \\cos{\\left (\\alpha \\right )} - \\cos{\\left (\\beta \\right )},d + \\sin{\\left (\\alpha \\right )} + \\sin{\\left (\\beta \\right )} \\right )}\\right)\\bmod{2 \\pi}$$"
      ],
      "text/plain": [
       "⎛         ⎛      __________________________________________________⎞          \n",
       "⎜         ⎜     ╱                   2                        2     ⎟          \n",
       "⎝α + atan2⎝2, ╲╱  (-cos(α) - cos(β))  + (d + sin(α) + sin(β))  - 4 ⎠ - atan2(-\n",
       "\n",
       "                                     ⎞        \n",
       "                                     ⎟        \n",
       "cos(α) - cos(β), d + sin(α) + sin(β))⎠ mod 2⋅π"
      ]
     },
     "execution_count": 19,
     "metadata": {},
     "output_type": "execute_result"
    }
   ],
   "source": [
    "t = Mod(a - phi + sigma, 2*pi)\n",
    "t"
   ]
  },
  {
   "cell_type": "markdown",
   "metadata": {},
   "source": [
    "## 3.4 RSL\n",
    "\n",
    "Symmetry case for LSR"
   ]
  },
  {
   "cell_type": "markdown",
   "metadata": {},
   "source": [
    "<img src=\"files/RSL.svg\">"
   ]
  },
  {
   "cell_type": "code",
   "execution_count": 20,
   "metadata": {
    "collapsed": false
   },
   "outputs": [
    {
     "data": {
      "image/png": "[encoded data removed]",
      "text/latex": [
       "$$d^{2} - 2 d \\sin{\\left (\\alpha \\right )} - 2 d \\sin{\\left (\\beta \\right )} + 2 \\cos{\\left (\\alpha - \\beta \\right )} - 2$$"
      ],
      "text/plain": [
       " 2                                             \n",
       "d  - 2⋅d⋅sin(α) - 2⋅d⋅sin(β) + 2⋅cos(α - β) - 2"
      ]
     },
     "execution_count": 20,
     "metadata": {},
     "output_type": "execute_result"
    }
   ],
   "source": [
    "cx1, cy1 = circ_R(0, 0, a)\n",
    "cx2, cy2 = circ_L(d, 0, b)\n",
    "dx = cx2-cx1\n",
    "dy = cy2-cy1\n",
    "p_sq = (dx**2+dy**2) - 2**2\n",
    "sympy.simplify(p_sq)"
   ]
  },
  {
   "cell_type": "markdown",
   "metadata": {},
   "source": [
    "## 3.5 RLR\n",
    "\n",
    "With three turning circles that kiss, we know\n",
    "\n",
    "- the distance between the turning circles\n",
    "- that the distance between centre1 and centre2 is 2\n",
    "- that the distance between centre2 and centre3 is 2\n",
    "\n",
    "That information is enough to form a triangle. The point of intersection between 1-2 and 2-3 share a common tangent.\n",
    "\n",
    "By inspection, no solution if the turning circles of are > 2 radii apart"
   ]
  },
  {
   "cell_type": "code",
   "execution_count": 23,
   "metadata": {
    "collapsed": false
   },
   "outputs": [
    {
     "data": {
      "image/png": "[encoded data removed]",
      "text/latex": [
       "$$\\frac{1}{2} \\left(\\cos{\\left (\\alpha \\right )} - \\cos{\\left (\\beta \\right )}\\right)^{2} + \\left(d - \\sin{\\left (\\alpha \\right )} + \\sin{\\left (\\beta \\right )}\\right)^{2}$$"
      ],
      "text/plain": [
       "                 2                         \n",
       "(cos(α) - cos(β))                         2\n",
       "────────────────── + (d - sin(α) + sin(β)) \n",
       "        2                                  "
      ]
     },
     "execution_count": 23,
     "metadata": {},
     "output_type": "execute_result"
    }
   ],
   "source": [
    "cx1, cy1 = circ_R(0, 0, a)\n",
    "cx2, cy2 = circ_R(d, 0, b)\n",
    "dx = cx2-cx1\n",
    "dy = cy2-cy1\n",
    "dx**2+dy**2/2"
   ]
  },
  {
   "cell_type": "markdown",
   "metadata": {},
   "source": [
    "<img src=\"files/RLR.svg\">"
   ]
  },
  {
   "cell_type": "markdown",
   "metadata": {
    "collapsed": true
   },
   "source": [
    "## 3.6 LRL\n",
    "\n",
    "Symmetry case of RLR\n",
    "\n",
    "Here extra construction lines are shown to illustrate the vectors used to calculate the angles"
   ]
  },
  {
   "cell_type": "markdown",
   "metadata": {},
   "source": [
    "<img src=\"files/LRL.svg\">"
   ]
  },
  {
   "cell_type": "code",
   "execution_count": null,
   "metadata": {
    "collapsed": true
   },
   "outputs": [],
   "source": []
  }
 ],
 "metadata": {
  "kernelspec": {
   "display_name": "Python 2",
   "language": "python",
   "name": "python2"
  },
  "language_info": {
   "codemirror_mode": {
    "name": "ipython",
    "version": 2
   },
   "file_extension": ".py",
   "mimetype": "text/x-python",
   "name": "python",
   "nbconvert_exporter": "python",
   "pygments_lexer": "ipython2",
   "version": "2.7.13"
  }
 },
 "nbformat": 4,
 "nbformat_minor": 0
}
