{
 "cells": [
  {
   "cell_type": "markdown",
   "metadata": {},
   "source": [
    "# 1. Symbol solutions to the Dubin's curves\n",
    "\n",
    "This is a Jupyter notebook describing a symbolic (and primarily geometric) derivation of the optimal curves for the Dubin's curve. "
   ]
  },
  {
   "cell_type": "markdown",
   "metadata": {},
   "source": [
    "# 2. Definitions and Derivations\n",
    "\n",
    "A configuration $q$ of the Dubin's car is $[x, y, \\theta]^T$ where $(x, y)$ is a position and $\\theta$ is the angle. \n",
    "\n",
    "Dubin's paper showed that the shortest path between a pair of configurations $q_i$ and $q_e$ can be solved by a combination a series of bang-bang inputs.  \n",
    "\n",
    "This means that for each combination of possible optimal words, the shortest path problem can be reduced to solving three non-linear equations (for the length of the each of the arcs).  The final shortest path can then be selected from those words with meaningful results.\n",
    "\n",
    "Because Dubin's curves are invariant to rotation and translation, it's possible to simplify the solution of these equations by removing redundant information. This is done by:\n",
    "\n",
    "1. Translating the configurations s.t. q_i is at the origin\n",
    "2. Rotating both configurations s.t. the y- co-ordinate of q_e is 0\n",
    "\n",
    "The result of this is that there are now very obviously only three parameters:\n",
    "\n",
    "- the angle $\\alpha$ of the $q_i$ to the x- axis;\n",
    "- the angle $\\beta$ of $q_e$ to the x-axis; and \n",
    "- $d$ the distance between configurations."
   ]
  },
  {
   "cell_type": "code",
   "execution_count": 1,
   "metadata": {},
   "outputs": [],
   "source": [
    "import sympy\n",
    "sympy.init_printing()\n",
    "from sympy import Mod, sin, cos, pi, sqrt, atan2, Abs"
   ]
  },
  {
   "cell_type": "code",
   "execution_count": 2,
   "metadata": {},
   "outputs": [],
   "source": [
    "# The symbols used for solving the equations\n",
    "a, b = sympy.symbols('alpha beta', real=True)\n",
    "d = sympy.symbols('d', real=True, positive=True)"
   ]
  },
  {
   "cell_type": "markdown",
   "metadata": {},
   "source": [
    "# 2.1 Equations of Motion\n",
    "\n",
    "The following functions are the optimal Bang-Bang Primitives for the Dubins car. \n",
    "\n",
    "Note that by design, this code is written for clarity with the intention that algebraic results will be produced (ie/ this code is designed to produce symbolic results rather than numeric ones)"
   ]
  },
  {
   "cell_type": "code",
   "execution_count": 3,
   "metadata": {},
   "outputs": [],
   "source": [
    "def circ_L(x, y, theta):\n",
    "    return (x-sin(theta), y+cos(theta))\n",
    "\n",
    "def circ_R(x, y, theta):\n",
    "    return (x+sin(theta), y-cos(theta))\n",
    "\n",
    "def fwd_L(x, y, theta, t):\n",
    "    # (x_c, y_c) is the centre of turn\n",
    "    x_c, y_c = circ_L(theta)\n",
    "    \n",
    "    # t_n is the angle the vehicle will reach\n",
    "    t_n = theta + t\n",
    "    \n",
    "    # (x_n, y_n) is the final vehicle position\n",
    "    x_n = x_c + sin(t_n) \n",
    "    y_n = y_c - cos(t_n)    \n",
    "    return x_n, y_n, t_n\n",
    "\n",
    "def fwd_R(x, y, theta, t):\n",
    "    # (x_c, y_c) is the centre of turn\n",
    "    x_c, y_c = circ_R(theta)\n",
    "    \n",
    "    # t_n is the angle the vehicle will reach\n",
    "    t_n = theta - t\n",
    "    \n",
    "    # (x_n, y_n) is the final vehicle position\n",
    "    x_n = x_c - sin(t_n)\n",
    "    y_n = y_c + cos(t_n)    \n",
    "    return x_n, y_n, t_n\n",
    "\n",
    "def fwd_S(x, y, theta, t):\n",
    "    x_n = x + sin(theta) * t\n",
    "    y_n = y + cos(theta) * t\n",
    "    t_n = theta\n",
    "    return x_n, y_n, t_n"
   ]
  },
  {
   "cell_type": "markdown",
   "metadata": {},
   "source": [
    "# 3. Solutions\n",
    "\n",
    "The diagrams in this section are illustrative only they are not intended to show shortest paths"
   ]
  },
  {
   "cell_type": "markdown",
   "metadata": {},
   "source": [
    "## 3.1 LSL\n",
    "\n",
    "Assuming a Left-Straight-Left sequence. The length of the straight section must be the distance between the centre of turns between the configurations. This is a purely geometric argument.\n",
    "\n",
    "In the following diagram, the red dot indicates the initial configuration, and the blue line marks the straight segment. Also marked are the turning circles of the vehicle and the line between the turning centres\n",
    "\n",
    "<img src=\"files/LSL.svg\">"
   ]
  },
  {
   "cell_type": "markdown",
   "metadata": {},
   "source": [
    "### 3.1.1 Straight Segment"
   ]
  },
  {
   "cell_type": "markdown",
   "metadata": {},
   "source": [
    "The LSL segment can only exist when the length of the straight segment is greater than or equal to 0."
   ]
  },
  {
   "cell_type": "code",
   "execution_count": 4,
   "metadata": {},
   "outputs": [
    {
     "data": {
      "image/png": "[encoded data removed]",
      "text/latex": [
       "$$- \\sin{\\left (\\alpha \\right )}$$"
      ],
      "text/plain": [
       "-sin(α)"
      ]
     },
     "execution_count": 4,
     "metadata": {},
     "output_type": "execute_result"
    }
   ],
   "source": [
    "# Circle center q_i \n",
    "cx1, cy1 = circ_L(0, 0, a)\n",
    "cx1"
   ]
  },
  {
   "cell_type": "code",
   "execution_count": 5,
   "metadata": {},
   "outputs": [
    {
     "data": {
      "image/png": "[encoded data removed]",
      "text/latex": [
       "$$d - \\sin{\\left (\\beta \\right )}$$"
      ],
      "text/plain": [
       "d - sin(β)"
      ]
     },
     "execution_count": 5,
     "metadata": {},
     "output_type": "execute_result"
    }
   ],
   "source": [
    "# Circle center q_e\n",
    "cx2, cy2 = circ_L(d, 0, b)\n",
    "cx2"
   ]
  },
  {
   "cell_type": "code",
   "execution_count": 6,
   "metadata": {},
   "outputs": [
    {
     "data": {
      "image/png": "[encoded data removed]",
      "text/latex": [
       "$$\\left(d + \\sin{\\left (\\alpha \\right )} - \\sin{\\left (\\beta \\right )}\\right)^{2}$$"
      ],
      "text/plain": [
       "                     2\n",
       "(d + sin(α) - sin(β)) "
      ]
     },
     "execution_count": 6,
     "metadata": {},
     "output_type": "execute_result"
    }
   ],
   "source": [
    "dx = cx2-cx1\n",
    "dx**2"
   ]
  },
  {
   "cell_type": "code",
   "execution_count": 7,
   "metadata": {},
   "outputs": [
    {
     "data": {
      "image/png": "[encoded data removed]",
      "text/latex": [
       "$$\\left(- \\cos{\\left (\\alpha \\right )} + \\cos{\\left (\\beta \\right )}\\right)^{2}$$"
      ],
      "text/plain": [
       "                  2\n",
       "(-cos(α) + cos(β)) "
      ]
     },
     "execution_count": 7,
     "metadata": {},
     "output_type": "execute_result"
    }
   ],
   "source": [
    "dy = cy2-cy1\n",
    "dy**2"
   ]
  },
  {
   "cell_type": "code",
   "execution_count": 8,
   "metadata": {},
   "outputs": [
    {
     "data": {
      "image/png": "[encoded data removed]",
      "text/latex": [
       "$$d^{2} + 2 d \\sin{\\left (\\alpha \\right )} - 2 d \\sin{\\left (\\beta \\right )} - 2 \\cos{\\left (\\alpha - \\beta \\right )} + 2$$"
      ],
      "text/plain": [
       " 2                                             \n",
       "d  + 2⋅d⋅sin(α) - 2⋅d⋅sin(β) - 2⋅cos(α - β) + 2"
      ]
     },
     "execution_count": 8,
     "metadata": {},
     "output_type": "execute_result"
    }
   ],
   "source": [
    "p_sq = dx**2+dy**2\n",
    "sympy.simplify(p_sq)"
   ]
  },
  {
   "cell_type": "markdown",
   "metadata": {},
   "source": [
    "### 3.1.2 Left Segment 1 and 2\n",
    "\n",
    "The arcs are determined by a combination of the angle that the straight segment is at and the $\\alpha$ and $\\beta$ parameters. Because angles are "
   ]
  },
  {
   "cell_type": "code",
   "execution_count": 9,
   "metadata": {},
   "outputs": [
    {
     "data": {
      "image/png": "[encoded data removed]",
      "text/latex": [
       "$$\\operatorname{atan_{2}}{\\left (- \\cos{\\left (\\alpha \\right )} + \\cos{\\left (\\beta \\right )},d + \\sin{\\left (\\alpha \\right )} - \\sin{\\left (\\beta \\right )} \\right )}$$"
      ],
      "text/plain": [
       "atan2(-cos(α) + cos(β), d + sin(α) - sin(β))"
      ]
     },
     "execution_count": 9,
     "metadata": {},
     "output_type": "execute_result"
    }
   ],
   "source": [
    "phi = atan2(dy, dx)\n",
    "phi"
   ]
  },
  {
   "cell_type": "code",
   "execution_count": 10,
   "metadata": {},
   "outputs": [
    {
     "data": {
      "text/latex": [
       "$$\\left(- \\alpha + \\operatorname{atan_{2}}{\\left (- \\cos{\\left (\\alpha \\right )} + \\cos{\\left (\\beta \\right )},d + \\sin{\\left (\\alpha \\right )} - \\sin{\\left (\\beta \\right )} \\right )}\\right)\\bmod{2 \\pi}$$"
      ],
      "text/plain": [
       "(-α + atan2(-cos(α) + cos(β), d + sin(α) - sin(β))) mod 2⋅π"
      ]
     },
     "execution_count": 10,
     "metadata": {},
     "output_type": "execute_result"
    }
   ],
   "source": [
    "t = Mod(phi - a, 2*pi)\n",
    "t"
   ]
  },
  {
   "cell_type": "code",
   "execution_count": 11,
   "metadata": {},
   "outputs": [
    {
     "data": {
      "text/latex": [
       "$$\\left(\\beta - \\operatorname{atan_{2}}{\\left (- \\cos{\\left (\\alpha \\right )} + \\cos{\\left (\\beta \\right )},d + \\sin{\\left (\\alpha \\right )} - \\sin{\\left (\\beta \\right )} \\right )}\\right)\\bmod{2 \\pi}$$"
      ],
      "text/plain": [
       "(β - atan2(-cos(α) + cos(β), d + sin(α) - sin(β))) mod 2⋅π"
      ]
     },
     "execution_count": 11,
     "metadata": {},
     "output_type": "execute_result"
    }
   ],
   "source": [
    "q = Mod(b - phi, 2*pi)\n",
    "q"
   ]
  },
  {
   "cell_type": "code",
   "execution_count": 12,
   "metadata": {},
   "outputs": [
    {
     "data": {
      "image/png": "[encoded data removed]",
      "text/latex": [
       "$$\\left(- \\cos{\\left (\\alpha \\right )} + \\cos{\\left (\\beta \\right )}\\right)^{2} + \\left(d + \\sin{\\left (\\alpha \\right )} - \\sin{\\left (\\beta \\right )}\\right)^{2}$$"
      ],
      "text/plain": [
       "                  2                        2\n",
       "(-cos(α) + cos(β))  + (d + sin(α) - sin(β)) "
      ]
     },
     "execution_count": 12,
     "metadata": {},
     "output_type": "execute_result"
    }
   ],
   "source": [
    "p_sq"
   ]
  },
  {
   "cell_type": "code",
   "execution_count": 13,
   "metadata": {},
   "outputs": [
    {
     "data": {
      "text/latex": [
       "$$\\left ( \\left[\\begin{matrix}\\left(- \\alpha + \\operatorname{atan_{2}}{\\left (- \\cos{\\left (\\alpha \\right )} + \\cos{\\left (\\beta \\right )},d + \\sin{\\left (\\alpha \\right )} - \\sin{\\left (\\beta \\right )} \\right )}\\right)\\bmod{2 \\pi}\\\\\\sqrt{\\left(- \\cos{\\left (\\alpha \\right )} + \\cos{\\left (\\beta \\right )}\\right)^{2} + \\left(d + \\sin{\\left (\\alpha \\right )} - \\sin{\\left (\\beta \\right )}\\right)^{2}}\\\\\\left(\\beta - \\operatorname{atan_{2}}{\\left (- \\cos{\\left (\\alpha \\right )} + \\cos{\\left (\\beta \\right )},d + \\sin{\\left (\\alpha \\right )} - \\sin{\\left (\\beta \\right )} \\right )}\\right)\\bmod{2 \\pi}\\end{matrix}\\right], \\quad \\left(- \\cos{\\left (\\alpha \\right )} + \\cos{\\left (\\beta \\right )}\\right)^{2} + \\left(d + \\sin{\\left (\\alpha \\right )} - \\sin{\\left (\\beta \\right )}\\right)^{2} > 0\\right )$$"
      ],
      "text/plain": [
       "⎛⎡(-α + atan2(-cos(α) + cos(β), d + sin(α) - sin(β))) mod 2⋅π⎤                \n",
       "⎜⎢                                                           ⎥                \n",
       "⎜⎢        ______________________________________________     ⎥                \n",
       "⎜⎢       ╱                   2                        2      ⎥, (-cos(α) + cos\n",
       "⎜⎢     ╲╱  (-cos(α) + cos(β))  + (d + sin(α) - sin(β))       ⎥                \n",
       "⎜⎢                                                           ⎥                \n",
       "⎝⎣(β - atan2(-cos(α) + cos(β), d + sin(α) - sin(β))) mod 2⋅π ⎦                \n",
       "\n",
       "                                  ⎞\n",
       "                                  ⎟\n",
       "    2                        2    ⎟\n",
       "(β))  + (d + sin(α) - sin(β))  > 0⎟\n",
       "                                  ⎟\n",
       "                                  ⎟\n",
       "                                  ⎠"
      ]
     },
     "execution_count": 13,
     "metadata": {},
     "output_type": "execute_result"
    }
   ],
   "source": [
    "LSL_succ = sympy.Matrix([t,sqrt(p_sq),q])\n",
    "LSL_constraint = p_sq > 0\n",
    "LSL_Symbols = (LSL_succ, LSL_constraint)\n",
    "LSL_Symbols"
   ]
  },
  {
   "cell_type": "markdown",
   "metadata": {},
   "source": [
    "## 3.2 RSR\n",
    "\n",
    "The case for RSR is the symmetry of the LSL case, and the reasoning follows in the same way\n",
    "\n",
    "<img src=\"files/RSR.svg\">"
   ]
  },
  {
   "cell_type": "code",
   "execution_count": 14,
   "metadata": {},
   "outputs": [
    {
     "data": {
      "image/png": "[encoded data removed]",
      "text/latex": [
       "$$d^{2} - 2 d \\sin{\\left (\\alpha \\right )} + 2 d \\sin{\\left (\\beta \\right )} - 2 \\cos{\\left (\\alpha - \\beta \\right )} + 2$$"
      ],
      "text/plain": [
       " 2                                             \n",
       "d  - 2⋅d⋅sin(α) + 2⋅d⋅sin(β) - 2⋅cos(α - β) + 2"
      ]
     },
     "execution_count": 14,
     "metadata": {},
     "output_type": "execute_result"
    }
   ],
   "source": [
    "cx1, cy1 = circ_R(0, 0, a)\n",
    "cx2, cy2 = circ_R(d, 0, b)\n",
    "dx = cx2-cx1\n",
    "dy = cy2-cy1\n",
    "p_sq = dx**2+dy**2\n",
    "p_sq = sympy.simplify(p_sq)\n",
    "p_sq"
   ]
  },
  {
   "cell_type": "code",
   "execution_count": 15,
   "metadata": {},
   "outputs": [],
   "source": [
    "phi = atan2(dy, dx)\n",
    "t = Mod(phi - a, 2*pi)\n",
    "q = Mod(b - phi, 2*pi)"
   ]
  },
  {
   "cell_type": "code",
   "execution_count": 16,
   "metadata": {},
   "outputs": [
    {
     "data": {
      "text/latex": [
       "$$\\left ( \\left[\\begin{matrix}\\left(- \\alpha + \\operatorname{atan_{2}}{\\left (\\cos{\\left (\\alpha \\right )} - \\cos{\\left (\\beta \\right )},d - \\sin{\\left (\\alpha \\right )} + \\sin{\\left (\\beta \\right )} \\right )}\\right)\\bmod{2 \\pi}\\\\\\sqrt{d^{2} - 2 d \\sin{\\left (\\alpha \\right )} + 2 d \\sin{\\left (\\beta \\right )} - 2 \\cos{\\left (\\alpha - \\beta \\right )} + 2}\\\\\\left(\\beta - \\operatorname{atan_{2}}{\\left (\\cos{\\left (\\alpha \\right )} - \\cos{\\left (\\beta \\right )},d - \\sin{\\left (\\alpha \\right )} + \\sin{\\left (\\beta \\right )} \\right )}\\right)\\bmod{2 \\pi}\\end{matrix}\\right], \\quad d^{2} - 2 d \\sin{\\left (\\alpha \\right )} + 2 d \\sin{\\left (\\beta \\right )} - 2 \\cos{\\left (\\alpha - \\beta \\right )} + 2 > 0\\right )$$"
      ],
      "text/plain": [
       "⎛⎡(-α + atan2(cos(α) - cos(β), d - sin(α) + sin(β))) mod 2⋅π⎤                 \n",
       "⎜⎢                                                          ⎥                 \n",
       "⎜⎢      _________________________________________________   ⎥   2             \n",
       "⎜⎢     ╱  2                                                 ⎥, d  - 2⋅d⋅sin(α)\n",
       "⎜⎢   ╲╱  d  - 2⋅d⋅sin(α) + 2⋅d⋅sin(β) - 2⋅cos(α - β) + 2    ⎥                 \n",
       "⎜⎢                                                          ⎥                 \n",
       "⎝⎣(β - atan2(cos(α) - cos(β), d - sin(α) + sin(β))) mod 2⋅π ⎦                 \n",
       "\n",
       "                                    ⎞\n",
       "                                    ⎟\n",
       "                                    ⎟\n",
       " + 2⋅d⋅sin(β) - 2⋅cos(α - β) + 2 > 0⎟\n",
       "                                    ⎟\n",
       "                                    ⎟\n",
       "                                    ⎠"
      ]
     },
     "execution_count": 16,
     "metadata": {},
     "output_type": "execute_result"
    }
   ],
   "source": [
    "RSR_succ = sympy.Matrix([t,sqrt(p_sq),q])\n",
    "RSR_constraint = p_sq > 0\n",
    "RSR_Symbols = (RSR_succ, RSR_constraint)\n",
    "RSR_Symbols"
   ]
  },
  {
   "cell_type": "markdown",
   "metadata": {},
   "source": [
    "## 3.3 LSR\n",
    "\n",
    "The difference for the case where the direction changes is that the straight section will path through the centre of the line between appropriate turning circles.  Thinking about it in a slightly different way, you've now formed a right angle triangle, where the hypotenuse is the distance between turning circles, and one side is length 2 (two radii).\n",
    "\n",
    "The straight segment angle can be inferred using an atan2, similarly, the angle between the straight segment and the tangent line is $atan_2(2, p)$\n",
    "\n",
    "In the diagram, the straight segment is shown in blue, along with green construction lines that highlight how the tangent is used"
   ]
  },
  {
   "cell_type": "markdown",
   "metadata": {},
   "source": [
    "<img src=\"files/LSR.svg\">"
   ]
  },
  {
   "cell_type": "code",
   "execution_count": 17,
   "metadata": {},
   "outputs": [
    {
     "data": {
      "image/png": "[encoded data removed]",
      "text/latex": [
       "$$d^{2} + 2 d \\sin{\\left (\\alpha \\right )} + 2 d \\sin{\\left (\\beta \\right )} + 2 \\cos{\\left (\\alpha - \\beta \\right )} - 2$$"
      ],
      "text/plain": [
       " 2                                             \n",
       "d  + 2⋅d⋅sin(α) + 2⋅d⋅sin(β) + 2⋅cos(α - β) - 2"
      ]
     },
     "execution_count": 17,
     "metadata": {},
     "output_type": "execute_result"
    }
   ],
   "source": [
    "cx1, cy1 = circ_L(0, 0, a)\n",
    "cx2, cy2 = circ_R(d, 0, b)\n",
    "dx = cx2-cx1\n",
    "dy = cy2-cy1\n",
    "p_sq = (dx**2+dy**2) - 2**2\n",
    "sympy.simplify(p_sq)"
   ]
  },
  {
   "cell_type": "code",
   "execution_count": 18,
   "metadata": {},
   "outputs": [
    {
     "data": {
      "image/png": "[encoded data removed]",
      "text/latex": [
       "$$\\operatorname{atan_{2}}{\\left (- \\cos{\\left (\\alpha \\right )} - \\cos{\\left (\\beta \\right )},d + \\sin{\\left (\\alpha \\right )} + \\sin{\\left (\\beta \\right )} \\right )}$$"
      ],
      "text/plain": [
       "atan2(-cos(α) - cos(β), d + sin(α) + sin(β))"
      ]
     },
     "execution_count": 18,
     "metadata": {},
     "output_type": "execute_result"
    }
   ],
   "source": [
    "phi = atan2(dy, dx)\n",
    "phi"
   ]
  },
  {
   "cell_type": "code",
   "execution_count": 19,
   "metadata": {},
   "outputs": [
    {
     "data": {
      "image/png": "[encoded data removed]",
      "text/latex": [
       "$$\\operatorname{atan_{2}}{\\left (2,\\sqrt{\\left(- \\cos{\\left (\\alpha \\right )} - \\cos{\\left (\\beta \\right )}\\right)^{2} + \\left(d + \\sin{\\left (\\alpha \\right )} + \\sin{\\left (\\beta \\right )}\\right)^{2} - 4} \\right )}$$"
      ],
      "text/plain": [
       "     ⎛      __________________________________________________⎞\n",
       "     ⎜     ╱                   2                        2     ⎟\n",
       "atan2⎝2, ╲╱  (-cos(α) - cos(β))  + (d + sin(α) + sin(β))  - 4 ⎠"
      ]
     },
     "execution_count": 19,
     "metadata": {},
     "output_type": "execute_result"
    }
   ],
   "source": [
    "sigma = atan2(2, sqrt(p_sq))\n",
    "sigma"
   ]
  },
  {
   "cell_type": "code",
   "execution_count": 20,
   "metadata": {},
   "outputs": [
    {
     "data": {
      "text/latex": [
       "$$\\left(\\alpha + \\operatorname{atan_{2}}{\\left (2,\\sqrt{\\left(- \\cos{\\left (\\alpha \\right )} - \\cos{\\left (\\beta \\right )}\\right)^{2} + \\left(d + \\sin{\\left (\\alpha \\right )} + \\sin{\\left (\\beta \\right )}\\right)^{2} - 4} \\right )} - \\operatorname{atan_{2}}{\\left (- \\cos{\\left (\\alpha \\right )} - \\cos{\\left (\\beta \\right )},d + \\sin{\\left (\\alpha \\right )} + \\sin{\\left (\\beta \\right )} \\right )}\\right)\\bmod{2 \\pi}$$"
      ],
      "text/plain": [
       "⎛         ⎛      __________________________________________________⎞          \n",
       "⎜         ⎜     ╱                   2                        2     ⎟          \n",
       "⎝α + atan2⎝2, ╲╱  (-cos(α) - cos(β))  + (d + sin(α) + sin(β))  - 4 ⎠ - atan2(-\n",
       "\n",
       "                                     ⎞        \n",
       "                                     ⎟        \n",
       "cos(α) - cos(β), d + sin(α) + sin(β))⎠ mod 2⋅π"
      ]
     },
     "execution_count": 20,
     "metadata": {},
     "output_type": "execute_result"
    }
   ],
   "source": [
    "t = Mod(a - phi + sigma, 2*pi)\n",
    "t"
   ]
  },
  {
   "cell_type": "code",
   "execution_count": 21,
   "metadata": {},
   "outputs": [
    {
     "data": {
      "text/latex": [
       "$$\\left(- \\beta - \\operatorname{atan_{2}}{\\left (2,\\sqrt{\\left(- \\cos{\\left (\\alpha \\right )} - \\cos{\\left (\\beta \\right )}\\right)^{2} + \\left(d + \\sin{\\left (\\alpha \\right )} + \\sin{\\left (\\beta \\right )}\\right)^{2} - 4} \\right )} + \\operatorname{atan_{2}}{\\left (- \\cos{\\left (\\alpha \\right )} - \\cos{\\left (\\beta \\right )},d + \\sin{\\left (\\alpha \\right )} + \\sin{\\left (\\beta \\right )} \\right )}\\right)\\bmod{2 \\pi}$$"
      ],
      "text/plain": [
       "⎛          ⎛      __________________________________________________⎞         \n",
       "⎜          ⎜     ╱                   2                        2     ⎟         \n",
       "⎝-β - atan2⎝2, ╲╱  (-cos(α) - cos(β))  + (d + sin(α) + sin(β))  - 4 ⎠ + atan2(\n",
       "\n",
       "                                      ⎞        \n",
       "                                      ⎟        \n",
       "-cos(α) - cos(β), d + sin(α) + sin(β))⎠ mod 2⋅π"
      ]
     },
     "execution_count": 21,
     "metadata": {},
     "output_type": "execute_result"
    }
   ],
   "source": [
    "q = Mod(phi -sigma -b, 2*pi)\n",
    "q"
   ]
  },
  {
   "cell_type": "code",
   "execution_count": 22,
   "metadata": {},
   "outputs": [
    {
     "data": {
      "text/latex": [
       "$$\\left ( \\left[\\begin{matrix}\\left(\\alpha + \\operatorname{atan_{2}}{\\left (2,\\sqrt{\\left(- \\cos{\\left (\\alpha \\right )} - \\cos{\\left (\\beta \\right )}\\right)^{2} + \\left(d + \\sin{\\left (\\alpha \\right )} + \\sin{\\left (\\beta \\right )}\\right)^{2} - 4} \\right )} - \\operatorname{atan_{2}}{\\left (- \\cos{\\left (\\alpha \\right )} - \\cos{\\left (\\beta \\right )},d + \\sin{\\left (\\alpha \\right )} + \\sin{\\left (\\beta \\right )} \\right )}\\right)\\bmod{2 \\pi}\\\\\\sqrt{\\left(- \\cos{\\left (\\alpha \\right )} - \\cos{\\left (\\beta \\right )}\\right)^{2} + \\left(d + \\sin{\\left (\\alpha \\right )} + \\sin{\\left (\\beta \\right )}\\right)^{2} - 4}\\\\\\left(- \\beta - \\operatorname{atan_{2}}{\\left (2,\\sqrt{\\left(- \\cos{\\left (\\alpha \\right )} - \\cos{\\left (\\beta \\right )}\\right)^{2} + \\left(d + \\sin{\\left (\\alpha \\right )} + \\sin{\\left (\\beta \\right )}\\right)^{2} - 4} \\right )} + \\operatorname{atan_{2}}{\\left (- \\cos{\\left (\\alpha \\right )} - \\cos{\\left (\\beta \\right )},d + \\sin{\\left (\\alpha \\right )} + \\sin{\\left (\\beta \\right )} \\right )}\\right)\\bmod{2 \\pi}\\end{matrix}\\right], \\quad \\left(- \\cos{\\left (\\alpha \\right )} - \\cos{\\left (\\beta \\right )}\\right)^{2} + \\left(d + \\sin{\\left (\\alpha \\right )} + \\sin{\\left (\\beta \\right )}\\right)^{2} - 4 > 0\\right )$$"
      ],
      "text/plain": [
       "⎛⎡⎛         ⎛      __________________________________________________⎞        \n",
       "⎜⎢⎜         ⎜     ╱                   2                        2     ⎟        \n",
       "⎜⎢⎝α + atan2⎝2, ╲╱  (-cos(α) - cos(β))  + (d + sin(α) + sin(β))  - 4 ⎠ - atan2\n",
       "⎜⎢                                                                            \n",
       "⎜⎢                                       _____________________________________\n",
       "⎜⎢                                      ╱                   2                 \n",
       "⎜⎢                                    ╲╱  (-cos(α) - cos(β))  + (d + sin(α) + \n",
       "⎜⎢                                                                            \n",
       "⎜⎢⎛          ⎛      __________________________________________________⎞       \n",
       "⎜⎢⎜          ⎜     ╱                   2                        2     ⎟       \n",
       "⎝⎣⎝-β - atan2⎝2, ╲╱  (-cos(α) - cos(β))  + (d + sin(α) + sin(β))  - 4 ⎠ + atan\n",
       "\n",
       "                                       ⎞         ⎤                            \n",
       "                                       ⎟         ⎥                            \n",
       "(-cos(α) - cos(β), d + sin(α) + sin(β))⎠ mod 2⋅π ⎥                            \n",
       "                                                 ⎥                            \n",
       "_____________                                    ⎥                    2       \n",
       "       2                                         ⎥, (-cos(α) - cos(β))  + (d +\n",
       "sin(β))  - 4                                     ⎥                            \n",
       "                                                 ⎥                            \n",
       "                                        ⎞        ⎥                            \n",
       "                                        ⎟        ⎥                            \n",
       "2(-cos(α) - cos(β), d + sin(α) + sin(β))⎠ mod 2⋅π⎦                            \n",
       "\n",
       "                          ⎞\n",
       "                          ⎟\n",
       "                          ⎟\n",
       "                          ⎟\n",
       "                 2        ⎟\n",
       " sin(α) + sin(β))  - 4 > 0⎟\n",
       "                          ⎟\n",
       "                          ⎟\n",
       "                          ⎟\n",
       "                          ⎟\n",
       "                          ⎠"
      ]
     },
     "execution_count": 22,
     "metadata": {},
     "output_type": "execute_result"
    }
   ],
   "source": [
    "LSR_succ = sympy.Matrix([t,sqrt(p_sq),q])\n",
    "LSR_constraint = p_sq > 0\n",
    "LSR_Symbols = (LSR_succ, LSR_constraint)\n",
    "LSR_Symbols"
   ]
  },
  {
   "cell_type": "markdown",
   "metadata": {},
   "source": [
    "## 3.4 RSL\n",
    "\n",
    "Symmetry case for LSR"
   ]
  },
  {
   "cell_type": "markdown",
   "metadata": {},
   "source": [
    "<img src=\"files/RSL.svg\">"
   ]
  },
  {
   "cell_type": "code",
   "execution_count": 23,
   "metadata": {},
   "outputs": [],
   "source": [
    "cx1, cy1 = circ_R(0, 0, a)\n",
    "cx2, cy2 = circ_L(d, 0, b)\n",
    "dx = cx2-cx1\n",
    "dy = cy2-cy1\n",
    "p_sq = (dx**2+dy**2) - 2**2"
   ]
  },
  {
   "cell_type": "code",
   "execution_count": 24,
   "metadata": {},
   "outputs": [],
   "source": [
    "phi = atan2(dy, dx)\n",
    "sigma = atan2(2, sqrt(p_sq))\n",
    "t = Mod(a - phi + sigma, 2*pi)\n",
    "q = Mod(phi -sigma -b, 2*pi)"
   ]
  },
  {
   "cell_type": "code",
   "execution_count": 26,
   "metadata": {},
   "outputs": [
    {
     "data": {
      "text/latex": [
       "$$\\left ( \\left[\\begin{matrix}\\left(\\alpha + \\operatorname{atan_{2}}{\\left (2,\\sqrt{\\left(\\cos{\\left (\\alpha \\right )} + \\cos{\\left (\\beta \\right )}\\right)^{2} + \\left(d - \\sin{\\left (\\alpha \\right )} - \\sin{\\left (\\beta \\right )}\\right)^{2} - 4} \\right )} - \\operatorname{atan_{2}}{\\left (\\cos{\\left (\\alpha \\right )} + \\cos{\\left (\\beta \\right )},d - \\sin{\\left (\\alpha \\right )} - \\sin{\\left (\\beta \\right )} \\right )}\\right)\\bmod{2 \\pi}\\\\\\sqrt{\\left(\\cos{\\left (\\alpha \\right )} + \\cos{\\left (\\beta \\right )}\\right)^{2} + \\left(d - \\sin{\\left (\\alpha \\right )} - \\sin{\\left (\\beta \\right )}\\right)^{2} - 4}\\\\\\left(- \\beta - \\operatorname{atan_{2}}{\\left (2,\\sqrt{\\left(\\cos{\\left (\\alpha \\right )} + \\cos{\\left (\\beta \\right )}\\right)^{2} + \\left(d - \\sin{\\left (\\alpha \\right )} - \\sin{\\left (\\beta \\right )}\\right)^{2} - 4} \\right )} + \\operatorname{atan_{2}}{\\left (\\cos{\\left (\\alpha \\right )} + \\cos{\\left (\\beta \\right )},d - \\sin{\\left (\\alpha \\right )} - \\sin{\\left (\\beta \\right )} \\right )}\\right)\\bmod{2 \\pi}\\end{matrix}\\right], \\quad \\left(\\cos{\\left (\\alpha \\right )} + \\cos{\\left (\\beta \\right )}\\right)^{2} + \\left(d - \\sin{\\left (\\alpha \\right )} - \\sin{\\left (\\beta \\right )}\\right)^{2} - 4 > 0\\right )$$"
      ],
      "text/plain": [
       "⎛⎡⎛         ⎛      _________________________________________________⎞         \n",
       "⎜⎢⎜         ⎜     ╱                  2                        2     ⎟         \n",
       "⎜⎢⎝α + atan2⎝2, ╲╱  (cos(α) + cos(β))  + (d - sin(α) - sin(β))  - 4 ⎠ - atan2(\n",
       "⎜⎢                                                                            \n",
       "⎜⎢                                      ______________________________________\n",
       "⎜⎢                                     ╱                  2                   \n",
       "⎜⎢                                   ╲╱  (cos(α) + cos(β))  + (d - sin(α) - si\n",
       "⎜⎢                                                                            \n",
       "⎜⎢⎛          ⎛      _________________________________________________⎞        \n",
       "⎜⎢⎜          ⎜     ╱                  2                        2     ⎟        \n",
       "⎝⎣⎝-β - atan2⎝2, ╲╱  (cos(α) + cos(β))  + (d - sin(α) - sin(β))  - 4 ⎠ + atan2\n",
       "\n",
       "                                     ⎞         ⎤                              \n",
       "                                     ⎟         ⎥                              \n",
       "cos(α) + cos(β), d - sin(α) - sin(β))⎠ mod 2⋅π ⎥                              \n",
       "                                               ⎥                              \n",
       "___________                                    ⎥                   2          \n",
       "     2                                         ⎥, (cos(α) + cos(β))  + (d - si\n",
       "n(β))  - 4                                     ⎥                              \n",
       "                                               ⎥                              \n",
       "                                      ⎞        ⎥                              \n",
       "                                      ⎟        ⎥                              \n",
       "(cos(α) + cos(β), d - sin(α) - sin(β))⎠ mod 2⋅π⎦                              \n",
       "\n",
       "                       ⎞\n",
       "                       ⎟\n",
       "                       ⎟\n",
       "                       ⎟\n",
       "              2        ⎟\n",
       "n(α) - sin(β))  - 4 > 0⎟\n",
       "                       ⎟\n",
       "                       ⎟\n",
       "                       ⎟\n",
       "                       ⎟\n",
       "                       ⎠"
      ]
     },
     "execution_count": 26,
     "metadata": {},
     "output_type": "execute_result"
    }
   ],
   "source": [
    "RSL_succ = sympy.Matrix([t,sqrt(p_sq),q])\n",
    "RSL_constraint = p_sq > 0\n",
    "RSL_Symbols = (RSL_succ, RSL_constraint)\n",
    "RSL_Symbols"
   ]
  },
  {
   "cell_type": "markdown",
   "metadata": {},
   "source": [
    "## 3.5 RLR\n",
    "\n",
    "With three turning circles (of equal radius) that kiss (share a common tangent), we know\n",
    "\n",
    "- the distance between the turning circles\n",
    "- that the distance between centre1 and centre2 is 2\n",
    "- that the distance between centre2 and centre3 is 2\n",
    "\n",
    "Using the distance between the turning circle centres and by the [law of cosines](https://en.wikipedia.org/wiki/Law_of_cosines) it's possible to calculate the arc length of the middle section. \n",
    "\n",
    "By inspection, no solution if the turning circles of are > 2 radii apart"
   ]
  },
  {
   "cell_type": "markdown",
   "metadata": {},
   "source": [
    "<img src=\"files/RLR.svg\">"
   ]
  },
  {
   "cell_type": "code",
   "execution_count": 27,
   "metadata": {},
   "outputs": [],
   "source": [
    "cx1, cy1 = circ_R(0, 0, a)\n",
    "cx2, cy2 = circ_R(d, 0, b)\n",
    "dx = cx2-cx1\n",
    "dy = cy2-cy1\n",
    "cdist = dx**2+dy**2"
   ]
  },
  {
   "cell_type": "code",
   "execution_count": 28,
   "metadata": {},
   "outputs": [
    {
     "data": {
      "image/png": "[encoded data removed]",
      "text/latex": [
       "$$- \\frac{1}{8} \\left(\\cos{\\left (\\alpha \\right )} - \\cos{\\left (\\beta \\right )}\\right)^{2} - \\frac{1}{8} \\left(d - \\sin{\\left (\\alpha \\right )} + \\sin{\\left (\\beta \\right )}\\right)^{2} + 1$$"
      ],
      "text/plain": [
       "                   2                        2    \n",
       "  (cos(α) - cos(β))    (d - sin(α) + sin(β))     \n",
       "- ────────────────── - ────────────────────── + 1\n",
       "          8                      8               "
      ]
     },
     "execution_count": 28,
     "metadata": {},
     "output_type": "execute_result"
    }
   ],
   "source": [
    "e = 1-(cdist)/8\n",
    "e"
   ]
  },
  {
   "cell_type": "code",
   "execution_count": 29,
   "metadata": {},
   "outputs": [
    {
     "data": {
      "image/png": "[encoded data removed]",
      "text/latex": [
       "$$\\operatorname{atan_{2}}{\\left (\\cos{\\left (\\alpha \\right )} - \\cos{\\left (\\beta \\right )},d - \\sin{\\left (\\alpha \\right )} + \\sin{\\left (\\beta \\right )} \\right )}$$"
      ],
      "text/plain": [
       "atan2(cos(α) - cos(β), d - sin(α) + sin(β))"
      ]
     },
     "execution_count": 29,
     "metadata": {},
     "output_type": "execute_result"
    }
   ],
   "source": [
    "phi = atan2(dy, dx)\n",
    "phi"
   ]
  },
  {
   "cell_type": "code",
   "execution_count": 30,
   "metadata": {},
   "outputs": [],
   "source": [
    "p = Mod(e, 2*pi)\n",
    "t = Mod(-a - phi + p/2, 2*pi)\n",
    "q = Mod(Mod(b, 2*pi) - a - t + p, 2*pi)"
   ]
  },
  {
   "cell_type": "code",
   "execution_count": 40,
   "metadata": {},
   "outputs": [
    {
     "data": {
      "text/latex": [
       "$$\\left ( \\left [ \\left ( x_{0}, \\quad - \\alpha\\right ), \\quad \\left ( x_{1}, \\quad - \\cos{\\left (\\alpha \\right )} + \\cos{\\left (\\beta \\right )}\\right ), \\quad \\left ( x_{2}, \\quad d + \\sin{\\left (\\alpha \\right )} - \\sin{\\left (\\beta \\right )}\\right ), \\quad \\left ( x_{3}, \\quad - \\frac{x_{1}^{2}}{8} - \\frac{x_{2}^{2}}{8} + 1\\right ), \\quad \\left ( x_{4}, \\quad 2 \\pi\\right ), \\quad \\left ( x_{5}, \\quad x_{3}\\bmod{x_{4}}\\right ), \\quad \\left ( x_{6}, \\quad \\left(x_{0} + \\frac{x_{5}}{2} - \\operatorname{atan_{2}}{\\left (x_{1},x_{2} \\right )}\\right)\\bmod{x_{4}}\\right )\\right ], \\quad \\left [ \\left[\\begin{matrix}x_{6}\\\\x_{5}\\\\\\left(x_{0} + x_{5} - x_{6} + \\left(\\beta\\bmod{x_{4}}\\right)\\right)\\bmod{x_{4}}\\end{matrix}\\right], \\quad \\left|{x_{3}}\\right| \\leq 1\\right ]\\right )$$"
      ],
      "text/plain": [
       "⎛⎡                                                             ⎛        2     \n",
       "⎜⎢                                                             ⎜      x₁    x₂\n",
       "⎜⎢(x₀, -α), (x₁, -cos(α) + cos(β)), (x₂, d + sin(α) - sin(β)), ⎜x₃, - ─── - ──\n",
       "⎜⎣                                                             ⎝       8     8\n",
       "⎝                                                                             \n",
       "\n",
       "2    ⎞                                                                    ⎤  ⎡\n",
       "     ⎟                              ⎛    ⎛     x₅                ⎞       ⎞⎥  ⎢\n",
       "─ + 1⎟, (x₄, 2⋅π), (x₅, x₃ mod x₄), ⎜x₆, ⎜x₀ + ── - atan2(x₁, x₂)⎟ mod x₄⎟⎥, ⎢\n",
       "     ⎠                              ⎝    ⎝     2                 ⎠       ⎠⎦  ⎢\n",
       "                                                                             ⎣\n",
       "\n",
       "⎡                x₆                ⎤          ⎤⎞\n",
       "⎢                                  ⎥          ⎥⎟\n",
       "⎢                x₅                ⎥, │x₃│ ≤ 1⎥⎟\n",
       "⎢                                  ⎥          ⎥⎟\n",
       "⎣(x₀ + x₅ - x₆ + (β mod x₄)) mod x₄⎦          ⎦⎠"
      ]
     },
     "execution_count": 40,
     "metadata": {},
     "output_type": "execute_result"
    }
   ],
   "source": [
    "RLR_succ = sympy.Matrix([t, p, q])\n",
    "RLR_constraint = Abs(e) <= 1\n",
    "RLR_Symbols = (RLR_succ, RLR_constraint)\n",
    "sympy.cse(RLR_Symbols)"
   ]
  },
  {
   "cell_type": "markdown",
   "metadata": {},
   "source": [
    "## 3.6 LRL\n",
    "\n",
    "Symmetry case of RLR\n",
    "\n",
    "Here extra construction lines are shown to illustrate the vectors used to calculate the angles"
   ]
  },
  {
   "cell_type": "markdown",
   "metadata": {},
   "source": [
    "<img src=\"files/LRL.svg\">"
   ]
  },
  {
   "cell_type": "code",
   "execution_count": 32,
   "metadata": {},
   "outputs": [],
   "source": [
    "cx1, cy1 = circ_L(0, 0, a)\n",
    "cx2, cy2 = circ_L(d, 0, b)\n",
    "dx = cx2-cx1\n",
    "dy = cy2-cy1\n",
    "cdist = dx**2+dy**2"
   ]
  },
  {
   "cell_type": "code",
   "execution_count": 33,
   "metadata": {},
   "outputs": [],
   "source": [
    "e = 1-(cdist)/8"
   ]
  },
  {
   "cell_type": "code",
   "execution_count": 34,
   "metadata": {},
   "outputs": [],
   "source": [
    "phi = atan2(dy, dx)"
   ]
  },
  {
   "cell_type": "code",
   "execution_count": 35,
   "metadata": {},
   "outputs": [],
   "source": [
    "p = Mod(e, 2*pi)\n",
    "t = Mod(-a - phi + p/2, 2*pi)\n",
    "q = Mod(Mod(b, 2*pi) - a - t + p, 2*pi)"
   ]
  },
  {
   "cell_type": "code",
   "execution_count": 39,
   "metadata": {},
   "outputs": [
    {
     "data": {
      "text/latex": [
       "$$\\left ( \\left [ \\left ( x_{0}, \\quad - \\alpha\\right ), \\quad \\left ( x_{1}, \\quad - \\cos{\\left (\\alpha \\right )} + \\cos{\\left (\\beta \\right )}\\right ), \\quad \\left ( x_{2}, \\quad d + \\sin{\\left (\\alpha \\right )} - \\sin{\\left (\\beta \\right )}\\right ), \\quad \\left ( x_{3}, \\quad - \\frac{x_{1}^{2}}{8} - \\frac{x_{2}^{2}}{8} + 1\\right ), \\quad \\left ( x_{4}, \\quad 2 \\pi\\right ), \\quad \\left ( x_{5}, \\quad x_{3}\\bmod{x_{4}}\\right ), \\quad \\left ( x_{6}, \\quad \\left(x_{0} + \\frac{x_{5}}{2} - \\operatorname{atan_{2}}{\\left (x_{1},x_{2} \\right )}\\right)\\bmod{x_{4}}\\right )\\right ], \\quad \\left [ \\left[\\begin{matrix}x_{6}\\\\x_{5}\\\\\\left(x_{0} + x_{5} - x_{6} + \\left(\\beta\\bmod{x_{4}}\\right)\\right)\\bmod{x_{4}}\\end{matrix}\\right], \\quad \\left|{x_{3}}\\right| \\leq 1\\right ]\\right )$$"
      ],
      "text/plain": [
       "⎛⎡                                                             ⎛        2     \n",
       "⎜⎢                                                             ⎜      x₁    x₂\n",
       "⎜⎢(x₀, -α), (x₁, -cos(α) + cos(β)), (x₂, d + sin(α) - sin(β)), ⎜x₃, - ─── - ──\n",
       "⎜⎣                                                             ⎝       8     8\n",
       "⎝                                                                             \n",
       "\n",
       "2    ⎞                                                                    ⎤  ⎡\n",
       "     ⎟                              ⎛    ⎛     x₅                ⎞       ⎞⎥  ⎢\n",
       "─ + 1⎟, (x₄, 2⋅π), (x₅, x₃ mod x₄), ⎜x₆, ⎜x₀ + ── - atan2(x₁, x₂)⎟ mod x₄⎟⎥, ⎢\n",
       "     ⎠                              ⎝    ⎝     2                 ⎠       ⎠⎦  ⎢\n",
       "                                                                             ⎣\n",
       "\n",
       "⎡                x₆                ⎤          ⎤⎞\n",
       "⎢                                  ⎥          ⎥⎟\n",
       "⎢                x₅                ⎥, │x₃│ ≤ 1⎥⎟\n",
       "⎢                                  ⎥          ⎥⎟\n",
       "⎣(x₀ + x₅ - x₆ + (β mod x₄)) mod x₄⎦          ⎦⎠"
      ]
     },
     "execution_count": 39,
     "metadata": {},
     "output_type": "execute_result"
    }
   ],
   "source": [
    "LRL_succ = sympy.Matrix([t, p, q])\n",
    "LRL_constraint = Abs(e) <= 1\n",
    "LRL_Symbols = (LRL_succ, LRL_constraint)\n",
    "sympy.cse(LRL_Symbols)"
   ]
  },
  {
   "cell_type": "markdown",
   "metadata": {},
   "source": [
    "## 3.7 Composite Results"
   ]
  },
  {
   "cell_type": "code",
   "execution_count": 59,
   "metadata": {},
   "outputs": [],
   "source": [
    "lst = [\n",
    "    LSL_succ, \n",
    "    RSR_succ, \n",
    "    RSL_succ, \n",
    "    LSR_succ, \n",
    "    RLR_succ, \n",
    "    LRL_succ\n",
    "]\n",
    "constraints = [\n",
    "    LSL_constraint,\n",
    "    RSR_constraint,\n",
    "    RSL_constraint,\n",
    "    LSR_constraint,\n",
    "    RLR_constraint,\n",
    "    LRL_constraint\n",
    "]\n",
    "keys = [\n",
    "    'LSL', \n",
    "    'RSR', \n",
    "    'RSL', \n",
    "    'LSR', \n",
    "    'RLR', \n",
    "    'LRL'\n",
    "]"
   ]
  },
  {
   "cell_type": "markdown",
   "metadata": {},
   "source": [
    "# 4 Code Generation"
   ]
  },
  {
   "cell_type": "markdown",
   "metadata": {},
   "source": [
    "## 4.1 Naive Codegen\n",
    "\n",
    "This is a naive rendering of the code using sympy to generate the code. \n",
    "\n",
    "This code produce is fine, particularly given that this is so easy to do, but it is worth noting that we're expecting the compiler to do quite a bit - it needs to do common subexpression elimination, and we're in a good position to help it out by hoisting some of that work out "
   ]
  },
  {
   "cell_type": "code",
   "execution_count": 55,
   "metadata": {},
   "outputs": [
    {
     "name": "stdout",
     "output_type": "stream",
     "text": [
      "if (pow(-cos(alpha) + cos(beta), 2) + pow(d + sin(alpha) - sin(beta), 2) > 0) {\n",
      "   A[0] = fmod(-alpha + atan2(-cos(alpha) + cos(beta), d + sin(alpha) - sin(beta)), 2*M_PI);\n",
      "   A[1] = sqrt(pow(-cos(alpha) + cos(beta), 2) + pow(d + sin(alpha) - sin(beta), 2));\n",
      "   A[2] = fmod(beta - atan2(-cos(alpha) + cos(beta), d + sin(alpha) - sin(beta)), 2*M_PI);\n",
      "}\n",
      "else {\n",
      "   A[0] = 0;\n",
      "   A[1] = 0;\n",
      "   A[2] = 0;\n",
      "}\n"
     ]
    }
   ],
   "source": [
    "from sympy import ccode\n",
    "from sympy.codegen.ast import Assignment\n",
    "import jinja2\n",
    "\n",
    "def codegen_naive(r1, r3):\n",
    "    r2 = sympy.Matrix([0, 0, 0])\n",
    "    A = sympy.MatrixSymbol('A', 3, 1)\n",
    "    ex = sympy.Piecewise((Assignment(A, r1), r3), (Assignment(A, r2), True))\n",
    "    \n",
    "    users_funcs = {\n",
    "        'Mod' : 'fmod'\n",
    "    }\n",
    "    return ccode(ex, user_functions=users_funcs),ex\n",
    "\n",
    "code, ex = codegen_naive(*LSL_Symbols)\n",
    "print(code)"
   ]
  },
  {
   "cell_type": "markdown",
   "metadata": {},
   "source": [
    "## 4.2 Codegen with CSE\n",
    "\n",
    "In this section, we use common subexpression elimination to pull out all the terms which are potentially expensive. \n",
    "\n",
    "Rather than letting the generator use `pow`, we'll specifically force it to use code laid out in a slightly less general manner."
   ]
  },
  {
   "cell_type": "code",
   "execution_count": 58,
   "metadata": {},
   "outputs": [
    {
     "name": "stdout",
     "output_type": "stream",
     "text": [
      "x0 = -cos(alpha) + cos(beta);\n",
      "x1 = d + sin(alpha) - sin(beta);\n",
      "x2 = atan2(x0, x1);\n",
      "x3 = 2*M_PI;\n",
      "x4 = x0*x0 + x1*x1;\n",
      "if (x4 > 0) {\n",
      "   A[0] = fmod(-alpha + x2, x3);\n",
      "   A[1] = sqrt(x4);\n",
      "   A[2] = fmod(beta - x2, x3);\n",
      "}\n",
      "else {\n",
      "   A[0] = 0;\n",
      "   A[1] = 0;\n",
      "   A[2] = 0;\n",
      "}\n"
     ]
    }
   ],
   "source": [
    "def generate_blob_cse(r1, r3):\n",
    "    users_funcs = {\n",
    "        'Mod' : 'fmod',\n",
    "        'Pow' : [\n",
    "            (lambda b, e: e == 2, lambda b, e : '%s*%s' % (b,b)),\n",
    "            (lambda b, e: e == sympy.Rational(1)/2, lambda b, e : 'sqrt(%s)' % b)\n",
    "        ]\n",
    "    }\n",
    "    repls, (x1, x3) = sympy.cse((r1,r3))\n",
    "    lst = []\n",
    "    for r in repls:\n",
    "        c = ccode(Assignment(r[0], r[1]),  user_functions=users_funcs)\n",
    "        lst.append( c ) \n",
    "    A = sympy.MatrixSymbol('A', 3, 1)\n",
    "    B = sympy.Matrix([0, 0, 0])\n",
    "    ex = sympy.Piecewise((Assignment(A, x1), x3), (Assignment(A, B), True))\n",
    "   \n",
    "    rest = ccode(ex, user_functions=users_funcs)\n",
    "    return '\\n'.join(lst) + '\\n' + rest\n",
    "\n",
    "out = generate_blob_cse(*LSL_Symbols)\n",
    "print(out)"
   ]
  },
  {
   "cell_type": "markdown",
   "metadata": {},
   "source": [
    "## 4.3 File Generation\n",
    "\n",
    "Using jinja templates, we can generate an end to end function. sympy has some support for this, but it's still maturing. Until that happens, this is good enough"
   ]
  },
  {
   "cell_type": "code",
   "execution_count": 63,
   "metadata": {},
   "outputs": [
    {
     "name": "stdout",
     "output_type": "stream",
     "text": [
      "\n",
      "void dubins_LSL(double A[3], double a, double b, double d)\n",
      "{\n",
      "    x0 = -cos(alpha) + cos(beta);\n",
      "    x1 = d + sin(alpha) - sin(beta);\n",
      "    x2 = atan2(x0, x1);\n",
      "    x3 = 2*M_PI;\n",
      "    x4 = x0*x0 + x1*x1;\n",
      "    if (x4 > 0) {\n",
      "       A[0] = fmod(-alpha + x2, x3);\n",
      "       A[1] = sqrt(x4);\n",
      "       A[2] = fmod(beta - x2, x3);\n",
      "    }\n",
      "    else {\n",
      "       A[0] = 0;\n",
      "       A[1] = 0;\n",
      "       A[2] = 0;\n",
      "    }\n",
      "    if(1) \n",
      "    {\n",
      "        return EDUBOK;\n",
      "    }\n",
      "    return EDUBNOPATH;\n",
      "}\n",
      "\n",
      "void dubins_RSR(double A[3], double a, double b, double d)\n",
      "{\n",
      "    x0 = sin(beta);\n",
      "    x1 = sin(alpha);\n",
      "    x2 = atan2(cos(alpha) - cos(beta), d + x0 - x1);\n",
      "    x3 = 2*M_PI;\n",
      "    x4 = 2*d;\n",
      "    x5 = d*d + x0*x4 - x1*x4 - 2*cos(alpha - beta) + 2;\n",
      "    if (x5 > 0) {\n",
      "       A[0] = fmod(-alpha + x2, x3);\n",
      "       A[1] = sqrt(x5);\n",
      "       A[2] = fmod(beta - x2, x3);\n",
      "    }\n",
      "    else {\n",
      "       A[0] = 0;\n",
      "       A[1] = 0;\n",
      "       A[2] = 0;\n",
      "    }\n",
      "    if(1) \n",
      "    {\n",
      "        return EDUBOK;\n",
      "    }\n",
      "    return EDUBNOPATH;\n",
      "}\n",
      "\n",
      "void dubins_RSL(double A[3], double a, double b, double d)\n",
      "{\n",
      "    x0 = cos(alpha) + cos(beta);\n",
      "    x1 = d - sin(alpha) - sin(beta);\n",
      "    x2 = atan2(x0, x1);\n",
      "    x3 = x0*x0 + x1*x1 - 4;\n",
      "    x4 = sqrt(x3);\n",
      "    x5 = atan2(2, x4);\n",
      "    x6 = 2*M_PI;\n",
      "    if (x3 > 0) {\n",
      "       A[0] = fmod(alpha - x2 + x5, x6);\n",
      "       A[1] = x4;\n",
      "       A[2] = fmod(-beta + x2 - x5, x6);\n",
      "    }\n",
      "    else {\n",
      "       A[0] = 0;\n",
      "       A[1] = 0;\n",
      "       A[2] = 0;\n",
      "    }\n",
      "    if(1) \n",
      "    {\n",
      "        return EDUBOK;\n",
      "    }\n",
      "    return EDUBNOPATH;\n",
      "}\n",
      "\n",
      "void dubins_LSR(double A[3], double a, double b, double d)\n",
      "{\n",
      "    x0 = -cos(alpha) - cos(beta);\n",
      "    x1 = d + sin(alpha) + sin(beta);\n",
      "    x2 = atan2(x0, x1);\n",
      "    x3 = x0*x0 + x1*x1 - 4;\n",
      "    x4 = sqrt(x3);\n",
      "    x5 = atan2(2, x4);\n",
      "    x6 = 2*M_PI;\n",
      "    if (x3 > 0) {\n",
      "       A[0] = fmod(alpha - x2 + x5, x6);\n",
      "       A[1] = x4;\n",
      "       A[2] = fmod(-beta + x2 - x5, x6);\n",
      "    }\n",
      "    else {\n",
      "       A[0] = 0;\n",
      "       A[1] = 0;\n",
      "       A[2] = 0;\n",
      "    }\n",
      "    if(1) \n",
      "    {\n",
      "        return EDUBOK;\n",
      "    }\n",
      "    return EDUBNOPATH;\n",
      "}\n",
      "\n",
      "void dubins_RLR(double A[3], double a, double b, double d)\n",
      "{\n",
      "    x0 = -alpha;\n",
      "    x1 = -cos(alpha) + cos(beta);\n",
      "    x2 = d + sin(alpha) - sin(beta);\n",
      "    x3 = -1.0L/8.0L*x1*x1 - 1.0L/8.0L*x2*x2 + 1;\n",
      "    x4 = 2*M_PI;\n",
      "    x5 = fmod(x3, x4);\n",
      "    x6 = fmod(x0 + (1.0L/2.0L)*x5 - atan2(x1, x2), x4);\n",
      "    if (fabs(x3) <= 1) {\n",
      "       A[0] = x6;\n",
      "       A[1] = x5;\n",
      "       A[2] = fmod(x0 + x5 - x6 + fmod(beta, x4), x4);\n",
      "    }\n",
      "    else {\n",
      "       A[0] = 0;\n",
      "       A[1] = 0;\n",
      "       A[2] = 0;\n",
      "    }\n",
      "    if(1) \n",
      "    {\n",
      "        return EDUBOK;\n",
      "    }\n",
      "    return EDUBNOPATH;\n",
      "}\n",
      "\n",
      "void dubins_LRL(double A[3], double a, double b, double d)\n",
      "{\n",
      "    x0 = -alpha;\n",
      "    x1 = -cos(alpha) + cos(beta);\n",
      "    x2 = d + sin(alpha) - sin(beta);\n",
      "    x3 = -1.0L/8.0L*x1*x1 - 1.0L/8.0L*x2*x2 + 1;\n",
      "    x4 = 2*M_PI;\n",
      "    x5 = fmod(x3, x4);\n",
      "    x6 = fmod(x0 + (1.0L/2.0L)*x5 - atan2(x1, x2), x4);\n",
      "    if (fabs(x3) <= 1) {\n",
      "       A[0] = x6;\n",
      "       A[1] = x5;\n",
      "       A[2] = fmod(x0 + x5 - x6 + fmod(beta, x4), x4);\n",
      "    }\n",
      "    else {\n",
      "       A[0] = 0;\n",
      "       A[1] = 0;\n",
      "       A[2] = 0;\n",
      "    }\n",
      "    if(1) \n",
      "    {\n",
      "        return EDUBOK;\n",
      "    }\n",
      "    return EDUBNOPATH;\n",
      "}\n"
     ]
    }
   ],
   "source": [
    "ftpl = '''\n",
    "void dubins_{{name}}(double A[3], double a, double b, double d)\n",
    "{\n",
    "    {{ code|indent(4) }}\n",
    "    if(/* TBD */) \n",
    "    {\n",
    "        return EDUBOK;\n",
    "    }\n",
    "    return EDUBNOPATH;\n",
    "}\n",
    "'''\n",
    "\n",
    "loader = jinja2.DictLoader({'f':ftpl})\n",
    "env = jinja2.Environment(\n",
    "                  undefined = jinja2.StrictUndefined, \n",
    "                  loader=loader)\n",
    "tpl = env.get_template('f')\n",
    "\n",
    "for k, item, c in zip(keys, lst, constraints):\n",
    "    code = generate_blob_cse(item, c)\n",
    "    out = tpl.render(name=k, code=code)\n",
    "    print(out)"
   ]
  },
  {
   "cell_type": "code",
   "execution_count": null,
   "metadata": {},
   "outputs": [],
   "source": []
  }
 ],
 "metadata": {
  "kernelspec": {
   "display_name": "Python 3",
   "language": "python",
   "name": "python3"
  },
  "language_info": {
   "codemirror_mode": {
    "name": "ipython",
    "version": 3
   },
   "file_extension": ".py",
   "mimetype": "text/x-python",
   "name": "python",
   "nbconvert_exporter": "python",
   "pygments_lexer": "ipython3",
   "version": "3.6.3"
  }
 },
 "nbformat": 4,
 "nbformat_minor": 2
}
