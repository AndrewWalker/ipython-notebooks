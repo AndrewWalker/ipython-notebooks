{
 "cells": [
  {
   "cell_type": "markdown",
   "metadata": {},
   "source": [
    "# Hypothesis / Property based testing notes\n",
    "\n",
    "* Info on [settings](http://hypothesis.readthedocs.io/en/latest/settings.html)\n",
    "* Scientific [stack](http://hypothesis.readthedocs.io/en/latest/numpy.html)"
   ]
  },
  {
   "cell_type": "code",
   "execution_count": 1,
   "metadata": {},
   "outputs": [],
   "source": [
    "import numpy as np"
   ]
  },
  {
   "cell_type": "code",
   "execution_count": 2,
   "metadata": {},
   "outputs": [],
   "source": [
    "from hypothesis import given, settings, Verbosity, assume,note\n",
    "from hypothesis.strategies import lists,integers, floats\n",
    "from hypothesis.extra.numpy import arrays"
   ]
  },
  {
   "cell_type": "code",
   "execution_count": 3,
   "metadata": {},
   "outputs": [],
   "source": [
    "def is_degenerate(v0, v1, v2):\n",
    "    if np.linalg.norm(v1-v0) == 0:\n",
    "        return True\n",
    "    if np.linalg.norm(v2-v1) == 0:\n",
    "        return True\n",
    "    if np.linalg.norm(v0-v2) == 0:\n",
    "        return True\n",
    "    return False\n",
    "\n",
    "def orient(a, b, c): \n",
    "    return (b[0] - a[0]) * (c[1] - a[1]) - (c[0] - a[0]) * (b[1] - a[1])\n",
    "\n",
    "def is_in_triangle(v0, v1, v2, pt):\n",
    "    a = orient(v0, v1, pt) \n",
    "    b = orient(v1, v2, pt) \n",
    "    c = orient(v2, v0, pt) \n",
    "    if (a >= 0) and (b >= 0) and (c >= 0): \n",
    "        return True\n",
    "    return False\n",
    "\n",
    "def rot2(th):\n",
    "    st = np.sin(th)\n",
    "    ct = np.cos(th)\n",
    "    return np.array([[ct, -st], [st, ct]])\n",
    "\n",
    "def scale2(v):\n",
    "    v_x, v_y = v\n",
    "    return np.array([[v_x, 0], [0, v_y]])\n",
    "\n",
    "def vnorm(v):\n",
    "    return np.sqrt(np.dot(v.T, v))\n",
    "\n",
    "def transform(x, a, b): \n",
    "    assert a.shape[0] == a.shape[1]\n",
    "    assert b.shape[0] == a.shape[0]\n",
    "    assert b.shape[1] == 1\n",
    "    return np.dot(a, x) + b "
   ]
  },
  {
   "cell_type": "code",
   "execution_count": 4,
   "metadata": {},
   "outputs": [],
   "source": [
    "def vec2(elements=None):\n",
    "    if elements is None:\n",
    "        elements=floats(0,1)\n",
    "    return arrays(dtype=np.float, shape=(2,1), elements=elements)\n",
    "\n",
    "def angle_rad():\n",
    "    return floats(0, 2*np.pi)"
   ]
  },
  {
   "cell_type": "markdown",
   "metadata": {},
   "source": [
    "# Testing Approach\n",
    "\n",
    "We care specifically about is_in_triangle being invariant to rotations, translations and scalings (and probably shearing). Rather than trying to generate big test vectors, the approach here is to instead state those properties in two parts. \n",
    "\n",
    "The first is to use barycentric co-ordinates to find a point that is \"clearly-in\", and test that point for being in/out over a range of rotations, translations and scale. We can use a similar approach to consider points that are \"clearly-out\"\n",
    "\n",
    "The second is to show that on common boundaries, where the triangles have common winding order, that there are no gaps, cracks or seams. This is done by generated quads (two triangles) that are then subjected to transformsions"
   ]
  },
  {
   "cell_type": "code",
   "execution_count": 5,
   "metadata": {},
   "outputs": [],
   "source": [
    "eps = 100*np.finfo(np.float).eps"
   ]
  },
  {
   "cell_type": "code",
   "execution_count": 6,
   "metadata": {},
   "outputs": [],
   "source": [
    "with settings(max_examples=5000, max_iterations=10000):\n",
    "    @given( x=vec2(), y=vec2(elements=floats(-20,20)), s=floats(min_value=1.0, max_value=1000.0), th=angle_rad())\n",
    "    def test_clearly_in_tri(x,y,s,th):\n",
    "        assume(x[0] > eps)\n",
    "        assume(x[1] > eps)\n",
    "        assume((x[0] + x[1]) < (1-eps))\n",
    "        u = np.array([[0, 0]]).T\n",
    "        v = np.array([[1, 0]]).T\n",
    "        w = np.array([[0, 1]]).T\n",
    "        res = is_in_triangle(u, v, w, x)\n",
    "        assert res\n",
    "        \n",
    "        A = rot2(th)\n",
    "        u_bar = s*np.dot(A, u+y)\n",
    "        v_bar = s*np.dot(A, v+y)\n",
    "        w_bar = s*np.dot(A, w+y)\n",
    "        x_bar = s*np.dot(A, x+y)\n",
    "\n",
    "        res_bar = is_in_triangle(u_bar, v_bar, w_bar, x_bar)\n",
    "        assert res_bar\n",
    "        \n",
    "    \n",
    "test_clearly_in_tri()"
   ]
  },
  {
   "cell_type": "code",
   "execution_count": 7,
   "metadata": {},
   "outputs": [],
   "source": [
    "with settings():\n",
    "    @given( x=vec2(elements=floats(eps, 1-eps)), y=vec2(), th=angle_rad())\n",
    "    def test_clearly_in_quad(x,y,th):\n",
    "        u = np.array([[0, 0]]).T\n",
    "        v = np.array([[1, 0]]).T\n",
    "        w = np.array([[0, 1]]).T\n",
    "        p = np.array([[1, 1]]).T\n",
    "        r1 = is_in_triangle(u, v, w, x)\n",
    "        r2 = is_in_triangle(w, v, p, x)\n",
    "        res = r1 or r2\n",
    "        assert res\n",
    "        \n",
    "        note('x=%s, th=%s' % (str(x.T), str(th)))\n",
    "        \n",
    "        A = rot2(th)\n",
    "        u_bar = np.dot(A, u+y)\n",
    "        v_bar = np.dot(A, v+y)\n",
    "        w_bar = np.dot(A, w+y)\n",
    "        p_bar = np.dot(A, p+y)\n",
    "        x_bar = np.dot(A, x+y)\n",
    "        r1_bar = is_in_triangle(u_bar, v_bar, w_bar, x_bar)\n",
    "        r2_bar = is_in_triangle(w_bar, v_bar, p_bar, x_bar)\n",
    "        res_bar = r1_bar or r2_bar\n",
    "        assert res_bar\n",
    "        \n",
    "    \n",
    "test_clearly_in_quad()"
   ]
  },
  {
   "cell_type": "code",
   "execution_count": 19,
   "metadata": {},
   "outputs": [],
   "source": [
    "with settings():#verbosity=Verbosity.verbose):\n",
    "    @given( x=vec2(elements=floats(-1, 2)), y=vec2(), th=angle_rad())\n",
    "    def test_clearly_out_quad(x,y,th):\n",
    "        assume((x[0] < -eps) or (x[0] > 1+eps))\n",
    "        assume((x[1] < -eps) or (x[1] > 1+eps))\n",
    "        u = np.array([[0, 0]]).T\n",
    "        v = np.array([[1, 0]]).T\n",
    "        w = np.array([[0, 1]]).T\n",
    "        p = np.array([[1, 1]]).T\n",
    "        r1 = is_in_triangle(u, v, w, x)\n",
    "        r2 = is_in_triangle(w, v, p, x)\n",
    "        res = r1 or r2\n",
    "        assert not res\n",
    "        \n",
    "        A = rot2(th)\n",
    "        u_bar = np.dot(A, u+y)\n",
    "        v_bar = np.dot(A, v+y)\n",
    "        w_bar = np.dot(A, w+y)\n",
    "        p_bar = np.dot(A, p+y)\n",
    "        x_bar = np.dot(A, x+y)\n",
    "        r1_bar = is_in_triangle(u_bar, v_bar, w_bar, x_bar)\n",
    "        r2_bar = is_in_triangle(w_bar, v_bar, p_bar, x_bar)\n",
    "        res_bar = r1_bar or r2_bar\n",
    "        assert not res_bar\n",
    "    \n",
    "test_clearly_out_quad()"
   ]
  },
  {
   "cell_type": "code",
   "execution_count": 15,
   "metadata": {},
   "outputs": [],
   "source": [
    "def unit_quad():\n",
    "    verts = np.array([[0, 0], [1, 0], [0, 1], [1, 1]])\n",
    "    tris  = np.array([[0, 1, 2], [1, 3, 2]])\n",
    "    return verts, tris\n",
    "\n",
    "verts, _ = unit_quad()"
   ]
  },
  {
   "cell_type": "code",
   "execution_count": 16,
   "metadata": {},
   "outputs": [],
   "source": [
    "a,b,c,d = verts"
   ]
  },
  {
   "cell_type": "code",
   "execution_count": 17,
   "metadata": {},
   "outputs": [
    {
     "data": {
      "text/plain": [
       "array([0, 0])"
      ]
     },
     "execution_count": 17,
     "metadata": {},
     "output_type": "execute_result"
    }
   ],
   "source": [
    "a"
   ]
  },
  {
   "cell_type": "code",
   "execution_count": null,
   "metadata": {},
   "outputs": [],
   "source": []
  }
 ],
 "metadata": {
  "kernelspec": {
   "display_name": "Python 3",
   "language": "python",
   "name": "python3"
  },
  "language_info": {
   "codemirror_mode": {
    "name": "ipython",
    "version": 3
   },
   "file_extension": ".py",
   "mimetype": "text/x-python",
   "name": "python",
   "nbconvert_exporter": "python",
   "pygments_lexer": "ipython3",
   "version": "3.6.3"
  }
 },
 "nbformat": 4,
 "nbformat_minor": 2
}
