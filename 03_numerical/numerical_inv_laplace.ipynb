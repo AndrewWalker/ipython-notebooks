{
 "metadata": {
  "name": "",
  "signature": "sha256:00b727952cf2ec9962d8858d02fe4fff8651e6630ce425715d50e61c1be6a5bd"
 },
 "nbformat": 3,
 "nbformat_minor": 0,
 "worksheets": [
  {
   "cells": [
    {
     "cell_type": "markdown",
     "metadata": {},
     "source": [
      "# Approximate Inversion of the Laplace Transform \n",
      "\n",
      "Based on \"Approximate Inversion of the Laplace Transform\", by Cheng and Sidauruk, Published in The Mathematica Journal, Volume 4, Issue 2, 1994.\n",
      "\n",
      "Translation of the mathematica code to Python"
     ]
    },
    {
     "cell_type": "code",
     "collapsed": false,
     "input": [
      "import numpy\n",
      "from scipy.misc import factorial\n",
      "\n",
      "def f(n):\n",
      "    return float(factorial(n))\n",
      "\n",
      "def csteh(n, i):\n",
      "    acc = 0.0\n",
      "    a = int(numpy.floor((i+1)/2.0))\n",
      "    b = min(i, n/2) + 1\n",
      "    print n, i, a, b\n",
      "    for k in xrange(a, b):\n",
      "        num = k**(n/2) * f(2*k)\n",
      "        den = f(n/2 -k) * f(k) * f(k-1) * f(i-k) * f(2*k-i)\n",
      "        acc += num / den\n",
      "    return -1**(i + n/2.0) * acc\n",
      "\n",
      "def inv_laplace_stenfest(F, t, n):\n",
      "    \"\"\"Inverse Laplace Transform\n",
      "    \n",
      "    :param F: The function to take the inverse laplace of\n",
      "    :param t: The value of time at which to invert the transform\n",
      "    :param n: The number of terms to use in the inverse\n",
      "    \"\"\"\n",
      "    log_t_on_2 = numpy.log(2.0)/t\n",
      "    acc = 0.0\n",
      "    for i in xrange(1, n+1):\n",
      "        acc += csteh(n, i) * F(i * log_t_on_2)\n",
      "    return log_t_on_2 * acc"
     ],
     "language": "python",
     "metadata": {},
     "outputs": [],
     "prompt_number": 3
    },
    {
     "cell_type": "code",
     "collapsed": false,
     "input": [
      "def F(s):\n",
      "    return 1.0/s\n",
      "\n",
      "print inv_laplace_stenfest(F, 1.0, 6)"
     ],
     "language": "python",
     "metadata": {},
     "outputs": [
      {
       "output_type": "stream",
       "stream": "stdout",
       "text": [
        "6 1 1 2\n",
        "6"
       ]
      },
      {
       "output_type": "stream",
       "stream": "stdout",
       "text": [
        " 2 1 3\n",
        "6 3 2 4\n",
        "6 4 2 4\n",
        "6 5 3 4\n",
        "6 6 3 4\n",
        "-569.0\n"
       ]
      }
     ],
     "prompt_number": 4
    },
    {
     "cell_type": "code",
     "collapsed": false,
     "input": [],
     "language": "python",
     "metadata": {},
     "outputs": []
    }
   ],
   "metadata": {}
  }
 ]
}