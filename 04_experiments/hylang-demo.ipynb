{
 "cells": [
  {
   "cell_type": "markdown",
   "metadata": {},
   "source": [
    "# HyLang\n",
    "\n",
    "Hy is a \"dialect of Lisp that's embedded in Python\"\n",
    "\n",
    "- [Hy Learn X in Y minutes](https://learnxinyminutes.com/docs/hy/)\n",
    "- [Stable docs](http://docs.hylang.org/en/stable/index.html)\n",
    "- [Github](https://github.com/hylang/hy)\n",
    "- [hy magic for ipython](https://github.com/yardsale8/hymagic)"
   ]
  },
  {
   "cell_type": "code",
   "execution_count": 2,
   "metadata": {
    "collapsed": false
   },
   "outputs": [
    {
     "data": {
      "text/plain": [
       "'0.11.1'"
      ]
     },
     "execution_count": 2,
     "metadata": {},
     "output_type": "execute_result"
    }
   ],
   "source": [
    "import hy\n",
    "hy.__version__\n",
    "# NB. This is the pypi version, there is some talk on the #hy irc channel about a \n",
    "# new release, but it's certainly usable how it is at the moment"
   ]
  },
  {
   "cell_type": "code",
   "execution_count": 3,
   "metadata": {
    "collapsed": false
   },
   "outputs": [],
   "source": [
    "%load_ext hymagic"
   ]
  },
  {
   "cell_type": "markdown",
   "metadata": {},
   "source": [
    "## 1. Python Integration\n",
    "\n",
    "Hy uses custom data structures (that pprint doesn't understand), which means it's necessary to flatten everything back to fundamental list/tuple types if you want to show what's in a complex quoted structure using python. \n",
    "\n",
    "Not sure if this is really required (or even sensible), but it can be helpful for debugging."
   ]
  },
  {
   "cell_type": "code",
   "execution_count": 117,
   "metadata": {
    "collapsed": true
   },
   "outputs": [],
   "source": [
    "def hy2py(expr):\n",
    "    if type(expr) == hy.models.expression.HyList:\n",
    "        return [ hy2py(se) for se in expr ]\n",
    "    elif type(expr) == hy.models.expression.HyExpression:\n",
    "        return tuple(hy2py(se) for se in expr)\n",
    "    elif type(expr) == list:\n",
    "        return [ hy2py(se) for se in expr]\n",
    "    else:\n",
    "        return expr\n",
    "    \n",
    "def showhy(expr):\n",
    "    print expr"
   ]
  },
  {
   "cell_type": "markdown",
   "metadata": {},
   "source": [
    "## 2. Example use case\n",
    "\n",
    "[pydubins](https://github.com/AndrewWalker/pydubins) uses cython to wrap c code thats numeric in nature - nothing particularly complex, it wraps up the solutions to six equations, but there are enough corner cases to make bugs likely.  One nice feature would be to generate (nice) c, python and matlab versions of the code. The challenge was also that if I found a bug, I'd need to rewrite the code in both Python and C to fix the issue.  \n",
    "\n",
    "So the sample use-case for hy is to show you can generate both python and c code from hy (polyglot ftw) "
   ]
  },
  {
   "cell_type": "markdown",
   "metadata": {},
   "source": [
    "### 2.1 Porting a function from Python to Hy\n",
    "\n",
    "Total time about 3 hours \n",
    "\n",
    "- I'd read the little schemer, and had a few lisp books lying around that I'd been getting ideas from for a while, but this is the first lisp code I've ever written of this size\n",
    "- interestingly most of the this was because of looking at the incorrect version of the hy docs (for latest rather than stable). The structure of let will change in the next release of hy"
   ]
  },
  {
   "cell_type": "code",
   "execution_count": 5,
   "metadata": {
    "collapsed": false
   },
   "outputs": [
    {
     "name": "stdout",
     "output_type": "stream",
     "text": [
      "[0.0026291501253711603, 1.9001731507566977, 0.09737084987462885]\n"
     ]
    }
   ],
   "source": [
    "%%hylang\n",
    "(import [math [cos sin atan2 acos sqrt pi]])\n",
    "\n",
    "(defun mod2pi [x]\n",
    "    (% x (* 2 pi)))\n",
    "\n",
    "(defun minus [x] (* -1 x))\n",
    "\n",
    "(defun dubins_LSL [alpha beta d]\n",
    "    (let [[ca (cos alpha)]\n",
    "          [cb (cos beta)]\n",
    "          [sa (sin alpha)]\n",
    "          [sb (sin beta)]\n",
    "          [c_ab (cos (- alpha beta))]\n",
    "          [tmp0 (+ d sa (minus sb))]\n",
    "          [psq (+ 2 (* d d) (* -2 c_ab) (* 2 d (- sa sb)))]]\n",
    "        (if (>= psq 0)\n",
    "            (let [[tmp1 (atan2 (- ca cb) tmp0)]\n",
    "                  [t (mod2pi (- tmp1 alpha))]\n",
    "                  [p (sqrt psq)]\n",
    "                  [q (mod2pi (- beta tmp1))]]\n",
    "                 [t p q])\n",
    "            nil)))\n",
    "\n",
    "(print (dubins_LSL 0 0.1 2))"
   ]
  },
  {
   "cell_type": "markdown",
   "metadata": {},
   "source": [
    "### 2.2 Generalizing that function\n",
    "\n",
    "So the next step is to try to get access to the s-expressions that make up the function - you can do that by returning a quoted function.\n",
    "\n",
    "- This trick is pretty obvious, and was the main reason I'd been considering hy for doing this\n",
    "- What was less obvious is how to eval to go from that quoted list back to a function. Got lots of errors about \"unquoting at the top level\" which weren't helpful (for a novice) - in retrospect there are a few examples in the hy documentation that show how to do this."
   ]
  },
  {
   "cell_type": "code",
   "execution_count": 8,
   "metadata": {
    "collapsed": false
   },
   "outputs": [],
   "source": [
    "%%hylang\n",
    "\n",
    "(defun mkfn []\n",
    "    `(lambda [alpha beta d]\n",
    "        (let [[ca (cos alpha)]\n",
    "              [cb (cos beta)]\n",
    "              [sa (sin alpha)]\n",
    "              [sb (sin beta)]\n",
    "              [c_ab (cos (- alpha beta))]\n",
    "              [tmp0 (+ d sa (minus sb))]\n",
    "              [psq (+ 2 (* d d) (* -2 c_ab) (* 2 d (- sa sb)))]]\n",
    "            (if (>= psq 0)\n",
    "                (let [[tmp1 (atan2 (- ca cb) tmp0)]\n",
    "                      [t (mod2pi (- tmp1 alpha))]\n",
    "                      [p (sqrt psq)]\n",
    "                      [q (mod2pi (- beta tmp1))]]\n",
    "                     [t p q])\n",
    "                nil))))\n",
    "\n",
    "(setv myfn (mkfn))"
   ]
  },
  {
   "cell_type": "markdown",
   "metadata": {},
   "source": [
    "### 2.2a Sanity Check\n",
    "\n",
    "Hy includes some goodies like converting to python. Let's try that and show it works"
   ]
  },
  {
   "cell_type": "code",
   "execution_count": 10,
   "metadata": {
    "collapsed": true
   },
   "outputs": [
    {
     "name": "stdout",
     "output_type": "stream",
     "text": [
      "def _hy_anon_fn_3(alpha, beta, d):\n",
      "\n",
      "    def _hy_anon_fn_2():\n",
      "        ca = cos(alpha)\n",
      "        cb = cos(beta)\n",
      "        sa = sin(alpha)\n",
      "        sb = sin(beta)\n",
      "        c_ab = cos((alpha - beta))\n",
      "        tmp0 = ((d + sa) + minus(sb))\n",
      "        psq = (((2L + (d * d)) + ((-2L) * c_ab)) + ((2L * d) * (sa - sb)))\n",
      "        if (psq >= 0L):\n",
      "\n",
      "            def _hy_anon_fn_1():\n",
      "                tmp1 = atan2((ca - cb), tmp0)\n",
      "                t = mod2pi((tmp1 - alpha))\n",
      "                p = sqrt(psq)\n",
      "                q = mod2pi((beta - tmp1))\n",
      "                return [t, p, q]\n",
      "            _hy_anon_var_1 = _hy_anon_fn_1()\n",
      "        else:\n",
      "            _hy_anon_var_1 = None\n",
      "        return _hy_anon_var_1\n",
      "    return _hy_anon_fn_2()\n"
     ]
    }
   ],
   "source": [
    "%%hylang\n",
    "(print (disassemble myfn True))"
   ]
  },
  {
   "cell_type": "markdown",
   "metadata": {},
   "source": [
    "### 2.3 Code Injection\n",
    "\n",
    "In the current version of the C code, a c-preprocessor macro injects a heap of common code into each function, just to make things managable. Because we're writing in a lisp, we can do heaps better than that - we can just mutate the code."
   ]
  },
  {
   "cell_type": "code",
   "execution_count": 88,
   "metadata": {
    "collapsed": false
   },
   "outputs": [
    {
     "data": {
      "text/plain": [
       "(u'lambda',\n",
       " [u'alpha', u'beta', u'd'],\n",
       " (u'let',\n",
       "  [[u'ca', (u'cos', u'alpha')],\n",
       "   [u'cb', (u'cos', u'beta')],\n",
       "   [u'sa', (u'sin', u'alpha')],\n",
       "   [u'sb', (u'sin', u'beta')],\n",
       "   [u'c_ab', (u'cos', (u'-', u'alpha', u'beta'))],\n",
       "   [u'tmp0', (u'+', u'd', u'sa', (u'minus', u'sb'))],\n",
       "   [u'psq',\n",
       "    (u'+',\n",
       "     2L,\n",
       "     (u'*', u'd', u'd'),\n",
       "     (u'*', -2L, u'c_ab'),\n",
       "     (u'*', 2L, u'd', (u'-', u'sa', u'sb')))]],\n",
       "  (u'if',\n",
       "   (u'>=', u'psq', 0L),\n",
       "   (u'let',\n",
       "    [[u'tmp1', (u'atan2', (u'-', u'ca', u'cb'), u'tmp0')],\n",
       "     [u't', (u'mod2pi', (u'-', u'tmp1', u'alpha'))],\n",
       "     [u'p', (u'sqrt', u'psq')],\n",
       "     [u'q', (u'mod2pi', (u'-', u'beta', u'tmp1'))]],\n",
       "    (u'list', u't', u'p', u'q')),\n",
       "   u'None')))"
      ]
     },
     "execution_count": 88,
     "metadata": {},
     "output_type": "execute_result"
    }
   ],
   "source": [
    "%%hylang\n",
    "\n",
    "(defun mkfn [prelude]\n",
    "    `(lambda [alpha beta d]\n",
    "        (let [~@prelude             \n",
    "              [tmp0 (+ d sa (minus sb))]\n",
    "              [psq (+ 2 (* d d) (* -2 c_ab) (* 2 d (- sa sb)))]]\n",
    "            (if (>= psq 0)\n",
    "                (let [[tmp1 (atan2 (- ca cb) tmp0)]\n",
    "                      [t (mod2pi (- tmp1 alpha))]\n",
    "                      [p (sqrt psq)]\n",
    "                      [q (mod2pi (- beta tmp1))]]\n",
    "                     (list t p q))\n",
    "                nil))))\n",
    "\n",
    "(setv lsl (mkfn `[[ca (cos alpha)]\n",
    "        [cb (cos beta)]\n",
    "        [sa (sin alpha)]\n",
    "        [sb (sin beta)]\n",
    "        [c_ab (cos (- alpha beta))]]))\n",
    "\n",
    "(hy2py lsl)"
   ]
  },
  {
   "cell_type": "markdown",
   "metadata": {},
   "source": [
    "### 2.4 Code Extraction\n",
    "\n",
    "Add a top level form to the lambda that describes all the declarations present in the function. This isn't necessary for lisp - but is a necessary precursor for generating C90 style code."
   ]
  },
  {
   "cell_type": "code",
   "execution_count": 142,
   "metadata": {
    "collapsed": false
   },
   "outputs": [
    {
     "data": {
      "text/plain": [
       "[u'lambda',\n",
       " [u'alpha', u'beta', u'd'],\n",
       " [u'vardecls',\n",
       "  [u'ca',\n",
       "   u'cb',\n",
       "   u'sa',\n",
       "   u'sb',\n",
       "   u'c_ab',\n",
       "   u'tmp0',\n",
       "   u'psq',\n",
       "   u'tmp1',\n",
       "   u't',\n",
       "   u'p',\n",
       "   u'q'],\n",
       "  (u'do',\n",
       "   [(u'setv', u'ca', (u'cos', u'alpha')),\n",
       "    (u'setv', u'cb', (u'cos', u'beta')),\n",
       "    (u'setv', u'sa', (u'sin', u'alpha')),\n",
       "    (u'setv', u'sb', (u'sin', u'beta')),\n",
       "    (u'setv', u'c_ab', (u'cos', (u'-', u'alpha', u'beta'))),\n",
       "    (u'setv', u'tmp0', (u'+', u'd', u'sa', (u'minus', u'sb'))),\n",
       "    (u'setv',\n",
       "     u'psq',\n",
       "     (u'+',\n",
       "      2L,\n",
       "      (u'*', u'd', u'd'),\n",
       "      (u'*', -2L, u'c_ab'),\n",
       "      (u'*', 2L, u'd', (u'-', u'sa', u'sb'))))],\n",
       "   [u'if',\n",
       "    [u'>=', u'psq', 0L],\n",
       "    (u'do',\n",
       "     [(u'setv', u'tmp1', (u'atan2', (u'-', u'ca', u'cb'), u'tmp0')),\n",
       "      (u'setv', u't', (u'mod2pi', (u'-', u'tmp1', u'alpha'))),\n",
       "      (u'setv', u'p', (u'sqrt', u'psq')),\n",
       "      (u'setv', u'q', (u'mod2pi', (u'-', u'beta', u'tmp1')))],\n",
       "     [u'list', u't', u'p', u'q']),\n",
       "    u'None'])]]"
      ]
     },
     "execution_count": 142,
     "metadata": {},
     "output_type": "execute_result"
    }
   ],
   "source": [
    "%%hylang\n",
    "\n",
    "(defun declaration [expr]\n",
    "    (cond [(numeric? expr) ()]\n",
    "          [(empty? expr) ()]\n",
    "          [(nil? expr) ()]\n",
    "          [(= `lambda (car expr)) \n",
    "               (declaration (nth expr 2))]\n",
    "          [(= `let (car expr)) \n",
    "               (+\n",
    "                    (nth expr 1)\n",
    "                    (declaration (nth expr 2)))]\n",
    "          [(= `if  (car expr)) \n",
    "               (declaration (nth expr 2))]\n",
    "          [True ()]))\n",
    "\n",
    "(defun injectdecls [expr]\n",
    "    (let [[vdecls (list (map first (declaration expr)))]]\n",
    "        `(lambda ~(nth expr 1)\n",
    "             (vardecls ~vdecls ~(nth expr 2)))))\n",
    "\n",
    "(defun rewriteletterm [term]\n",
    "    `(setv ~(car term) ~(car (cdr term))))\n",
    "\n",
    "(defun rewritelet [expr]\n",
    "    (if (coll? expr)\n",
    "        (if (= `let (car expr))\n",
    "            `(do \n",
    "                ~(list (map rewriteletterm (nth expr 1))) \n",
    "                ~(rewritelet (nth expr 2)))\n",
    "            (list (map rewritelet expr)))\n",
    "        expr))\n",
    "\n",
    "(hy2py (rewritelet (injectdecls lsl)))"
   ]
  },
  {
   "cell_type": "code",
   "execution_count": 174,
   "metadata": {
    "collapsed": false
   },
   "outputs": [
    {
     "data": {
      "text/plain": [
       "((u'+' 2L (u'*' u'd' u'd') (u'*' -2L u'c_ab') (u'*' 2L u'd' (u'-' u'sa' u'sb'))))"
      ]
     },
     "execution_count": 174,
     "metadata": {},
     "output_type": "execute_result"
    }
   ],
   "source": [
    "%%hylang\n",
    ";symbol?\n",
    "(defun rewriterhs [expr]\n",
    "    (cond [(not (coll? expr)) \n",
    "           (str expr)]\n",
    "          [(= `* (car expr)) \n",
    "           (.format \"({0})\" (.join \" * \" (map rewriterhs (cdr expr))))]\n",
    "          [(= `+ (car expr)) \n",
    "           (.format \"({0})\" (.join \" + \" (map rewriterhs (cdr expr))))]\n",
    "          [(= `- (car expr)) \n",
    "           (.format \"({0} - {1})\" (nth expr 1) (nth expr 2))]\n",
    "          [True expr]))\n",
    "    \n",
    "\n",
    "(rewriterhs `((+ 2 (* d d) (* -2 c_ab) (* 2 d (- sa sb)))))"
   ]
  },
  {
   "cell_type": "code",
   "execution_count": 164,
   "metadata": {
    "collapsed": false
   },
   "outputs": [
    {
     "data": {
      "text/plain": [
       "'(oo)'"
      ]
     },
     "execution_count": 164,
     "metadata": {},
     "output_type": "execute_result"
    }
   ],
   "source": [
    "\"({0})\".format('oo')"
   ]
  },
  {
   "cell_type": "markdown",
   "metadata": {},
   "source": [
    "### 2.2b Restatement of Goal\n",
    "\n",
    "Rather than the code in the previous section we really want:"
   ]
  },
  {
   "cell_type": "code",
   "execution_count": null,
   "metadata": {
    "collapsed": true
   },
   "outputs": [],
   "source": [
    "; rewrite rule \n",
    ";   (let [[u v] [w x]] q) -> \n",
    ";      (do (set u v) (set w x) q nil)\n",
    "\n",
    ";   (setv x y)\n",
    ";   x = y;\n",
    "\n",
    "; NEED TO CHECK PRECENDENCE\n",
    ";   (minus x)\n",
    ";   -x\"\"\n",
    "\n",
    ";  (- a b)\n",
    ";  (a - b)\n",
    "\n",
    "; (+ x0 x1 x2 ... xn)\n",
    ";  (x0 + x1 + x2 ... + xn)\n",
    "\n",
    "; PHASE 1\n",
    "    \n",
    "(defun mkfn []\n",
    "    `(lambda [alpha beta d]\n",
    "       (decls [ca cb sa sb c_ab tmp0 psq tmp1 t p q]\n",
    "           (do\n",
    "              (setv c_ab (cos (- alpha beta)))\n",
    "              (setv tmp0 (+ d sa (minus sb)))\n",
    "              (setv psq (+ 2 (* d d) (* -2 c_ab) (* 2 d (- sa sb))))\n",
    "              (if (>= psq 0)\n",
    "                  (do\n",
    "                      (setv tmp1 (atan2 (- ca cb) tmp0))\n",
    "                      (setv t (mod2pi (- tmp1 alpha)))\n",
    "                      (setv p (sqrt psq))\n",
    "                      (setv q (mod2pi (- beta tmp1)))\n",
    "                      nil)\n",
    "                  nil)\n",
    "            nil))))\n",
    "\n",
    "\n",
    "; PHASE 2\n",
    "\n",
    "; (if q c t nil) ->\n",
    ";\n",
    "; (do\n",
    ";   (println (concat \"if(\" (cexpr c) \")\"))\n",
    ";   (println \"{\")\n",
    ";   (cexpr t)\n",
    ";   (println \"}\"))\n",
    "\n",
    "    \n",
    "(defun mkfn []\n",
    "    `(lambda [alpha beta d]\n",
    "       (decls [ca cb sa sb c_ab tmp0 psq tmp1 t p q]\n",
    "           (do\n",
    "              (println \"c_ab = cos(alpha - beta)\")\n",
    "              (println \"tmp0 = d + sa + -sb\")\n",
    "              (println \"psq = 2 + (d * d) + (-2 * c_ab) + (2 * d * (sa - sb))\")\n",
    "              (if (>= psq 0)\n",
    "                  (do\n",
    "                      (setv tmp1 (atan2 (- ca cb) tmp0))\n",
    "                      (setv t (mod2pi (- tmp1 alpha)))\n",
    "                      (setv p (sqrt psq))\n",
    "                      (setv q (mod2pi (- beta tmp1)))\n",
    "                      nil)\n",
    "                  nil)\n",
    "            nil))))\n"
   ]
  },
  {
   "cell_type": "markdown",
   "metadata": {},
   "source": [
    "### 2.3 Matching Expression fragments (Python)\n",
    "\n",
    "One of the things lisp is great at is matching part of expressions while you're trying to walk a tree. This (ugly) python 2 code shows what this might look like (nb, yield-from would make this slightly less bad in python 3)"
   ]
  },
  {
   "cell_type": "code",
   "execution_count": 40,
   "metadata": {
    "collapsed": false
   },
   "outputs": [
    {
     "name": "stdout",
     "output_type": "stream",
     "text": [
      "double ca, cb, sa, sb, c_ab, tmp0, psq, tmp1, t, p, q;\n"
     ]
    }
   ],
   "source": [
    "def match_let(expr):\n",
    "    if expr[0] == u'lambda':\n",
    "        for m in match_let(expr[2]):\n",
    "            yield m\n",
    "    elif expr[0] == u'if':\n",
    "        for m in match_let(expr[2]):\n",
    "            yield m\n",
    "        for m in match_let(expr[3]):\n",
    "            yield m\n",
    "    elif expr[0] == u'let':\n",
    "        yield expr[1]\n",
    "        for m in match_let(expr[2]):\n",
    "            yield m\n",
    "\n",
    "def declarations(expr):\n",
    "    for e in match_let(myfn):\n",
    "        for item in e:\n",
    "            yield item[0]\n",
    "\n",
    "from  pprint import pprint\n",
    "print 'double ' + ', '.join(declarations(myfn)) + ';'"
   ]
  },
  {
   "cell_type": "code",
   "execution_count": 14,
   "metadata": {
    "collapsed": false
   },
   "outputs": [
    {
     "data": {
      "text/plain": [
       "[[u'ca' (u'cos' u'alpha')] [u'cb' (u'cos' u'beta')] [u'sa' (u'sin' u'alpha')] [u'sb' (u'sin' u'beta')] [u'c_ab' (u'cos' (u'-' u'alpha' u'beta'))] [u'tmp0' (u'+' u'd' u'sa' (u'minus' u'sb'))] [u'psq' (u'+' 2L (u'*' u'd' u'd') (u'*' -2L u'c_ab') (u'*' 2L u'd' (u'-' u'sa' u'sb')))]]"
      ]
     },
     "execution_count": 14,
     "metadata": {},
     "output_type": "execute_result"
    }
   ],
   "source": [
    "%%hylang\n",
    "\n",
    "(nth (nth myfn 2) 1)\n"
   ]
  },
  {
   "cell_type": "code",
   "execution_count": 66,
   "metadata": {
    "collapsed": false
   },
   "outputs": [
    {
     "data": {
      "text/plain": [
       "(u'lambda' [u'x'] (u'let' [[u'u' (u'cos' u'x')] [u'v' (u'sin' u'x')]] (u'+' u'u' u'v')))"
      ]
     },
     "execution_count": 66,
     "metadata": {},
     "output_type": "execute_result"
    }
   ],
   "source": [
    "%%hylang\n",
    "\n",
    "(defun rewrite [e] \n",
    "    (cond \n",
    "        [(= `lambda (car e)) `(lambda ~(nth e 1) ~(rewrite (nth e 2)))]\n",
    "        [(= `let (car e) `(do\n",
    "                              (setv u ))]\n",
    "        [True e]))\n",
    "\n",
    "(rewrite `(lambda [x] \n",
    "              (let [[u (cos x)]\n",
    "                    [v (sin x)]]\n",
    "                  (+ u v))))"
   ]
  },
  {
   "cell_type": "code",
   "execution_count": 77,
   "metadata": {
    "collapsed": false
   },
   "outputs": [
    {
     "data": {
      "text/plain": [
       "3L"
      ]
     },
     "execution_count": 77,
     "metadata": {},
     "output_type": "execute_result"
    }
   ],
   "source": [
    "%%hylang\n",
    "(last `(1 2 3))\n",
    ";(reduce cons `(1 2 3) nil)"
   ]
  },
  {
   "cell_type": "code",
   "execution_count": 100,
   "metadata": {
    "collapsed": false
   },
   "outputs": [
    {
     "ename": "TypeError",
     "evalue": "'long' object is not callable",
     "output_type": "error",
     "traceback": [
      "\u001b[0;31m---------------------------------------------------------------------------\u001b[0m",
      "\u001b[0;31mTypeError\u001b[0m                                 Traceback (most recent call last)",
      "\u001b[0;32m<input>\u001b[0m in \u001b[0;36m<module>\u001b[0;34m()\u001b[0m\n",
      "\u001b[0;32m/Users/walkera/anaconda/lib/python2.7/site-packages/hy/importer.pyc\u001b[0m in \u001b[0;36mhy_eval\u001b[0;34m(hytree, namespace, module_name)\u001b[0m\n\u001b[1;32m    124\u001b[0m \u001b[0;34m\u001b[0m\u001b[0m\n\u001b[1;32m    125\u001b[0m     \u001b[0;31m# Then eval the expression context and return that\u001b[0m\u001b[0;34m\u001b[0m\u001b[0;34m\u001b[0m\u001b[0m\n\u001b[0;32m--> 126\u001b[0;31m     \u001b[0;32mreturn\u001b[0m \u001b[0meval\u001b[0m\u001b[0;34m(\u001b[0m\u001b[0mast_compile\u001b[0m\u001b[0;34m(\u001b[0m\u001b[0mexpr\u001b[0m\u001b[0;34m,\u001b[0m \u001b[0;34m\"<eval>\"\u001b[0m\u001b[0;34m,\u001b[0m \u001b[0;34m\"eval\"\u001b[0m\u001b[0;34m)\u001b[0m\u001b[0;34m,\u001b[0m \u001b[0mnamespace\u001b[0m\u001b[0;34m)\u001b[0m\u001b[0;34m\u001b[0m\u001b[0m\n\u001b[0m\u001b[1;32m    127\u001b[0m \u001b[0;34m\u001b[0m\u001b[0m\n\u001b[1;32m    128\u001b[0m \u001b[0;34m\u001b[0m\u001b[0m\n",
      "\u001b[0;32m<eval>\u001b[0m in \u001b[0;36m<module>\u001b[0;34m()\u001b[0m\n",
      "\u001b[0;31mTypeError\u001b[0m: 'long' object is not callable"
     ]
    }
   ],
   "source": [
    "%%hylang\n",
    "(defun foldr [fun seq end]\n",
    "    (if (nil? seq)\n",
    "            end\n",
    "            (fun (car seq) (foldr fun end (cdr seq)))))\n",
    "\n",
    "(foldr cons `[1 2 3] nil)\n",
    "\n",
    "(eval `(1 2 3))"
   ]
  },
  {
   "cell_type": "code",
   "execution_count": null,
   "metadata": {
    "collapsed": true
   },
   "outputs": [],
   "source": []
  }
 ],
 "metadata": {
  "kernelspec": {
   "display_name": "Python 2",
   "language": "python",
   "name": "python2"
  },
  "language_info": {
   "codemirror_mode": {
    "name": "ipython",
    "version": 2
   },
   "file_extension": ".py",
   "mimetype": "text/x-python",
   "name": "python",
   "nbconvert_exporter": "python",
   "pygments_lexer": "ipython2",
   "version": "2.7.11"
  }
 },
 "nbformat": 4,
 "nbformat_minor": 0
}
