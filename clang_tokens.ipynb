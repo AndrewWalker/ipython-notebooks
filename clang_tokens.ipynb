{
 "cells": [
  {
   "cell_type": "code",
   "execution_count": 1,
   "metadata": {
    "collapsed": false
   },
   "outputs": [],
   "source": [
    "import clang.cindex\n",
    "clang.cindex.conf.set_library_file('/Applications/Xcode.app/Contents/Developer/Toolchains/XcodeDefault.xctoolchain/usr/lib/libclang.dylib')"
   ]
  },
  {
   "cell_type": "code",
   "execution_count": 2,
   "metadata": {
    "collapsed": false
   },
   "outputs": [
    {
     "name": "stdout",
     "output_type": "stream",
     "text": [
      "TokenKind.KEYWORD struct <SourceLocation file 'tmp.cpp', line 2, column 1>\n",
      "TokenKind.IDENTIFIER Type <SourceLocation file 'tmp.cpp', line 2, column 8>\n",
      "TokenKind.PUNCTUATION ; <SourceLocation file 'tmp.cpp', line 2, column 12>\n",
      "TokenKind.KEYWORD void <SourceLocation file 'tmp.cpp', line 3, column 1>\n",
      "TokenKind.IDENTIFIER foo <SourceLocation file 'tmp.cpp', line 3, column 6>\n",
      "TokenKind.PUNCTUATION ( <SourceLocation file 'tmp.cpp', line 3, column 9>\n",
      "TokenKind.IDENTIFIER Type <SourceLocation file 'tmp.cpp', line 3, column 10>\n",
      "TokenKind.IDENTIFIER param <SourceLocation file 'tmp.cpp', line 3, column 15>\n",
      "TokenKind.PUNCTUATION ) <SourceLocation file 'tmp.cpp', line 3, column 20>\n",
      "TokenKind.PUNCTUATION ; <SourceLocation file 'tmp.cpp', line 3, column 21>\n"
     ]
    }
   ],
   "source": [
    "s = '''\n",
    "struct Type;\n",
    "void foo(Type param);\n",
    "'''\n",
    "\n",
    "idx = clang.cindex.Index.create()\n",
    "tu = idx.parse('tmp.cpp', args=['-std=c++11'],  unsaved_files=[('tmp.cpp', s)],  options=0)\n",
    "for t in tu.get_tokens(extent=tu.cursor.extent):\n",
    "    print t.kind, t.spelling, t.location"
   ]
  },
  {
   "cell_type": "code",
   "execution_count": null,
   "metadata": {
    "collapsed": false
   },
   "outputs": [],
   "source": []
  }
 ],
 "metadata": {
  "kernelspec": {
   "display_name": "Python 2",
   "language": "python",
   "name": "python2"
  },
  "language_info": {
   "codemirror_mode": {
    "name": "ipython",
    "version": 2
   },
   "file_extension": ".py",
   "mimetype": "text/x-python",
   "name": "python",
   "nbconvert_exporter": "python",
   "pygments_lexer": "ipython2",
   "version": "2.7.11"
  }
 },
 "nbformat": 4,
 "nbformat_minor": 0
}
