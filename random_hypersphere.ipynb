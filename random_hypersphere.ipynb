{
 "metadata": {
  "name": ""
 },
 "nbformat": 3,
 "nbformat_minor": 0,
 "worksheets": [
  {
   "cells": [
    {
     "cell_type": "markdown",
     "metadata": {},
     "source": [
      "# Random Hypersphere Sampling\n",
      "\n",
      "Andrew Walker 2013"
     ]
    },
    {
     "cell_type": "code",
     "collapsed": false,
     "input": [
      "def random_hypercube(dimension, size):\n",
      "    return numpy.random.uniform(low = -1.0, high = 1.0, size = (dimension, size))\n",
      " \n",
      "def random_hypersphere(dimension, size):\n",
      "    \"\"\"Randomly generated points uniformly distributed on the surface of a unit d- dimensional hyper sphere\n",
      "\n",
      "    Based on a rejection sampling technique that I first found at\n",
      "    http://stackoverflow.com/a/9606368/2246\n",
      "\n",
      "    \"\"\"\n",
      "    def try_sample(dimension, size):\n",
      "        xs   = random_hypercube(dimension, size)\n",
      "        lens = numpy.sqrt(numpy.sum(xs**2, axis = 0))\n",
      "        assert size == lens.shape[0]\n",
      "        idxs = numpy.where(lens < 1)[0]\n",
      "        xs   /= lens\n",
      "        return xs[:, idxs]\n",
      " \n",
      "    xs = try_sample(dimension, size)\n",
      "    while xs.shape[1] < size:\n",
      "        ys = try_sample(dimension, size - xs.shape[1])\n",
      "        xs = numpy.hstack([xs, ys])\n",
      "    return xs"
     ],
     "language": "python",
     "metadata": {},
     "outputs": []
    }
   ],
   "metadata": {}
  }
 ]
}