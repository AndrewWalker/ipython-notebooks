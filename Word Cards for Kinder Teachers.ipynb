{
 "cells": [
  {
   "cell_type": "code",
   "execution_count": 24,
   "metadata": {
    "collapsed": false
   },
   "outputs": [],
   "source": [
    "import win32com.client\n",
    "import os\n",
    "import glob"
   ]
  },
  {
   "cell_type": "code",
   "execution_count": null,
   "metadata": {
    "collapsed": true
   },
   "outputs": [],
   "source": [
    "# put the photos in this directory\n",
    "# name the photos the same as you want the words on the word cards\n",
    "path = r\"C:\\Users\\sharon\\Desktop\\work PDF's\\word card pictures\\*.*\"\n",
    "files = glob.glob(path)"
   ]
  },
  {
   "cell_type": "code",
   "execution_count": 82,
   "metadata": {
    "collapsed": false
   },
   "outputs": [
    {
     "name": "stdout",
     "output_type": "stream",
     "text": [
      "img C:\\Users\\sharon\\Desktop\\work PDF's\\word card pictures\\Ant.jpg\n",
      "img C:\\Users\\sharon\\Desktop\\work PDF's\\word card pictures\\Black Shield Wasp.jpg\n",
      "img C:\\Users\\sharon\\Desktop\\work PDF's\\word card pictures\\Golden Scorpion.jpg\n",
      "img C:\\Users\\sharon\\Desktop\\work PDF's\\word card pictures\\Grass Cicada.jpg\n",
      "img C:\\Users\\sharon\\Desktop\\work PDF's\\word card pictures\\Honey Bee.jpg\n",
      "img C:\\Users\\sharon\\Desktop\\work PDF's\\word card pictures\\Termite.jpg\n"
     ]
    }
   ],
   "source": [
    "app =win32com.client.gencache.EnsureDispatch('Word.Application')\n",
    "#app = win32com.client.Dispatch('Word.Application')\n",
    "wconst = win32com.client.constants\n",
    "\n",
    "app.Visible = 1\n",
    "doc = app.Documents.Add()\n",
    "\n",
    "def configure_table():\n",
    "    app.Selection.MoveRight(Unit = wconst.wdCharacter, Count = 3, Extend = wconst.wdExtend)\n",
    "    borders = [ \n",
    "        wconst.wdBorderTop, \n",
    "        wconst.wdBorderBottom,\n",
    "        wconst.wdBorderLeft,\n",
    "        wconst.wdBorderRight\n",
    "    ]\n",
    "    for which in borders:\n",
    "        b = app.Selection.Borders(which)\n",
    "        b.LineStyle = app.Options.DefaultBorderLineStyle\n",
    "        b.LineWidth = app.Options.DefaultBorderLineWidth\n",
    "        b.Color = app.Options.DefaultBorderColor\n",
    "    app.Selection.MoveLeft( Unit=wconst.wdCharacter, Count=1)\n",
    "\n",
    "        \n",
    "def add_table_at_end(doc, rows, cols):\n",
    "    location = doc.Range()\n",
    "    location.Collapse(0)\n",
    "    table = location.Tables.Add(location, rows, cols)\n",
    "\n",
    "def insert_image(filename):\n",
    "    print 'img', filename\n",
    "    app.Selection.InlineShapes.AddPicture(filename, \n",
    "        LinkToFile=False, SaveWithDocument=True)\n",
    "\n",
    "def set_font():\n",
    "    app.Selection.WholeStory()\n",
    "    app.Selection.Font.Name = \"VIC MODERN  CURSIVE\"\n",
    "    app.Selection.Font.Size = 36\n",
    "    app.Selection.Font.Size = 48\n",
    "    app.Selection.ParagraphFormat.Alignment = wconst.wdAlignParagraphCenter\n",
    "\n",
    "for i in xrange(len(files)):\n",
    "    add_table_at_end(doc, 1, 2)\n",
    "    location = doc.Range()\n",
    "    location.Collapse(0)\n",
    "    location.Paragraphs.Add()\n",
    "\n",
    "for i in xrange(len(files)):\n",
    "    configure_table()\n",
    "    insert_image(files[i])\n",
    "    app.Selection.MoveRight(Count = 1)\n",
    "    name = os.path.splitext(os.path.split(files[i])[1])[0]\n",
    "    app.Selection.TypeText(name)\n",
    "    app.Selection.MoveRight(Count = 1)\n",
    "    app.Selection.MoveRight(Count = 1)\n",
    "    app.Selection.MoveRight(Count = 1)\n",
    "    \n",
    "set_font()\n",
    "#doc.Close()\n",
    "#app.Quit()"
   ]
  },
  {
   "cell_type": "code",
   "execution_count": 27,
   "metadata": {
    "collapsed": false
   },
   "outputs": [],
   "source": []
  }
 ],
 "metadata": {
  "kernelspec": {
   "display_name": "Python 2",
   "language": "python",
   "name": "python2"
  },
  "language_info": {
   "codemirror_mode": {
    "name": "ipython",
    "version": 2
   },
   "file_extension": ".py",
   "mimetype": "text/x-python",
   "name": "python",
   "nbconvert_exporter": "python",
   "pygments_lexer": "ipython2",
   "version": "2.7.9"
  }
 },
 "nbformat": 4,
 "nbformat_minor": 0
}
