{
 "cells": [
  {
   "cell_type": "markdown",
   "metadata": {},
   "source": [
    "# State Machine Notes\n",
    "\n",
    "These are notes that form the basis for part of an ongoing discussion about the formulation (and foundations of) state machine formalisms and the way they can be represented in software.\n",
    "\n",
    "Objectives:\n",
    "\n",
    "* Show a link between state machine formalisms and implementations\n",
    "* Tradeoffs between total and partial functions for implementing transition functions\n",
    "* Demonstrate that type signatures and type annotations can be useful part of the process of describing software"
   ]
  },
  {
   "cell_type": "markdown",
   "metadata": {},
   "source": [
    "\n",
    "## Mealy Machine\n",
    "\n",
    "The formal definition of a Mealy machine is a 6-tuple $(S, S_0, \\Sigma, \\Lambda, T, G)$ consisting of the following:\n",
    "\n",
    "* a finite set of states $S$\n",
    "* a start state (also called initial state) $S_{0}$ which is an element of $S$\n",
    "* a finite set called the input alphabet $\\Sigma$ \n",
    "* a finite set called the output alphabet $\\Lambda$ \n",
    "* a transition function $T : S \\times \\Sigma \\rightarrow S$ mapping pairs of a state and an input symbol to the corresponding next state.\n",
    "* an output function $G:S\\times \\Sigma \\rightarrow \\Lambda$  mapping pairs of a state and an input symbol to the corresponding output symbol."
   ]
  },
  {
   "cell_type": "markdown",
   "metadata": {},
   "source": [
    "### Questions\n",
    "\n",
    "**How do you represent a finite set in Python?**\n",
    "\n",
    "Consider the possible fundamental (non-associative) types available in Python: list, tuple, set, frozenset. All of these representation make sense as possible representations, with the caveat that list and tuple need extra work to prevent duplicate items. Standard library representations that make sense include enums (again with checking to prevent duplicates).\n",
    "\n",
    "**How do you pick a suitable a finite set for a Pythonic state machine?**\n",
    "\n",
    "* The fundamental property we're looking for in a set is a unique collection. To proove this, the members of the must  be able to be tested for equality.\n",
    "* Because nothing in the formal definition calls for any changes to any of the sets, we can choose an appropriate set representation that makes immutablility obvious or easy to control.\n",
    "* Because we aren't looking for subsets of any of the sets, we can choose an appropriate set representation that doesn't supply this operation.\n",
    "\n",
    "For this reason, enums, whose set contents are created statically (unless you're trying hard to do something dynamic) may make sense in this case.\n",
    "\n",
    "**What is an input alphabet**\n",
    "\n",
    "An input alphabet are the events (flags / commands) that are externally supplied that can trigger a change in your state machine.\n",
    "\n",
    "**What is an output alphabet**\n",
    "\n",
    "An output alphabet is what you're getting your state machine to generate. \n",
    "\n",
    "For example, if your state-machine needs to flag that a special state (or set of states) has been reached, you do that by using an output alphabet - 0 for not reached and 1 for reached. \n",
    "\n",
    "*If you don't care about special outputs, it's perfectly valid (according to the formal definition), to treat the state as your output alphabet*\n",
    "\n",
    "**How do you pick a suitable representation for the transition and output functions**\n",
    "\n",
    "Two choices are to use a python function, or a dictionary - with dictionaries being possibly a little more succinct.\n",
    "\n",
    "**What might a state machine class look like?**\n",
    "\n",
    "Below"
   ]
  },
  {
   "cell_type": "code",
   "execution_count": 38,
   "metadata": {},
   "outputs": [],
   "source": [
    "import typing\n",
    "import itertools\n",
    "from IPython.display import Image, display\n",
    "from typing import *\n",
    "from enum import Enum\n",
    "import networkx as nx\n",
    "import networkx.drawing.nx_pydot as nxdot"
   ]
  },
  {
   "cell_type": "code",
   "execution_count": 14,
   "metadata": {},
   "outputs": [],
   "source": [
    "# Generic placeholder type for a member of the set of states\n",
    "StateT = TypeVar('StateT')\n",
    "\n",
    "# Generic placeholder for a member of the input alphabet set\n",
    "InputT = TypeVar('InputT')\n",
    "\n",
    "# Generic placeholder for a member of the output alphabet\n",
    "OutputT = TypeVar('OutputT')\n",
    "\n",
    "class MealyMachine(Generic[StateT, InputT, OutputT]):\n",
    "\n",
    "    def __init__(self, initial : StateT):\n",
    "        self.current = initial\n",
    "\n",
    "    def _transition(self, state : StateT, event : InputT) -> StateT:\n",
    "        raise NotImplemented('not implemented')\n",
    "\n",
    "    def _output(self, state : StateT, event : InputT) -> OutputT:\n",
    "        raise NotImplemented('not implemented')\n",
    "\n",
    "    def step(self, event : InputT) -> OutputT:\n",
    "        self.current = self._transition(self.current, event)\n",
    "        output = self._output(self.current, event)\n",
    "        return output"
   ]
  },
  {
   "cell_type": "markdown",
   "metadata": {},
   "source": [
    "**What would sample state and transition enums look like?**"
   ]
  },
  {
   "cell_type": "code",
   "execution_count": null,
   "metadata": {},
   "outputs": [],
   "source": [
    "class StateEnum(Enum):\n",
    "    foo = 1\n",
    "    bar = 2\n",
    "\n",
    "class TransitionEnum(Enum):\n",
    "    a = 1\n",
    "    b = 2"
   ]
  },
  {
   "cell_type": "markdown",
   "metadata": {},
   "source": [
    "**How do I use an implementation look if a dictionary described transitions?**\n",
    "\n",
    "Below"
   ]
  },
  {
   "cell_type": "code",
   "execution_count": 5,
   "metadata": {},
   "outputs": [
    {
     "name": "stdout",
     "output_type": "stream",
     "text": [
      "StateEnum.foo\n",
      "StateEnum.foo\n",
      "StateEnum.bar\n",
      "StateEnum.bar\n",
      "StateEnum.foo\n"
     ]
    }
   ],
   "source": [
    "class ConcreteMealy(MealyMachine[StateEnum, TransitionEnum, StateEnum]):\n",
    "\n",
    "    def __init__(self,\n",
    "                 table : Dict[Tuple[StateEnum, TransitionEnum], StateEnum],\n",
    "                 *args):\n",
    "        super(ConcreteMealy, self).__init__(*args)\n",
    "        self.table = table\n",
    "\n",
    "    def _transition(self, state, event):\n",
    "        return self.table[(state, event)]\n",
    "\n",
    "    def _output(self, state, event):\n",
    "        return state\n",
    "\n",
    "table = {\n",
    "    (StateEnum.foo, TransitionEnum.a) : StateEnum.foo,\n",
    "    (StateEnum.bar, TransitionEnum.a) : StateEnum.bar,\n",
    "    (StateEnum.foo, TransitionEnum.b) : StateEnum.bar,\n",
    "    (StateEnum.bar, TransitionEnum.b) : StateEnum.foo,\n",
    "} \n",
    "\n",
    "sm = ConcreteMealy(table, StateEnum.foo)\n",
    "print(sm.step(TransitionEnum.a))\n",
    "print(sm.step(TransitionEnum.a))\n",
    "print(sm.step(TransitionEnum.b))\n",
    "print(sm.step(TransitionEnum.a))\n",
    "print(sm.step(TransitionEnum.b))"
   ]
  },
  {
   "cell_type": "markdown",
   "metadata": {},
   "source": [
    "**How would that look if the transition function wasn implemented as a pure function'?**\n",
    "\n",
    "Below"
   ]
  },
  {
   "cell_type": "code",
   "execution_count": 10,
   "metadata": {},
   "outputs": [
    {
     "name": "stdout",
     "output_type": "stream",
     "text": [
      "StateEnum.foo\n",
      "StateEnum.foo\n",
      "StateEnum.bar\n",
      "StateEnum.bar\n",
      "StateEnum.foo\n"
     ]
    }
   ],
   "source": [
    "class ConcreteMealyWithFunc(MealyMachine[StateEnum, TransitionEnum, StateEnum]):\n",
    "\n",
    "    def __init__(self, *args):\n",
    "        super(ConcreteMealyWithFunc, self).__init__(*args)\n",
    "\n",
    "    def _transition(self, state, event):\n",
    "        if (StateEnum.foo == state) and (TransitionEnum.a == event):\n",
    "            return StateEnum.foo\n",
    "        elif (StateEnum.bar == state) and (TransitionEnum.a == event):\n",
    "            return StateEnum.bar\n",
    "        elif (StateEnum.foo == state) and (TransitionEnum.b == event):\n",
    "            return StateEnum.bar\n",
    "        elif (StateEnum.bar == state) and (TransitionEnum.b == event):\n",
    "            return StateEnum.foo\n",
    "\n",
    "    def _output(self, state, event):\n",
    "        return state\n",
    "\n",
    "sm = ConcreteMealyWithFunc(StateEnum.foo)\n",
    "print(sm.step(TransitionEnum.a))\n",
    "print(sm.step(TransitionEnum.a))\n",
    "print(sm.step(TransitionEnum.b))\n",
    "print(sm.step(TransitionEnum.a))\n",
    "print(sm.step(TransitionEnum.b))"
   ]
  },
  {
   "cell_type": "markdown",
   "metadata": {},
   "source": [
    "**How do I make sense of this?**\n",
    "\n",
    "Assuming that the transition function is total (that is, every input has a meaningful output), you can draw a state transition diagram."
   ]
  },
  {
   "cell_type": "code",
   "execution_count": 66,
   "metadata": {},
   "outputs": [
    {
     "data": {
      "image/png": "[encoded data removed]",
      "text/plain": [
       "<IPython.core.display.Image object>"
      ]
     },
     "metadata": {},
     "output_type": "display_data"
    }
   ],
   "source": [
    "def tograph(machine : MealyMachine[StateT, InputT, OutputT],\n",
    "            states : FrozenSet[StateT], \n",
    "            inputs : FrozenSet[InputT]) -> None:\n",
    "    g = nx.DiGraph()\n",
    "    for s, i in itertools.product(states, inputs):\n",
    "        ns = machine._transition(s, i)\n",
    "        g.add_edge(str(s), str(ns), label=str(i))\n",
    "    ng = nxdot.to_pydot(g)\n",
    "    data = ng.create_png(prog='dot')\n",
    "    return display(Image(data))\n",
    "    \n",
    "        \n",
    "g = tograph(sm, frozenset(StateEnum), frozenset(TransitionEnum))"
   ]
  }
 ],
 "metadata": {
  "kernelspec": {
   "display_name": "Python 3",
   "language": "python",
   "name": "python3"
  },
  "language_info": {
   "codemirror_mode": {
    "name": "ipython",
    "version": 3
   },
   "file_extension": ".py",
   "mimetype": "text/x-python",
   "name": "python",
   "nbconvert_exporter": "python",
   "pygments_lexer": "ipython3",
   "version": "3.6.3"
  }
 },
 "nbformat": 4,
 "nbformat_minor": 2
}
