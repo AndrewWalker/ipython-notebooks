{
 "cells": [
  {
   "cell_type": "markdown",
   "metadata": {},
   "source": [
    "# AST Experiments"
   ]
  },
  {
   "cell_type": "code",
   "execution_count": 65,
   "metadata": {
    "collapsed": true
   },
   "outputs": [],
   "source": [
    "import ast\n",
    "from pprint import pprint"
   ]
  },
  {
   "cell_type": "markdown",
   "metadata": {},
   "source": [
    "## Build an S-expression from an expression\n",
    "\n",
    "For a much more complete version of ast to s-expression generation, look at https://github.com/mattmight/python-to-sexp/blob/master/pysx"
   ]
  },
  {
   "cell_type": "code",
   "execution_count": 49,
   "metadata": {
    "collapsed": false
   },
   "outputs": [
    {
     "name": "stdout",
     "output_type": "stream",
     "text": [
      "('+', 1, ('*', 2, 3.0))\n"
     ]
    }
   ],
   "source": [
    "class Visitor(ast.NodeVisitor):\n",
    "    \"\"\"Minimal visitor\n",
    "    \"\"\"\n",
    "    \n",
    "    def generic_visit(self, node):\n",
    "        return ast.NodeVisitor.generic_visit(self, node)\n",
    "    \n",
    "    def visit_Module(self, node):\n",
    "        \"\"\"Ignore the fact that a module may have more than one statement\n",
    "        \"\"\"\n",
    "        res = self.visit(node.body[0])\n",
    "        return res\n",
    "    \n",
    "    def visit_Expr(self, node):\n",
    "        res = self.visit(node.value)\n",
    "        return res\n",
    "    \n",
    "    def visit_BinOp(self, node):\n",
    "        left  = self.visit(node.left)\n",
    "        right = self.visit(node.right)\n",
    "        opname = node.op.__class__.__name__\n",
    "        kind = {\n",
    "            'Add'  : '+',\n",
    "            'Mult' : '*',\n",
    "        }\n",
    "        return (kind[opname], left, right)\n",
    "    \n",
    "    def visit_Num(self, node):\n",
    "        return node.n\n"
   ]
  },
  {
   "cell_type": "code",
   "execution_count": 56,
   "metadata": {
    "collapsed": false
   },
   "outputs": [],
   "source": [
    "def generate(src):\n",
    "    tree = ast.parse(src)\n",
    "    v = Visitor()\n",
    "    return v.visit(tree)\n",
    "\n",
    "assert(generate('1') == 1)\n",
    "assert(generate('1+1') == ('+', 1, 1))\n",
    "assert(generate('1+2*3.') == ('+', 1, ('*', 2, 3.0)))"
   ]
  },
  {
   "cell_type": "markdown",
   "metadata": {},
   "source": [
    "## Flatten an expression\n",
    "\n",
    "This approach was inspired by the work of Alex Gaynor, and his presentation [So you want to write an interpreter](http://pyvideo.org/video/1694/so-you-want-to-write-an-interpreter). \n",
    "\n",
    "This is an incredibly naive approach to code generation of any form (even compared to Alex's presentation), but it's a start"
   ]
  },
  {
   "cell_type": "code",
   "execution_count": 70,
   "metadata": {
    "collapsed": false
   },
   "outputs": [
    {
     "name": "stdout",
     "output_type": "stream",
     "text": [
      "['__tmp0 = 1',\n",
      " '__tmp1 = 2',\n",
      " '__tmp2 = 3',\n",
      " '__tmp3 = __tmp1 * __tmp2',\n",
      " '__tmp4 = __tmp0 + __tmp3',\n",
      " '__tmp5 = 4',\n",
      " '__tmp6 = 5',\n",
      " '__tmp7 = __tmp5 * __tmp6',\n",
      " '__tmp8 = __tmp4 + __tmp7']\n"
     ]
    }
   ],
   "source": [
    "class Context(object):\n",
    "    def __init__(self):\n",
    "        self._instr = []\n",
    "    \n",
    "    def emit(self, s):\n",
    "        self._instr.append(s)\n",
    "        \n",
    "    def tmp(self):\n",
    "        return '__tmp%d' % len(self._instr)\n",
    "\n",
    "class Visitor(ast.NodeVisitor):\n",
    "    \"\"\"Minimal visitor\n",
    "    \"\"\"\n",
    "    \n",
    "    def __init__(self, ctx):\n",
    "        self.ctx = ctx\n",
    "    \n",
    "    def visit_BinOp(self, node):\n",
    "        left  = self.visit(node.left)\n",
    "        right = self.visit(node.right)\n",
    "        opname = node.op.__class__.__name__\n",
    "        kind = {\n",
    "            'Add'  : '+',\n",
    "            'Mult' : '*',\n",
    "        }\n",
    "        what = self.ctx.tmp()\n",
    "        self.ctx.emit('%s = %s %s %s' % (what, left, kind[opname], right))\n",
    "        return what\n",
    "    \n",
    "    def visit_Num(self, node):\n",
    "        what = self.ctx.tmp() \n",
    "        self.ctx.emit('%s = %s' % (what, node.n))\n",
    "        return what\n",
    "\n",
    "ctx = Context()\n",
    "vis = Visitor(ctx)\n",
    "tree = ast.parse('1+2*3+4*5')\n",
    "vis.visit(tree)\n",
    "pprint(ctx._instr)"
   ]
  },
  {
   "cell_type": "code",
   "execution_count": null,
   "metadata": {
    "collapsed": true
   },
   "outputs": [],
   "source": []
  }
 ],
 "metadata": {
  "kernelspec": {
   "display_name": "Python 2",
   "language": "python",
   "name": "python2"
  },
  "language_info": {
   "codemirror_mode": {
    "name": "ipython",
    "version": 2
   },
   "file_extension": ".py",
   "mimetype": "text/x-python",
   "name": "python",
   "nbconvert_exporter": "python",
   "pygments_lexer": "ipython2",
   "version": "2.7.9"
  }
 },
 "nbformat": 4,
 "nbformat_minor": 0
}
