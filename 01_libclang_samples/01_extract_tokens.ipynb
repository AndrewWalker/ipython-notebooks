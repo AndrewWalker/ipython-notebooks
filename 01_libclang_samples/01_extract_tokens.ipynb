{
 "cells": [
  {
   "cell_type": "markdown",
   "metadata": {},
   "source": [
    "# Extract tokens with libclang"
   ]
  },
  {
   "cell_type": "code",
   "execution_count": 2,
   "metadata": {
    "collapsed": false
   },
   "outputs": [
    {
     "name": "stdout",
     "output_type": "stream",
     "text": [
      "Token Value    =  struct\n",
      "Token Type     =  TokenKind.KEYWORD\n",
      "Token Location =  <SourceLocation file 'tmp.cpp', line 2, column 1>\n",
      "Token Aux      =  CursorKind.STRUCT_DECL Type\n",
      "\n",
      "Token Value    =  Type\n",
      "Token Type     =  TokenKind.IDENTIFIER\n",
      "Token Location =  <SourceLocation file 'tmp.cpp', line 2, column 8>\n",
      "Token Aux      =  CursorKind.STRUCT_DECL Type\n",
      "\n",
      "Token Value    =  ;\n",
      "Token Type     =  TokenKind.PUNCTUATION\n",
      "Token Location =  <SourceLocation file 'tmp.cpp', line 2, column 12>\n",
      "Token Aux      =  CursorKind.INVALID_FILE \n",
      "\n",
      "Token Value    =  void\n",
      "Token Type     =  TokenKind.KEYWORD\n",
      "Token Location =  <SourceLocation file 'tmp.cpp', line 3, column 1>\n",
      "Token Aux      =  CursorKind.FUNCTION_DECL foo\n",
      "\n",
      "Token Value    =  foo\n",
      "Token Type     =  TokenKind.IDENTIFIER\n",
      "Token Location =  <SourceLocation file 'tmp.cpp', line 3, column 6>\n",
      "Token Aux      =  CursorKind.FUNCTION_DECL foo\n",
      "\n",
      "Token Value    =  (\n",
      "Token Type     =  TokenKind.PUNCTUATION\n",
      "Token Location =  <SourceLocation file 'tmp.cpp', line 3, column 9>\n",
      "Token Aux      =  CursorKind.FUNCTION_DECL foo\n",
      "\n",
      "Token Value    =  Type\n",
      "Token Type     =  TokenKind.IDENTIFIER\n",
      "Token Location =  <SourceLocation file 'tmp.cpp', line 3, column 10>\n",
      "Token Aux      =  CursorKind.TYPE_REF struct Type\n",
      "\n",
      "Token Value    =  param\n",
      "Token Type     =  TokenKind.IDENTIFIER\n",
      "Token Location =  <SourceLocation file 'tmp.cpp', line 3, column 15>\n",
      "Token Aux      =  CursorKind.PARM_DECL param\n",
      "\n",
      "Token Value    =  )\n",
      "Token Type     =  TokenKind.PUNCTUATION\n",
      "Token Location =  <SourceLocation file 'tmp.cpp', line 3, column 20>\n",
      "Token Aux      =  CursorKind.FUNCTION_DECL foo\n",
      "\n",
      "Token Value    =  ;\n",
      "Token Type     =  TokenKind.PUNCTUATION\n",
      "Token Location =  <SourceLocation file 'tmp.cpp', line 3, column 21>\n",
      "Token Aux      =  CursorKind.INVALID_FILE \n",
      "\n"
     ]
    }
   ],
   "source": [
    "import clang.cindex\n",
    "\n",
    "s = '''\n",
    "struct Type;\n",
    "void foo(Type param);\n",
    "'''\n",
    "\n",
    "idx = clang.cindex.Index.create()\n",
    "tu = idx.parse('tmp.cpp', args=['-std=c++11'],  unsaved_files=[('tmp.cpp', s)],  options=0)\n",
    "for t in tu.get_tokens(extent=tu.cursor.extent):\n",
    "    print 'Token Value    = ', t.spelling\n",
    "    print 'Token Type     = ', t.kind\n",
    "    print 'Token Location = ', t.location\n",
    "    print 'Token Aux      = ', t.cursor.kind, t.cursor.spelling\n",
    "    print\n"
   ]
  },
  {
   "cell_type": "code",
   "execution_count": null,
   "metadata": {
    "collapsed": false
   },
   "outputs": [],
   "source": []
  }
 ],
 "metadata": {
  "kernelspec": {
   "display_name": "Python 2",
   "language": "python",
   "name": "python2"
  },
  "language_info": {
   "codemirror_mode": {
    "name": "ipython",
    "version": 2
   },
   "file_extension": ".py",
   "mimetype": "text/x-python",
   "name": "python",
   "nbconvert_exporter": "python",
   "pygments_lexer": "ipython2",
   "version": "2.7.11"
  }
 },
 "nbformat": 4,
 "nbformat_minor": 0
}
