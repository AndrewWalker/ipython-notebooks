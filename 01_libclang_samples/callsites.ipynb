{
 "cells": [
  {
   "cell_type": "markdown",
   "metadata": {},
   "source": [
    "# Associating libclang callsites with declarations\n",
    "\n",
    "How do you find the locations (line and column position) of all the references of a specific function declaration when parsing a C++ source file via libclang in Python."
   ]
  },
  {
   "cell_type": "code",
   "execution_count": 34,
   "metadata": {
    "collapsed": false
   },
   "outputs": [
    {
     "name": "stdout",
     "output_type": "stream",
     "text": [
      "#include <iostream>\r\n",
      "using namespace std;\r\n",
      "\r\n",
      "namespace impl {\r\n",
      "    int addition(int x, int y) {\r\n",
      "        return x + y;\r\n",
      "    }\r\n",
      "\r\n",
      "    void f() {\r\n",
      "        addition(2, 3);\r\n",
      "    }\r\n",
      "}\r\n",
      "\r\n",
      "int addition (int a, int b) {\r\n",
      "  int r;\r\n",
      "  r=a+b;\r\n",
      "  return r;\r\n",
      "}\r\n",
      "\r\n",
      "int main () {\r\n",
      "  int z, q;\r\n",
      "  z = addition (5,3);\r\n",
      "  q = addition (5,5);\r\n",
      "  cout << \"The first result is \" << z;\r\n",
      "  cout << \"The second result is \" << q;\r\n",
      "}\r\n"
     ]
    }
   ],
   "source": [
    "!cat tmp.cpp"
   ]
  },
  {
   "cell_type": "code",
   "execution_count": 14,
   "metadata": {
    "collapsed": true
   },
   "outputs": [],
   "source": [
    "def is_function_call(funcdecl, c):\n",
    "    defn = c.get_definition()\n",
    "    return (defn is not None) and (defn == funcdecl)\n",
    "\n",
    "def fully_qualified(c):\n",
    "    res = c.spelling\n",
    "    c = c.semantic_parent\n",
    "    while c.kind != CursorKind.TRANSLATION_UNIT:\n",
    "        res = c.spelling + '::' + res\n",
    "        c = c.semantic_parent\n",
    "    return res"
   ]
  },
  {
   "cell_type": "markdown",
   "metadata": {},
   "source": [
    "## Using just the libclang API"
   ]
  },
  {
   "cell_type": "code",
   "execution_count": 15,
   "metadata": {
    "collapsed": false
   },
   "outputs": [
    {
     "name": "stdout",
     "output_type": "stream",
     "text": [
      "impl::addition\n",
      "- <SourceLocation file 'tmp.cpp', line 10, column 9>\n",
      "\n",
      "impl::f\n",
      "\n",
      "addition\n",
      "- <SourceLocation file 'tmp.cpp', line 22, column 7>\n",
      "- <SourceLocation file 'tmp.cpp', line 23, column 7>\n",
      "\n",
      "main\n",
      "\n"
     ]
    }
   ],
   "source": [
    "def find_funcs_and_calls(tu):\n",
    "    filename = tu.cursor.spelling\n",
    "    calls = []\n",
    "    funcs = []\n",
    "    for c in tu.cursor.walk_preorder():\n",
    "        if c.location.file is None:\n",
    "            pass\n",
    "        elif c.location.file.name != filename:\n",
    "            pass\n",
    "        elif c.kind == CursorKind.CALL_EXPR:\n",
    "            calls.append(c)\n",
    "        elif c.kind == CursorKind.FUNCTION_DECL:\n",
    "            funcs.append(c)\n",
    "    return funcs, calls\n",
    "\n",
    "idx = Index.create()\n",
    "args =  '-x c++ --std=c++11'.split()\n",
    "tu = idx.parse('tmp.cpp', args=args)\n",
    "funcs, calls = find_funcs_and_calls(tu)\n",
    "for f in funcs:\n",
    "    print fully_qualified(f)\n",
    "    for c in calls:\n",
    "        if is_function_call(f, c):\n",
    "            print '-', c.location\n",
    "    print\n"
   ]
  },
  {
   "cell_type": "markdown",
   "metadata": {},
   "source": [
    "## Using glud\n",
    "\n",
    "In this case, it's harder to read the glud code than the libclang code - however I can certainly write code like this much faster."
   ]
  },
  {
   "cell_type": "code",
   "execution_count": 16,
   "metadata": {
    "collapsed": false
   },
   "outputs": [
    {
     "name": "stdout",
     "output_type": "stream",
     "text": [
      "impl::addition\n",
      "- <SourceLocation file 'tmp.cpp', line 10, column 9>\n",
      "\n",
      "impl::f\n",
      "\n",
      "addition\n",
      "- <SourceLocation file 'tmp.cpp', line 22, column 7>\n",
      "- <SourceLocation file 'tmp.cpp', line 23, column 7>\n",
      "\n",
      "main\n",
      "\n"
     ]
    }
   ],
   "source": [
    "import glud\n",
    "from glud.composition import *\n",
    "from glud.predicates import *\n",
    "\n",
    "tu = glud.parse('tmp.cpp', args='-x c++ --std=c++11'.split())\n",
    "is_in_tu_main = is_in_file(tu.cursor.spelling)\n",
    "is_func = all_fn([is_in_tu_main, is_func])\n",
    "is_call = all_fn([is_in_tu_main, is_kind(CursorKind.CALL_EXPR)])\n",
    "funcs = glud.walk(is_func, tu.cursor)\n",
    "calls = list(glud.walk(is_call, tu.cursor)()\n",
    "\n",
    "for f in funcs:\n",
    "    print fully_qualified(f)\n",
    "    for c in calls:\n",
    "        if is_function_call(f, c):\n",
    "            print '-', c.location\n",
    "    print"
   ]
  },
  {
   "cell_type": "code",
   "execution_count": null,
   "metadata": {
    "collapsed": true
   },
   "outputs": [],
   "source": []
  }
 ],
 "metadata": {
  "kernelspec": {
   "display_name": "Python 2",
   "language": "python",
   "name": "python2"
  },
  "language_info": {
   "codemirror_mode": {
    "name": "ipython",
    "version": 2
   },
   "file_extension": ".py",
   "mimetype": "text/x-python",
   "name": "python",
   "nbconvert_exporter": "python",
   "pygments_lexer": "ipython2",
   "version": "2.7.10"
  }
 },
 "nbformat": 4,
 "nbformat_minor": 0
}
