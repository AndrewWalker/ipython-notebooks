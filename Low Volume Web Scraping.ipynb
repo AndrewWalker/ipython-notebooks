{
 "cells": [
  {
   "cell_type": "code",
   "execution_count": 27,
   "metadata": {
    "collapsed": true
   },
   "outputs": [],
   "source": [
    "import requests\n",
    "import bs4\n",
    "import os\n",
    "import pprint"
   ]
  },
  {
   "cell_type": "markdown",
   "metadata": {},
   "source": [
    "# Script the download of MIT courses\n",
    "\n",
    "Generate wget commands to download the course is \"Geometric Folding Algorithms: Linkages, Origami, Polyhedra\""
   ]
  },
  {
   "cell_type": "code",
   "execution_count": 25,
   "metadata": {
    "collapsed": false
   },
   "outputs": [],
   "source": [
    "url = 'https://archive.org/download/MIT6.849F12/'\n",
    "req = requests.get(url)\n",
    "soup = bs4.BeautifulSoup(req.text)\n",
    "\n",
    "lst = []\n",
    "for link in soup.find_all('a'):\n",
    "    if link.has_attr('href'):\n",
    "        link = link['href']\n",
    "        if os.path.splitext(link)[1] == '.mp4':\n",
    "            lst.append(url + link) \n",
    "            \n",
    "for l in lecs:\n",
    "    print 'wget -c ' + l"
   ]
  },
  {
   "cell_type": "code",
   "execution_count": null,
   "metadata": {
    "collapsed": true
   },
   "outputs": [],
   "source": []
  }
 ],
 "metadata": {
  "kernelspec": {
   "display_name": "Python 2",
   "language": "python",
   "name": "python2"
  },
  "language_info": {
   "codemirror_mode": {
    "name": "ipython",
    "version": 2
   },
   "file_extension": ".py",
   "mimetype": "text/x-python",
   "name": "python",
   "nbconvert_exporter": "python",
   "pygments_lexer": "ipython2",
   "version": "2.7.11"
  }
 },
 "nbformat": 4,
 "nbformat_minor": 0
}
